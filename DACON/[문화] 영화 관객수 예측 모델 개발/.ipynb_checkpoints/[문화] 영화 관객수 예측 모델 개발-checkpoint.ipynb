{
 "cells": [
  {
   "cell_type": "markdown",
   "id": "bcb77879",
   "metadata": {},
   "source": [
    "# 영화 관객 수 데이터를 활용한 데이터 분석\n",
    "### 목표: 감독, 이름, 상영등급, 스태프 수 등의 정보로 영화 관객 수를 예측하는 모델을 만드는 것"
   ]
  },
  {
   "cell_type": "markdown",
   "id": "0c662ebd",
   "metadata": {},
   "source": [
    "# Library and Data"
   ]
  },
  {
   "cell_type": "code",
   "execution_count": 1,
   "id": "834686a1",
   "metadata": {},
   "outputs": [],
   "source": [
    "import pandas as pd"
   ]
  },
  {
   "cell_type": "code",
   "execution_count": 2,
   "id": "8a4e6d6d",
   "metadata": {},
   "outputs": [],
   "source": [
    "# 데이터 불러오기\n",
    "train = pd.read_csv('data/movies_train.csv')\n",
    "test = pd.read_csv('data/movies_test.csv')\n",
    "# 답안지(데이콘 제출 전용)\n",
    "submission = pd.read_csv('data/submission.csv')"
   ]
  },
  {
   "cell_type": "markdown",
   "id": "6e036dd3",
   "metadata": {},
   "source": [
    "# Exploratory Data Analysis(EDA)\n",
    "## 탐색전 자료 분석"
   ]
  },
  {
   "cell_type": "markdown",
   "id": "41a39ff8",
   "metadata": {},
   "source": [
    "+ title : 영화의 제목\n",
    "+ distributor : 배급사\n",
    "+ genre : 장르\n",
    "+ release_time : 개봉일\n",
    "+ time : 상영시간(분)\n",
    "+ screening_rat : 상영등급\n",
    "+ director : 감독이름\n",
    "+ dir_prev_bfnum : 해당 감독이 이 영화를 만들기 전 제작에 참여한 영화에서의 평균 관객수(단 관객수가 알려지지 않은 영화 제외)\n",
    "+ dir_prev_num : 해당 감독이 이 영화를 만들기 전 제작에 참여한 영화의 개수(단 관객수가 알려지지 않은 영화 제외)\n",
    "+ num_staff : 스텝수\n",
    "+ num_actor : 주연배우수\n",
    "+ box_off_num : 관객수"
   ]
  },
  {
   "cell_type": "code",
   "execution_count": 3,
   "id": "1249a3b1",
   "metadata": {},
   "outputs": [
    {
     "data": {
      "text/html": [
       "<div>\n",
       "<style scoped>\n",
       "    .dataframe tbody tr th:only-of-type {\n",
       "        vertical-align: middle;\n",
       "    }\n",
       "\n",
       "    .dataframe tbody tr th {\n",
       "        vertical-align: top;\n",
       "    }\n",
       "\n",
       "    .dataframe thead th {\n",
       "        text-align: right;\n",
       "    }\n",
       "</style>\n",
       "<table border=\"1\" class=\"dataframe\">\n",
       "  <thead>\n",
       "    <tr style=\"text-align: right;\">\n",
       "      <th></th>\n",
       "      <th>title</th>\n",
       "      <th>distributor</th>\n",
       "      <th>genre</th>\n",
       "      <th>release_time</th>\n",
       "      <th>time</th>\n",
       "      <th>screening_rat</th>\n",
       "      <th>director</th>\n",
       "      <th>dir_prev_bfnum</th>\n",
       "      <th>dir_prev_num</th>\n",
       "      <th>num_staff</th>\n",
       "      <th>num_actor</th>\n",
       "      <th>box_off_num</th>\n",
       "    </tr>\n",
       "  </thead>\n",
       "  <tbody>\n",
       "    <tr>\n",
       "      <th>0</th>\n",
       "      <td>개들의 전쟁</td>\n",
       "      <td>롯데엔터테인먼트</td>\n",
       "      <td>액션</td>\n",
       "      <td>2012-11-22</td>\n",
       "      <td>96</td>\n",
       "      <td>청소년 관람불가</td>\n",
       "      <td>조병옥</td>\n",
       "      <td>NaN</td>\n",
       "      <td>0</td>\n",
       "      <td>91</td>\n",
       "      <td>2</td>\n",
       "      <td>23398</td>\n",
       "    </tr>\n",
       "    <tr>\n",
       "      <th>1</th>\n",
       "      <td>내부자들</td>\n",
       "      <td>(주)쇼박스</td>\n",
       "      <td>느와르</td>\n",
       "      <td>2015-11-19</td>\n",
       "      <td>130</td>\n",
       "      <td>청소년 관람불가</td>\n",
       "      <td>우민호</td>\n",
       "      <td>1161602.50</td>\n",
       "      <td>2</td>\n",
       "      <td>387</td>\n",
       "      <td>3</td>\n",
       "      <td>7072501</td>\n",
       "    </tr>\n",
       "    <tr>\n",
       "      <th>2</th>\n",
       "      <td>은밀하게 위대하게</td>\n",
       "      <td>(주)쇼박스</td>\n",
       "      <td>액션</td>\n",
       "      <td>2013-06-05</td>\n",
       "      <td>123</td>\n",
       "      <td>15세 관람가</td>\n",
       "      <td>장철수</td>\n",
       "      <td>220775.25</td>\n",
       "      <td>4</td>\n",
       "      <td>343</td>\n",
       "      <td>4</td>\n",
       "      <td>6959083</td>\n",
       "    </tr>\n",
       "    <tr>\n",
       "      <th>3</th>\n",
       "      <td>나는 공무원이다</td>\n",
       "      <td>(주)NEW</td>\n",
       "      <td>코미디</td>\n",
       "      <td>2012-07-12</td>\n",
       "      <td>101</td>\n",
       "      <td>전체 관람가</td>\n",
       "      <td>구자홍</td>\n",
       "      <td>23894.00</td>\n",
       "      <td>2</td>\n",
       "      <td>20</td>\n",
       "      <td>6</td>\n",
       "      <td>217866</td>\n",
       "    </tr>\n",
       "    <tr>\n",
       "      <th>4</th>\n",
       "      <td>불량남녀</td>\n",
       "      <td>쇼박스(주)미디어플렉스</td>\n",
       "      <td>코미디</td>\n",
       "      <td>2010-11-04</td>\n",
       "      <td>108</td>\n",
       "      <td>15세 관람가</td>\n",
       "      <td>신근호</td>\n",
       "      <td>1.00</td>\n",
       "      <td>1</td>\n",
       "      <td>251</td>\n",
       "      <td>2</td>\n",
       "      <td>483387</td>\n",
       "    </tr>\n",
       "  </tbody>\n",
       "</table>\n",
       "</div>"
      ],
      "text/plain": [
       "       title   distributor genre release_time  time screening_rat director  \\\n",
       "0     개들의 전쟁      롯데엔터테인먼트    액션   2012-11-22    96      청소년 관람불가      조병옥   \n",
       "1       내부자들        (주)쇼박스   느와르   2015-11-19   130      청소년 관람불가      우민호   \n",
       "2  은밀하게 위대하게        (주)쇼박스    액션   2013-06-05   123       15세 관람가      장철수   \n",
       "3   나는 공무원이다        (주)NEW   코미디   2012-07-12   101        전체 관람가      구자홍   \n",
       "4       불량남녀  쇼박스(주)미디어플렉스   코미디   2010-11-04   108       15세 관람가      신근호   \n",
       "\n",
       "   dir_prev_bfnum  dir_prev_num  num_staff  num_actor  box_off_num  \n",
       "0             NaN             0         91          2        23398  \n",
       "1      1161602.50             2        387          3      7072501  \n",
       "2       220775.25             4        343          4      6959083  \n",
       "3        23894.00             2         20          6       217866  \n",
       "4            1.00             1        251          2       483387  "
      ]
     },
     "execution_count": 3,
     "metadata": {},
     "output_type": "execute_result"
    }
   ],
   "source": [
    "train.head()"
   ]
  },
  {
   "cell_type": "code",
   "execution_count": 4,
   "id": "0395757a",
   "metadata": {},
   "outputs": [
    {
     "data": {
      "text/html": [
       "<div>\n",
       "<style scoped>\n",
       "    .dataframe tbody tr th:only-of-type {\n",
       "        vertical-align: middle;\n",
       "    }\n",
       "\n",
       "    .dataframe tbody tr th {\n",
       "        vertical-align: top;\n",
       "    }\n",
       "\n",
       "    .dataframe thead th {\n",
       "        text-align: right;\n",
       "    }\n",
       "</style>\n",
       "<table border=\"1\" class=\"dataframe\">\n",
       "  <thead>\n",
       "    <tr style=\"text-align: right;\">\n",
       "      <th></th>\n",
       "      <th>title</th>\n",
       "      <th>distributor</th>\n",
       "      <th>genre</th>\n",
       "      <th>release_time</th>\n",
       "      <th>time</th>\n",
       "      <th>screening_rat</th>\n",
       "      <th>director</th>\n",
       "      <th>dir_prev_bfnum</th>\n",
       "      <th>dir_prev_num</th>\n",
       "      <th>num_staff</th>\n",
       "      <th>num_actor</th>\n",
       "    </tr>\n",
       "  </thead>\n",
       "  <tbody>\n",
       "    <tr>\n",
       "      <th>0</th>\n",
       "      <td>용서는 없다</td>\n",
       "      <td>시네마서비스</td>\n",
       "      <td>느와르</td>\n",
       "      <td>2010-01-07</td>\n",
       "      <td>125</td>\n",
       "      <td>청소년 관람불가</td>\n",
       "      <td>김형준</td>\n",
       "      <td>3.005290e+05</td>\n",
       "      <td>2</td>\n",
       "      <td>304</td>\n",
       "      <td>3</td>\n",
       "    </tr>\n",
       "    <tr>\n",
       "      <th>1</th>\n",
       "      <td>아빠가 여자를 좋아해</td>\n",
       "      <td>(주)쇼박스</td>\n",
       "      <td>멜로/로맨스</td>\n",
       "      <td>2010-01-14</td>\n",
       "      <td>113</td>\n",
       "      <td>12세 관람가</td>\n",
       "      <td>이광재</td>\n",
       "      <td>3.427002e+05</td>\n",
       "      <td>4</td>\n",
       "      <td>275</td>\n",
       "      <td>3</td>\n",
       "    </tr>\n",
       "    <tr>\n",
       "      <th>2</th>\n",
       "      <td>하모니</td>\n",
       "      <td>CJ 엔터테인먼트</td>\n",
       "      <td>드라마</td>\n",
       "      <td>2010-01-28</td>\n",
       "      <td>115</td>\n",
       "      <td>12세 관람가</td>\n",
       "      <td>강대규</td>\n",
       "      <td>4.206611e+06</td>\n",
       "      <td>3</td>\n",
       "      <td>419</td>\n",
       "      <td>7</td>\n",
       "    </tr>\n",
       "    <tr>\n",
       "      <th>3</th>\n",
       "      <td>의형제</td>\n",
       "      <td>(주)쇼박스</td>\n",
       "      <td>액션</td>\n",
       "      <td>2010-02-04</td>\n",
       "      <td>116</td>\n",
       "      <td>15세 관람가</td>\n",
       "      <td>장훈</td>\n",
       "      <td>6.913420e+05</td>\n",
       "      <td>2</td>\n",
       "      <td>408</td>\n",
       "      <td>2</td>\n",
       "    </tr>\n",
       "    <tr>\n",
       "      <th>4</th>\n",
       "      <td>평행 이론</td>\n",
       "      <td>CJ 엔터테인먼트</td>\n",
       "      <td>공포</td>\n",
       "      <td>2010-02-18</td>\n",
       "      <td>110</td>\n",
       "      <td>15세 관람가</td>\n",
       "      <td>권호영</td>\n",
       "      <td>3.173800e+04</td>\n",
       "      <td>1</td>\n",
       "      <td>380</td>\n",
       "      <td>1</td>\n",
       "    </tr>\n",
       "  </tbody>\n",
       "</table>\n",
       "</div>"
      ],
      "text/plain": [
       "         title distributor   genre release_time  time screening_rat director  \\\n",
       "0       용서는 없다      시네마서비스     느와르   2010-01-07   125      청소년 관람불가      김형준   \n",
       "1  아빠가 여자를 좋아해      (주)쇼박스  멜로/로맨스   2010-01-14   113       12세 관람가      이광재   \n",
       "2          하모니   CJ 엔터테인먼트     드라마   2010-01-28   115       12세 관람가      강대규   \n",
       "3          의형제      (주)쇼박스      액션   2010-02-04   116       15세 관람가       장훈   \n",
       "4        평행 이론   CJ 엔터테인먼트      공포   2010-02-18   110       15세 관람가      권호영   \n",
       "\n",
       "   dir_prev_bfnum  dir_prev_num  num_staff  num_actor  \n",
       "0    3.005290e+05             2        304          3  \n",
       "1    3.427002e+05             4        275          3  \n",
       "2    4.206611e+06             3        419          7  \n",
       "3    6.913420e+05             2        408          2  \n",
       "4    3.173800e+04             1        380          1  "
      ]
     },
     "execution_count": 4,
     "metadata": {},
     "output_type": "execute_result"
    }
   ],
   "source": [
    "test.head()"
   ]
  },
  {
   "cell_type": "code",
   "execution_count": 5,
   "id": "44886e26",
   "metadata": {},
   "outputs": [
    {
     "data": {
      "text/html": [
       "<div>\n",
       "<style scoped>\n",
       "    .dataframe tbody tr th:only-of-type {\n",
       "        vertical-align: middle;\n",
       "    }\n",
       "\n",
       "    .dataframe tbody tr th {\n",
       "        vertical-align: top;\n",
       "    }\n",
       "\n",
       "    .dataframe thead th {\n",
       "        text-align: right;\n",
       "    }\n",
       "</style>\n",
       "<table border=\"1\" class=\"dataframe\">\n",
       "  <thead>\n",
       "    <tr style=\"text-align: right;\">\n",
       "      <th></th>\n",
       "      <th>title</th>\n",
       "      <th>box_off_num</th>\n",
       "    </tr>\n",
       "  </thead>\n",
       "  <tbody>\n",
       "    <tr>\n",
       "      <th>0</th>\n",
       "      <td>용서는 없다</td>\n",
       "      <td>0</td>\n",
       "    </tr>\n",
       "    <tr>\n",
       "      <th>1</th>\n",
       "      <td>아빠가 여자를 좋아해</td>\n",
       "      <td>0</td>\n",
       "    </tr>\n",
       "    <tr>\n",
       "      <th>2</th>\n",
       "      <td>하모니</td>\n",
       "      <td>0</td>\n",
       "    </tr>\n",
       "    <tr>\n",
       "      <th>3</th>\n",
       "      <td>의형제</td>\n",
       "      <td>0</td>\n",
       "    </tr>\n",
       "    <tr>\n",
       "      <th>4</th>\n",
       "      <td>평행 이론</td>\n",
       "      <td>0</td>\n",
       "    </tr>\n",
       "  </tbody>\n",
       "</table>\n",
       "</div>"
      ],
      "text/plain": [
       "         title  box_off_num\n",
       "0       용서는 없다            0\n",
       "1  아빠가 여자를 좋아해            0\n",
       "2          하모니            0\n",
       "3          의형제            0\n",
       "4        평행 이론            0"
      ]
     },
     "execution_count": 5,
     "metadata": {},
     "output_type": "execute_result"
    }
   ],
   "source": [
    "submission.head()"
   ]
  },
  {
   "cell_type": "code",
   "execution_count": 6,
   "id": "a87ba5a4",
   "metadata": {},
   "outputs": [
    {
     "data": {
      "text/html": [
       "<div>\n",
       "<style scoped>\n",
       "    .dataframe tbody tr th:only-of-type {\n",
       "        vertical-align: middle;\n",
       "    }\n",
       "\n",
       "    .dataframe tbody tr th {\n",
       "        vertical-align: top;\n",
       "    }\n",
       "\n",
       "    .dataframe thead th {\n",
       "        text-align: right;\n",
       "    }\n",
       "</style>\n",
       "<table border=\"1\" class=\"dataframe\">\n",
       "  <thead>\n",
       "    <tr style=\"text-align: right;\">\n",
       "      <th></th>\n",
       "      <th>title</th>\n",
       "      <th>distributor</th>\n",
       "      <th>genre</th>\n",
       "      <th>release_time</th>\n",
       "      <th>time</th>\n",
       "      <th>screening_rat</th>\n",
       "      <th>director</th>\n",
       "      <th>dir_prev_bfnum</th>\n",
       "      <th>dir_prev_num</th>\n",
       "      <th>num_staff</th>\n",
       "      <th>num_actor</th>\n",
       "      <th>box_off_num</th>\n",
       "    </tr>\n",
       "  </thead>\n",
       "  <tbody>\n",
       "    <tr>\n",
       "      <th>595</th>\n",
       "      <td>해무</td>\n",
       "      <td>(주)NEW</td>\n",
       "      <td>드라마</td>\n",
       "      <td>2014-08-13</td>\n",
       "      <td>111</td>\n",
       "      <td>청소년 관람불가</td>\n",
       "      <td>심성보</td>\n",
       "      <td>3833.0</td>\n",
       "      <td>1</td>\n",
       "      <td>510</td>\n",
       "      <td>7</td>\n",
       "      <td>1475091</td>\n",
       "    </tr>\n",
       "    <tr>\n",
       "      <th>596</th>\n",
       "      <td>파파로티</td>\n",
       "      <td>(주)쇼박스</td>\n",
       "      <td>드라마</td>\n",
       "      <td>2013-03-14</td>\n",
       "      <td>127</td>\n",
       "      <td>15세 관람가</td>\n",
       "      <td>윤종찬</td>\n",
       "      <td>496061.0</td>\n",
       "      <td>1</td>\n",
       "      <td>286</td>\n",
       "      <td>6</td>\n",
       "      <td>1716438</td>\n",
       "    </tr>\n",
       "    <tr>\n",
       "      <th>597</th>\n",
       "      <td>살인의 강</td>\n",
       "      <td>(주)마운틴픽쳐스</td>\n",
       "      <td>공포</td>\n",
       "      <td>2010-09-30</td>\n",
       "      <td>99</td>\n",
       "      <td>청소년 관람불가</td>\n",
       "      <td>김대현</td>\n",
       "      <td>NaN</td>\n",
       "      <td>0</td>\n",
       "      <td>123</td>\n",
       "      <td>4</td>\n",
       "      <td>2475</td>\n",
       "    </tr>\n",
       "    <tr>\n",
       "      <th>598</th>\n",
       "      <td>악의 연대기</td>\n",
       "      <td>CJ 엔터테인먼트</td>\n",
       "      <td>느와르</td>\n",
       "      <td>2015-05-14</td>\n",
       "      <td>102</td>\n",
       "      <td>15세 관람가</td>\n",
       "      <td>백운학</td>\n",
       "      <td>NaN</td>\n",
       "      <td>0</td>\n",
       "      <td>431</td>\n",
       "      <td>4</td>\n",
       "      <td>2192525</td>\n",
       "    </tr>\n",
       "    <tr>\n",
       "      <th>599</th>\n",
       "      <td>베를린</td>\n",
       "      <td>CJ 엔터테인먼트</td>\n",
       "      <td>액션</td>\n",
       "      <td>2013-01-30</td>\n",
       "      <td>120</td>\n",
       "      <td>15세 관람가</td>\n",
       "      <td>류승완</td>\n",
       "      <td>NaN</td>\n",
       "      <td>0</td>\n",
       "      <td>363</td>\n",
       "      <td>5</td>\n",
       "      <td>7166532</td>\n",
       "    </tr>\n",
       "  </tbody>\n",
       "</table>\n",
       "</div>"
      ],
      "text/plain": [
       "      title distributor genre release_time  time screening_rat director  \\\n",
       "595      해무      (주)NEW   드라마   2014-08-13   111      청소년 관람불가      심성보   \n",
       "596    파파로티      (주)쇼박스   드라마   2013-03-14   127       15세 관람가      윤종찬   \n",
       "597   살인의 강   (주)마운틴픽쳐스    공포   2010-09-30    99      청소년 관람불가      김대현   \n",
       "598  악의 연대기   CJ 엔터테인먼트   느와르   2015-05-14   102       15세 관람가      백운학   \n",
       "599     베를린   CJ 엔터테인먼트    액션   2013-01-30   120       15세 관람가      류승완   \n",
       "\n",
       "     dir_prev_bfnum  dir_prev_num  num_staff  num_actor  box_off_num  \n",
       "595          3833.0             1        510          7      1475091  \n",
       "596        496061.0             1        286          6      1716438  \n",
       "597             NaN             0        123          4         2475  \n",
       "598             NaN             0        431          4      2192525  \n",
       "599             NaN             0        363          5      7166532  "
      ]
     },
     "execution_count": 6,
     "metadata": {},
     "output_type": "execute_result"
    }
   ],
   "source": [
    "train.tail()"
   ]
  },
  {
   "cell_type": "code",
   "execution_count": 7,
   "id": "16340d9c",
   "metadata": {},
   "outputs": [
    {
     "name": "stdout",
     "output_type": "stream",
     "text": [
      "(600, 12)\n",
      "(243, 11)\n",
      "(243, 2)\n"
     ]
    }
   ],
   "source": [
    "print(train.shape)\n",
    "# 정답 칼럼이 X\n",
    "print(test.shape)\n",
    "print(submission.shape)"
   ]
  },
  {
   "cell_type": "code",
   "execution_count": 8,
   "id": "17b0bae7",
   "metadata": {},
   "outputs": [
    {
     "name": "stdout",
     "output_type": "stream",
     "text": [
      "<class 'pandas.core.frame.DataFrame'>\n",
      "RangeIndex: 600 entries, 0 to 599\n",
      "Data columns (total 12 columns):\n",
      " #   Column          Non-Null Count  Dtype  \n",
      "---  ------          --------------  -----  \n",
      " 0   title           600 non-null    object \n",
      " 1   distributor     600 non-null    object \n",
      " 2   genre           600 non-null    object \n",
      " 3   release_time    600 non-null    object \n",
      " 4   time            600 non-null    int64  \n",
      " 5   screening_rat   600 non-null    object \n",
      " 6   director        600 non-null    object \n",
      " 7   dir_prev_bfnum  270 non-null    float64\n",
      " 8   dir_prev_num    600 non-null    int64  \n",
      " 9   num_staff       600 non-null    int64  \n",
      " 10  num_actor       600 non-null    int64  \n",
      " 11  box_off_num     600 non-null    int64  \n",
      "dtypes: float64(1), int64(5), object(6)\n",
      "memory usage: 56.4+ KB\n"
     ]
    }
   ],
   "source": [
    "train.info()"
   ]
  },
  {
   "cell_type": "markdown",
   "id": "6e1f099a",
   "metadata": {},
   "source": [
    "**7번이 부족하니 나중에 적절한 데이터를 넣어주어야함**"
   ]
  },
  {
   "cell_type": "code",
   "execution_count": 9,
   "id": "e788f8fc",
   "metadata": {},
   "outputs": [
    {
     "name": "stdout",
     "output_type": "stream",
     "text": [
      "<class 'pandas.core.frame.DataFrame'>\n",
      "RangeIndex: 243 entries, 0 to 242\n",
      "Data columns (total 11 columns):\n",
      " #   Column          Non-Null Count  Dtype  \n",
      "---  ------          --------------  -----  \n",
      " 0   title           243 non-null    object \n",
      " 1   distributor     243 non-null    object \n",
      " 2   genre           243 non-null    object \n",
      " 3   release_time    243 non-null    object \n",
      " 4   time            243 non-null    int64  \n",
      " 5   screening_rat   243 non-null    object \n",
      " 6   director        243 non-null    object \n",
      " 7   dir_prev_bfnum  107 non-null    float64\n",
      " 8   dir_prev_num    243 non-null    int64  \n",
      " 9   num_staff       243 non-null    int64  \n",
      " 10  num_actor       243 non-null    int64  \n",
      "dtypes: float64(1), int64(4), object(6)\n",
      "memory usage: 21.0+ KB\n"
     ]
    }
   ],
   "source": [
    "test.info()"
   ]
  },
  {
   "cell_type": "code",
   "execution_count": 10,
   "id": "bfb1b6c4",
   "metadata": {},
   "outputs": [
    {
     "data": {
      "text/html": [
       "<div>\n",
       "<style scoped>\n",
       "    .dataframe tbody tr th:only-of-type {\n",
       "        vertical-align: middle;\n",
       "    }\n",
       "\n",
       "    .dataframe tbody tr th {\n",
       "        vertical-align: top;\n",
       "    }\n",
       "\n",
       "    .dataframe thead th {\n",
       "        text-align: right;\n",
       "    }\n",
       "</style>\n",
       "<table border=\"1\" class=\"dataframe\">\n",
       "  <thead>\n",
       "    <tr style=\"text-align: right;\">\n",
       "      <th></th>\n",
       "      <th>time</th>\n",
       "      <th>dir_prev_bfnum</th>\n",
       "      <th>dir_prev_num</th>\n",
       "      <th>num_staff</th>\n",
       "      <th>num_actor</th>\n",
       "      <th>box_off_num</th>\n",
       "    </tr>\n",
       "  </thead>\n",
       "  <tbody>\n",
       "    <tr>\n",
       "      <th>count</th>\n",
       "      <td>600.000000</td>\n",
       "      <td>2.700000e+02</td>\n",
       "      <td>600.000000</td>\n",
       "      <td>600.000000</td>\n",
       "      <td>600.000000</td>\n",
       "      <td>6.000000e+02</td>\n",
       "    </tr>\n",
       "    <tr>\n",
       "      <th>mean</th>\n",
       "      <td>100.863333</td>\n",
       "      <td>1.050443e+06</td>\n",
       "      <td>0.876667</td>\n",
       "      <td>151.118333</td>\n",
       "      <td>3.706667</td>\n",
       "      <td>7.081818e+05</td>\n",
       "    </tr>\n",
       "    <tr>\n",
       "      <th>std</th>\n",
       "      <td>18.097528</td>\n",
       "      <td>1.791408e+06</td>\n",
       "      <td>1.183409</td>\n",
       "      <td>165.654671</td>\n",
       "      <td>2.446889</td>\n",
       "      <td>1.828006e+06</td>\n",
       "    </tr>\n",
       "    <tr>\n",
       "      <th>min</th>\n",
       "      <td>45.000000</td>\n",
       "      <td>1.000000e+00</td>\n",
       "      <td>0.000000</td>\n",
       "      <td>0.000000</td>\n",
       "      <td>0.000000</td>\n",
       "      <td>1.000000e+00</td>\n",
       "    </tr>\n",
       "    <tr>\n",
       "      <th>25%</th>\n",
       "      <td>89.000000</td>\n",
       "      <td>2.038000e+04</td>\n",
       "      <td>0.000000</td>\n",
       "      <td>17.000000</td>\n",
       "      <td>2.000000</td>\n",
       "      <td>1.297250e+03</td>\n",
       "    </tr>\n",
       "    <tr>\n",
       "      <th>50%</th>\n",
       "      <td>100.000000</td>\n",
       "      <td>4.784236e+05</td>\n",
       "      <td>0.000000</td>\n",
       "      <td>82.500000</td>\n",
       "      <td>3.000000</td>\n",
       "      <td>1.259100e+04</td>\n",
       "    </tr>\n",
       "    <tr>\n",
       "      <th>75%</th>\n",
       "      <td>114.000000</td>\n",
       "      <td>1.286569e+06</td>\n",
       "      <td>2.000000</td>\n",
       "      <td>264.000000</td>\n",
       "      <td>4.000000</td>\n",
       "      <td>4.798868e+05</td>\n",
       "    </tr>\n",
       "    <tr>\n",
       "      <th>max</th>\n",
       "      <td>180.000000</td>\n",
       "      <td>1.761531e+07</td>\n",
       "      <td>5.000000</td>\n",
       "      <td>869.000000</td>\n",
       "      <td>25.000000</td>\n",
       "      <td>1.426277e+07</td>\n",
       "    </tr>\n",
       "  </tbody>\n",
       "</table>\n",
       "</div>"
      ],
      "text/plain": [
       "             time  dir_prev_bfnum  dir_prev_num   num_staff   num_actor  \\\n",
       "count  600.000000    2.700000e+02    600.000000  600.000000  600.000000   \n",
       "mean   100.863333    1.050443e+06      0.876667  151.118333    3.706667   \n",
       "std     18.097528    1.791408e+06      1.183409  165.654671    2.446889   \n",
       "min     45.000000    1.000000e+00      0.000000    0.000000    0.000000   \n",
       "25%     89.000000    2.038000e+04      0.000000   17.000000    2.000000   \n",
       "50%    100.000000    4.784236e+05      0.000000   82.500000    3.000000   \n",
       "75%    114.000000    1.286569e+06      2.000000  264.000000    4.000000   \n",
       "max    180.000000    1.761531e+07      5.000000  869.000000   25.000000   \n",
       "\n",
       "        box_off_num  \n",
       "count  6.000000e+02  \n",
       "mean   7.081818e+05  \n",
       "std    1.828006e+06  \n",
       "min    1.000000e+00  \n",
       "25%    1.297250e+03  \n",
       "50%    1.259100e+04  \n",
       "75%    4.798868e+05  \n",
       "max    1.426277e+07  "
      ]
     },
     "execution_count": 10,
     "metadata": {},
     "output_type": "execute_result"
    }
   ],
   "source": [
    "train.describe()"
   ]
  },
  {
   "cell_type": "code",
   "execution_count": 11,
   "id": "7d70ec66",
   "metadata": {},
   "outputs": [],
   "source": [
    "# 지수 형태로 보이기 싫다면\n",
    "pd.options.display.float_format = '{:.1f}'.format"
   ]
  },
  {
   "cell_type": "markdown",
   "id": "10e26fa8",
   "metadata": {},
   "source": [
    "느와르의 관객수가 가장 많음"
   ]
  },
  {
   "cell_type": "code",
   "execution_count": 12,
   "id": "e980566d",
   "metadata": {},
   "outputs": [
    {
     "data": {
      "text/html": [
       "<div>\n",
       "<style scoped>\n",
       "    .dataframe tbody tr th:only-of-type {\n",
       "        vertical-align: middle;\n",
       "    }\n",
       "\n",
       "    .dataframe tbody tr th {\n",
       "        vertical-align: top;\n",
       "    }\n",
       "\n",
       "    .dataframe thead th {\n",
       "        text-align: right;\n",
       "    }\n",
       "</style>\n",
       "<table border=\"1\" class=\"dataframe\">\n",
       "  <thead>\n",
       "    <tr style=\"text-align: right;\">\n",
       "      <th></th>\n",
       "      <th>box_off_num</th>\n",
       "    </tr>\n",
       "    <tr>\n",
       "      <th>genre</th>\n",
       "      <th></th>\n",
       "    </tr>\n",
       "  </thead>\n",
       "  <tbody>\n",
       "    <tr>\n",
       "      <th>뮤지컬</th>\n",
       "      <td>6627.0</td>\n",
       "    </tr>\n",
       "    <tr>\n",
       "      <th>다큐멘터리</th>\n",
       "      <td>67172.3</td>\n",
       "    </tr>\n",
       "    <tr>\n",
       "      <th>서스펜스</th>\n",
       "      <td>82611.0</td>\n",
       "    </tr>\n",
       "    <tr>\n",
       "      <th>애니메이션</th>\n",
       "      <td>181926.7</td>\n",
       "    </tr>\n",
       "    <tr>\n",
       "      <th>멜로/로맨스</th>\n",
       "      <td>425968.0</td>\n",
       "    </tr>\n",
       "    <tr>\n",
       "      <th>미스터리</th>\n",
       "      <td>527548.2</td>\n",
       "    </tr>\n",
       "    <tr>\n",
       "      <th>공포</th>\n",
       "      <td>590832.5</td>\n",
       "    </tr>\n",
       "    <tr>\n",
       "      <th>드라마</th>\n",
       "      <td>625689.8</td>\n",
       "    </tr>\n",
       "    <tr>\n",
       "      <th>코미디</th>\n",
       "      <td>1193914.0</td>\n",
       "    </tr>\n",
       "    <tr>\n",
       "      <th>SF</th>\n",
       "      <td>1788345.7</td>\n",
       "    </tr>\n",
       "    <tr>\n",
       "      <th>액션</th>\n",
       "      <td>2203974.1</td>\n",
       "    </tr>\n",
       "    <tr>\n",
       "      <th>느와르</th>\n",
       "      <td>2263695.1</td>\n",
       "    </tr>\n",
       "  </tbody>\n",
       "</table>\n",
       "</div>"
      ],
      "text/plain": [
       "        box_off_num\n",
       "genre              \n",
       "뮤지컬          6627.0\n",
       "다큐멘터리       67172.3\n",
       "서스펜스        82611.0\n",
       "애니메이션      181926.7\n",
       "멜로/로맨스     425968.0\n",
       "미스터리       527548.2\n",
       "공포         590832.5\n",
       "드라마        625689.8\n",
       "코미디       1193914.0\n",
       "SF        1788345.7\n",
       "액션        2203974.1\n",
       "느와르       2263695.1"
      ]
     },
     "execution_count": 12,
     "metadata": {},
     "output_type": "execute_result"
    }
   ],
   "source": [
    "train[['genre','box_off_num']].groupby('genre').mean().sort_values('box_off_num')"
   ]
  },
  {
   "cell_type": "code",
   "execution_count": 13,
   "id": "5611139e",
   "metadata": {},
   "outputs": [],
   "source": [
    "pd.reset_option('display.float_format')"
   ]
  },
  {
   "cell_type": "code",
   "execution_count": 14,
   "id": "69c4af40",
   "metadata": {},
   "outputs": [
    {
     "data": {
      "text/html": [
       "<div>\n",
       "<style scoped>\n",
       "    .dataframe tbody tr th:only-of-type {\n",
       "        vertical-align: middle;\n",
       "    }\n",
       "\n",
       "    .dataframe tbody tr th {\n",
       "        vertical-align: top;\n",
       "    }\n",
       "\n",
       "    .dataframe thead th {\n",
       "        text-align: right;\n",
       "    }\n",
       "</style>\n",
       "<table border=\"1\" class=\"dataframe\">\n",
       "  <thead>\n",
       "    <tr style=\"text-align: right;\">\n",
       "      <th></th>\n",
       "      <th>time</th>\n",
       "      <th>dir_prev_bfnum</th>\n",
       "      <th>dir_prev_num</th>\n",
       "      <th>num_staff</th>\n",
       "      <th>num_actor</th>\n",
       "      <th>box_off_num</th>\n",
       "    </tr>\n",
       "  </thead>\n",
       "  <tbody>\n",
       "    <tr>\n",
       "      <th>time</th>\n",
       "      <td>1.000000</td>\n",
       "      <td>0.264675</td>\n",
       "      <td>0.306727</td>\n",
       "      <td>0.623205</td>\n",
       "      <td>0.114153</td>\n",
       "      <td>0.441452</td>\n",
       "    </tr>\n",
       "    <tr>\n",
       "      <th>dir_prev_bfnum</th>\n",
       "      <td>0.264675</td>\n",
       "      <td>1.000000</td>\n",
       "      <td>0.131822</td>\n",
       "      <td>0.323521</td>\n",
       "      <td>0.083818</td>\n",
       "      <td>0.283184</td>\n",
       "    </tr>\n",
       "    <tr>\n",
       "      <th>dir_prev_num</th>\n",
       "      <td>0.306727</td>\n",
       "      <td>0.131822</td>\n",
       "      <td>1.000000</td>\n",
       "      <td>0.450706</td>\n",
       "      <td>0.014006</td>\n",
       "      <td>0.259674</td>\n",
       "    </tr>\n",
       "    <tr>\n",
       "      <th>num_staff</th>\n",
       "      <td>0.623205</td>\n",
       "      <td>0.323521</td>\n",
       "      <td>0.450706</td>\n",
       "      <td>1.000000</td>\n",
       "      <td>0.077871</td>\n",
       "      <td>0.544265</td>\n",
       "    </tr>\n",
       "    <tr>\n",
       "      <th>num_actor</th>\n",
       "      <td>0.114153</td>\n",
       "      <td>0.083818</td>\n",
       "      <td>0.014006</td>\n",
       "      <td>0.077871</td>\n",
       "      <td>1.000000</td>\n",
       "      <td>0.111179</td>\n",
       "    </tr>\n",
       "    <tr>\n",
       "      <th>box_off_num</th>\n",
       "      <td>0.441452</td>\n",
       "      <td>0.283184</td>\n",
       "      <td>0.259674</td>\n",
       "      <td>0.544265</td>\n",
       "      <td>0.111179</td>\n",
       "      <td>1.000000</td>\n",
       "    </tr>\n",
       "  </tbody>\n",
       "</table>\n",
       "</div>"
      ],
      "text/plain": [
       "                    time  dir_prev_bfnum  dir_prev_num  num_staff  num_actor  \\\n",
       "time            1.000000        0.264675      0.306727   0.623205   0.114153   \n",
       "dir_prev_bfnum  0.264675        1.000000      0.131822   0.323521   0.083818   \n",
       "dir_prev_num    0.306727        0.131822      1.000000   0.450706   0.014006   \n",
       "num_staff       0.623205        0.323521      0.450706   1.000000   0.077871   \n",
       "num_actor       0.114153        0.083818      0.014006   0.077871   1.000000   \n",
       "box_off_num     0.441452        0.283184      0.259674   0.544265   0.111179   \n",
       "\n",
       "                box_off_num  \n",
       "time               0.441452  \n",
       "dir_prev_bfnum     0.283184  \n",
       "dir_prev_num       0.259674  \n",
       "num_staff          0.544265  \n",
       "num_actor          0.111179  \n",
       "box_off_num        1.000000  "
      ]
     },
     "execution_count": 14,
     "metadata": {},
     "output_type": "execute_result"
    }
   ],
   "source": [
    "train.corr()"
   ]
  },
  {
   "attachments": {
    "image.png": {
     "image/png": "[encoded data removed]"
    }
   },
   "cell_type": "markdown",
   "id": "886cf228",
   "metadata": {},
   "source": [
    "+ 상관계수: 두 개의 변수가 같이 일어나는 강도를 나타내는 수치\n",
    "+ -1에서 1사이의 값을 지닙니다.\n",
    "+ -1이나 1인 수치는 현실 세계에서 관측되기 힘든 수치입니다.\n",
    "+ 분야별로 기준을 정하는 것에 따라 달라지겠지만, 보통 0.4이상이면 두 개의 변수간에 상관성이 있다고 얘기합니다.\n",
    "![image.png](attachment:image.png)"
   ]
  },
  {
   "cell_type": "markdown",
   "id": "f8df731a",
   "metadata": {},
   "source": [
    "숫자 형태로 보는 것은 직관적이지 않기 때문에 시각화를 해줌"
   ]
  },
  {
   "cell_type": "code",
   "execution_count": 15,
   "id": "1f6e2f3c",
   "metadata": {},
   "outputs": [],
   "source": [
    "import seaborn as sns"
   ]
  },
  {
   "cell_type": "code",
   "execution_count": 16,
   "id": "20d8279d",
   "metadata": {},
   "outputs": [
    {
     "data": {
      "text/plain": [
       "<AxesSubplot:>"
      ]
     },
     "execution_count": 16,
     "metadata": {},
     "output_type": "execute_result"
    },
    {
     "data": {
      "image/png": "[encoded data removed]",
      "text/plain": [
       "<Figure size 432x288 with 2 Axes>"
      ]
     },
     "metadata": {
      "needs_background": "light"
     },
     "output_type": "display_data"
    }
   ],
   "source": [
    "sns.heatmap(train.corr(), annot = True)"
   ]
  },
  {
   "cell_type": "markdown",
   "id": "22c74208",
   "metadata": {},
   "source": [
    " 영화 스태프가 많을 수록 관객수도 올라가는 것 처럼 보임  \n",
    " 상영 시간도 마찬가지"
   ]
  },
  {
   "cell_type": "markdown",
   "id": "79008c74",
   "metadata": {},
   "source": [
    "# NaN 채워 넣기"
   ]
  },
  {
   "cell_type": "code",
   "execution_count": 17,
   "id": "75a0c85a",
   "metadata": {},
   "outputs": [
    {
     "data": {
      "text/plain": [
       "title             0.00\n",
       "distributor       0.00\n",
       "genre             0.00\n",
       "release_time      0.00\n",
       "time              0.00\n",
       "screening_rat     0.00\n",
       "director          0.00\n",
       "dir_prev_bfnum    0.55\n",
       "dir_prev_num      0.00\n",
       "num_staff         0.00\n",
       "num_actor         0.00\n",
       "box_off_num       0.00\n",
       "dtype: float64"
      ]
     },
     "execution_count": 17,
     "metadata": {},
     "output_type": "execute_result"
    }
   ],
   "source": [
    "train.isna().sum() / 600"
   ]
  },
  {
   "cell_type": "markdown",
   "id": "4a6173db",
   "metadata": {},
   "source": [
    "dir_prev_bfnum의 55%가 결측값을 가짐  \n",
    "dir_prev_bfnum : 해당 감독이 이 영화를 만들기 전 제작에 참여한 영화에서의 평균 관객수(단 관객수가 알려지지 않은 영화 제외)"
   ]
  },
  {
   "cell_type": "code",
   "execution_count": 18,
   "id": "921a06d8",
   "metadata": {},
   "outputs": [
    {
     "data": {
      "text/html": [
       "<div>\n",
       "<style scoped>\n",
       "    .dataframe tbody tr th:only-of-type {\n",
       "        vertical-align: middle;\n",
       "    }\n",
       "\n",
       "    .dataframe tbody tr th {\n",
       "        vertical-align: top;\n",
       "    }\n",
       "\n",
       "    .dataframe thead th {\n",
       "        text-align: right;\n",
       "    }\n",
       "</style>\n",
       "<table border=\"1\" class=\"dataframe\">\n",
       "  <thead>\n",
       "    <tr style=\"text-align: right;\">\n",
       "      <th></th>\n",
       "      <th>title</th>\n",
       "      <th>distributor</th>\n",
       "      <th>genre</th>\n",
       "      <th>release_time</th>\n",
       "      <th>time</th>\n",
       "      <th>screening_rat</th>\n",
       "      <th>director</th>\n",
       "      <th>dir_prev_bfnum</th>\n",
       "      <th>dir_prev_num</th>\n",
       "      <th>num_staff</th>\n",
       "      <th>num_actor</th>\n",
       "      <th>box_off_num</th>\n",
       "    </tr>\n",
       "  </thead>\n",
       "  <tbody>\n",
       "    <tr>\n",
       "      <th>0</th>\n",
       "      <td>개들의 전쟁</td>\n",
       "      <td>롯데엔터테인먼트</td>\n",
       "      <td>액션</td>\n",
       "      <td>2012-11-22</td>\n",
       "      <td>96</td>\n",
       "      <td>청소년 관람불가</td>\n",
       "      <td>조병옥</td>\n",
       "      <td>NaN</td>\n",
       "      <td>0</td>\n",
       "      <td>91</td>\n",
       "      <td>2</td>\n",
       "      <td>23398</td>\n",
       "    </tr>\n",
       "    <tr>\n",
       "      <th>6</th>\n",
       "      <td>길위에서</td>\n",
       "      <td>백두대간</td>\n",
       "      <td>다큐멘터리</td>\n",
       "      <td>2013-05-23</td>\n",
       "      <td>104</td>\n",
       "      <td>전체 관람가</td>\n",
       "      <td>이창재</td>\n",
       "      <td>NaN</td>\n",
       "      <td>0</td>\n",
       "      <td>32</td>\n",
       "      <td>5</td>\n",
       "      <td>53526</td>\n",
       "    </tr>\n",
       "    <tr>\n",
       "      <th>8</th>\n",
       "      <td>1789, 바스티유의 연인들</td>\n",
       "      <td>유니버설픽쳐스인터내셔널코리아</td>\n",
       "      <td>뮤지컬</td>\n",
       "      <td>2014-09-18</td>\n",
       "      <td>129</td>\n",
       "      <td>전체 관람가</td>\n",
       "      <td>정성복</td>\n",
       "      <td>NaN</td>\n",
       "      <td>0</td>\n",
       "      <td>3</td>\n",
       "      <td>5</td>\n",
       "      <td>4778</td>\n",
       "    </tr>\n",
       "    <tr>\n",
       "      <th>9</th>\n",
       "      <td>청춘그루브</td>\n",
       "      <td>(주)두타연</td>\n",
       "      <td>드라마</td>\n",
       "      <td>2012-03-15</td>\n",
       "      <td>94</td>\n",
       "      <td>15세 관람가</td>\n",
       "      <td>변성현</td>\n",
       "      <td>NaN</td>\n",
       "      <td>0</td>\n",
       "      <td>138</td>\n",
       "      <td>3</td>\n",
       "      <td>868</td>\n",
       "    </tr>\n",
       "    <tr>\n",
       "      <th>10</th>\n",
       "      <td>AV 아이돌</td>\n",
       "      <td>(주) 케이알씨지</td>\n",
       "      <td>멜로/로맨스</td>\n",
       "      <td>2015-07-27</td>\n",
       "      <td>89</td>\n",
       "      <td>청소년 관람불가</td>\n",
       "      <td>조조 히데오</td>\n",
       "      <td>NaN</td>\n",
       "      <td>0</td>\n",
       "      <td>0</td>\n",
       "      <td>4</td>\n",
       "      <td>745</td>\n",
       "    </tr>\n",
       "    <tr>\n",
       "      <th>...</th>\n",
       "      <td>...</td>\n",
       "      <td>...</td>\n",
       "      <td>...</td>\n",
       "      <td>...</td>\n",
       "      <td>...</td>\n",
       "      <td>...</td>\n",
       "      <td>...</td>\n",
       "      <td>...</td>\n",
       "      <td>...</td>\n",
       "      <td>...</td>\n",
       "      <td>...</td>\n",
       "      <td>...</td>\n",
       "    </tr>\n",
       "    <tr>\n",
       "      <th>593</th>\n",
       "      <td>낭만파 남편의 편지</td>\n",
       "      <td>퍼스트런</td>\n",
       "      <td>미스터리</td>\n",
       "      <td>2013-09-12</td>\n",
       "      <td>97</td>\n",
       "      <td>청소년 관람불가</td>\n",
       "      <td>최위안</td>\n",
       "      <td>NaN</td>\n",
       "      <td>0</td>\n",
       "      <td>5</td>\n",
       "      <td>3</td>\n",
       "      <td>1132</td>\n",
       "    </tr>\n",
       "    <tr>\n",
       "      <th>594</th>\n",
       "      <td>오빠가 돌아왔다</td>\n",
       "      <td>(주)마운틴픽쳐스</td>\n",
       "      <td>코미디</td>\n",
       "      <td>2014-03-20</td>\n",
       "      <td>94</td>\n",
       "      <td>청소년 관람불가</td>\n",
       "      <td>노진수</td>\n",
       "      <td>NaN</td>\n",
       "      <td>0</td>\n",
       "      <td>37</td>\n",
       "      <td>5</td>\n",
       "      <td>1958</td>\n",
       "    </tr>\n",
       "    <tr>\n",
       "      <th>597</th>\n",
       "      <td>살인의 강</td>\n",
       "      <td>(주)마운틴픽쳐스</td>\n",
       "      <td>공포</td>\n",
       "      <td>2010-09-30</td>\n",
       "      <td>99</td>\n",
       "      <td>청소년 관람불가</td>\n",
       "      <td>김대현</td>\n",
       "      <td>NaN</td>\n",
       "      <td>0</td>\n",
       "      <td>123</td>\n",
       "      <td>4</td>\n",
       "      <td>2475</td>\n",
       "    </tr>\n",
       "    <tr>\n",
       "      <th>598</th>\n",
       "      <td>악의 연대기</td>\n",
       "      <td>CJ 엔터테인먼트</td>\n",
       "      <td>느와르</td>\n",
       "      <td>2015-05-14</td>\n",
       "      <td>102</td>\n",
       "      <td>15세 관람가</td>\n",
       "      <td>백운학</td>\n",
       "      <td>NaN</td>\n",
       "      <td>0</td>\n",
       "      <td>431</td>\n",
       "      <td>4</td>\n",
       "      <td>2192525</td>\n",
       "    </tr>\n",
       "    <tr>\n",
       "      <th>599</th>\n",
       "      <td>베를린</td>\n",
       "      <td>CJ 엔터테인먼트</td>\n",
       "      <td>액션</td>\n",
       "      <td>2013-01-30</td>\n",
       "      <td>120</td>\n",
       "      <td>15세 관람가</td>\n",
       "      <td>류승완</td>\n",
       "      <td>NaN</td>\n",
       "      <td>0</td>\n",
       "      <td>363</td>\n",
       "      <td>5</td>\n",
       "      <td>7166532</td>\n",
       "    </tr>\n",
       "  </tbody>\n",
       "</table>\n",
       "<p>330 rows × 12 columns</p>\n",
       "</div>"
      ],
      "text/plain": [
       "               title      distributor   genre release_time  time  \\\n",
       "0             개들의 전쟁         롯데엔터테인먼트      액션   2012-11-22    96   \n",
       "6               길위에서             백두대간   다큐멘터리   2013-05-23   104   \n",
       "8    1789, 바스티유의 연인들  유니버설픽쳐스인터내셔널코리아     뮤지컬   2014-09-18   129   \n",
       "9              청춘그루브           (주)두타연     드라마   2012-03-15    94   \n",
       "10            AV 아이돌        (주) 케이알씨지  멜로/로맨스   2015-07-27    89   \n",
       "..               ...              ...     ...          ...   ...   \n",
       "593       낭만파 남편의 편지             퍼스트런    미스터리   2013-09-12    97   \n",
       "594         오빠가 돌아왔다        (주)마운틴픽쳐스     코미디   2014-03-20    94   \n",
       "597            살인의 강        (주)마운틴픽쳐스      공포   2010-09-30    99   \n",
       "598           악의 연대기        CJ 엔터테인먼트     느와르   2015-05-14   102   \n",
       "599              베를린        CJ 엔터테인먼트      액션   2013-01-30   120   \n",
       "\n",
       "    screening_rat director  dir_prev_bfnum  dir_prev_num  num_staff  \\\n",
       "0        청소년 관람불가      조병옥             NaN             0         91   \n",
       "6          전체 관람가      이창재             NaN             0         32   \n",
       "8          전체 관람가      정성복             NaN             0          3   \n",
       "9         15세 관람가      변성현             NaN             0        138   \n",
       "10       청소년 관람불가   조조 히데오             NaN             0          0   \n",
       "..            ...      ...             ...           ...        ...   \n",
       "593      청소년 관람불가      최위안             NaN             0          5   \n",
       "594      청소년 관람불가      노진수             NaN             0         37   \n",
       "597      청소년 관람불가      김대현             NaN             0        123   \n",
       "598       15세 관람가      백운학             NaN             0        431   \n",
       "599       15세 관람가      류승완             NaN             0        363   \n",
       "\n",
       "     num_actor  box_off_num  \n",
       "0            2        23398  \n",
       "6            5        53526  \n",
       "8            5         4778  \n",
       "9            3          868  \n",
       "10           4          745  \n",
       "..         ...          ...  \n",
       "593          3         1132  \n",
       "594          5         1958  \n",
       "597          4         2475  \n",
       "598          4      2192525  \n",
       "599          5      7166532  \n",
       "\n",
       "[330 rows x 12 columns]"
      ]
     },
     "execution_count": 18,
     "metadata": {},
     "output_type": "execute_result"
    }
   ],
   "source": [
    "train[train['dir_prev_bfnum'].isna()]"
   ]
  },
  {
   "cell_type": "code",
   "execution_count": 19,
   "id": "9fec8640",
   "metadata": {},
   "outputs": [
    {
     "data": {
      "text/plain": [
       "0.0"
      ]
     },
     "execution_count": 19,
     "metadata": {},
     "output_type": "execute_result"
    }
   ],
   "source": [
    "train[train['dir_prev_bfnum'].isna()]['dir_prev_bfnum'].sum()"
   ]
  },
  {
   "cell_type": "markdown",
   "id": "da4efb52",
   "metadata": {},
   "source": [
    "관객수가 알려지지 않은 영화 제외라고 했는데 간단하게 관객수가 0명이라고 가정하에 진행하겠음(이전에 영화를 찍어본 적이 없다거나)"
   ]
  },
  {
   "cell_type": "code",
   "execution_count": 20,
   "id": "ef3ff92a",
   "metadata": {},
   "outputs": [],
   "source": [
    "train['dir_prev_bfnum'].fillna(0, inplace=True)"
   ]
  },
  {
   "cell_type": "code",
   "execution_count": 21,
   "id": "a25dab76",
   "metadata": {},
   "outputs": [
    {
     "data": {
      "text/html": [
       "<div>\n",
       "<style scoped>\n",
       "    .dataframe tbody tr th:only-of-type {\n",
       "        vertical-align: middle;\n",
       "    }\n",
       "\n",
       "    .dataframe tbody tr th {\n",
       "        vertical-align: top;\n",
       "    }\n",
       "\n",
       "    .dataframe thead th {\n",
       "        text-align: right;\n",
       "    }\n",
       "</style>\n",
       "<table border=\"1\" class=\"dataframe\">\n",
       "  <thead>\n",
       "    <tr style=\"text-align: right;\">\n",
       "      <th></th>\n",
       "      <th>title</th>\n",
       "      <th>distributor</th>\n",
       "      <th>genre</th>\n",
       "      <th>release_time</th>\n",
       "      <th>time</th>\n",
       "      <th>screening_rat</th>\n",
       "      <th>director</th>\n",
       "      <th>dir_prev_bfnum</th>\n",
       "      <th>dir_prev_num</th>\n",
       "      <th>num_staff</th>\n",
       "      <th>num_actor</th>\n",
       "      <th>box_off_num</th>\n",
       "    </tr>\n",
       "  </thead>\n",
       "  <tbody>\n",
       "    <tr>\n",
       "      <th>0</th>\n",
       "      <td>개들의 전쟁</td>\n",
       "      <td>롯데엔터테인먼트</td>\n",
       "      <td>액션</td>\n",
       "      <td>2012-11-22</td>\n",
       "      <td>96</td>\n",
       "      <td>청소년 관람불가</td>\n",
       "      <td>조병옥</td>\n",
       "      <td>0.00</td>\n",
       "      <td>0</td>\n",
       "      <td>91</td>\n",
       "      <td>2</td>\n",
       "      <td>23398</td>\n",
       "    </tr>\n",
       "    <tr>\n",
       "      <th>1</th>\n",
       "      <td>내부자들</td>\n",
       "      <td>(주)쇼박스</td>\n",
       "      <td>느와르</td>\n",
       "      <td>2015-11-19</td>\n",
       "      <td>130</td>\n",
       "      <td>청소년 관람불가</td>\n",
       "      <td>우민호</td>\n",
       "      <td>1161602.50</td>\n",
       "      <td>2</td>\n",
       "      <td>387</td>\n",
       "      <td>3</td>\n",
       "      <td>7072501</td>\n",
       "    </tr>\n",
       "    <tr>\n",
       "      <th>2</th>\n",
       "      <td>은밀하게 위대하게</td>\n",
       "      <td>(주)쇼박스</td>\n",
       "      <td>액션</td>\n",
       "      <td>2013-06-05</td>\n",
       "      <td>123</td>\n",
       "      <td>15세 관람가</td>\n",
       "      <td>장철수</td>\n",
       "      <td>220775.25</td>\n",
       "      <td>4</td>\n",
       "      <td>343</td>\n",
       "      <td>4</td>\n",
       "      <td>6959083</td>\n",
       "    </tr>\n",
       "    <tr>\n",
       "      <th>3</th>\n",
       "      <td>나는 공무원이다</td>\n",
       "      <td>(주)NEW</td>\n",
       "      <td>코미디</td>\n",
       "      <td>2012-07-12</td>\n",
       "      <td>101</td>\n",
       "      <td>전체 관람가</td>\n",
       "      <td>구자홍</td>\n",
       "      <td>23894.00</td>\n",
       "      <td>2</td>\n",
       "      <td>20</td>\n",
       "      <td>6</td>\n",
       "      <td>217866</td>\n",
       "    </tr>\n",
       "    <tr>\n",
       "      <th>4</th>\n",
       "      <td>불량남녀</td>\n",
       "      <td>쇼박스(주)미디어플렉스</td>\n",
       "      <td>코미디</td>\n",
       "      <td>2010-11-04</td>\n",
       "      <td>108</td>\n",
       "      <td>15세 관람가</td>\n",
       "      <td>신근호</td>\n",
       "      <td>1.00</td>\n",
       "      <td>1</td>\n",
       "      <td>251</td>\n",
       "      <td>2</td>\n",
       "      <td>483387</td>\n",
       "    </tr>\n",
       "    <tr>\n",
       "      <th>...</th>\n",
       "      <td>...</td>\n",
       "      <td>...</td>\n",
       "      <td>...</td>\n",
       "      <td>...</td>\n",
       "      <td>...</td>\n",
       "      <td>...</td>\n",
       "      <td>...</td>\n",
       "      <td>...</td>\n",
       "      <td>...</td>\n",
       "      <td>...</td>\n",
       "      <td>...</td>\n",
       "      <td>...</td>\n",
       "    </tr>\n",
       "    <tr>\n",
       "      <th>595</th>\n",
       "      <td>해무</td>\n",
       "      <td>(주)NEW</td>\n",
       "      <td>드라마</td>\n",
       "      <td>2014-08-13</td>\n",
       "      <td>111</td>\n",
       "      <td>청소년 관람불가</td>\n",
       "      <td>심성보</td>\n",
       "      <td>3833.00</td>\n",
       "      <td>1</td>\n",
       "      <td>510</td>\n",
       "      <td>7</td>\n",
       "      <td>1475091</td>\n",
       "    </tr>\n",
       "    <tr>\n",
       "      <th>596</th>\n",
       "      <td>파파로티</td>\n",
       "      <td>(주)쇼박스</td>\n",
       "      <td>드라마</td>\n",
       "      <td>2013-03-14</td>\n",
       "      <td>127</td>\n",
       "      <td>15세 관람가</td>\n",
       "      <td>윤종찬</td>\n",
       "      <td>496061.00</td>\n",
       "      <td>1</td>\n",
       "      <td>286</td>\n",
       "      <td>6</td>\n",
       "      <td>1716438</td>\n",
       "    </tr>\n",
       "    <tr>\n",
       "      <th>597</th>\n",
       "      <td>살인의 강</td>\n",
       "      <td>(주)마운틴픽쳐스</td>\n",
       "      <td>공포</td>\n",
       "      <td>2010-09-30</td>\n",
       "      <td>99</td>\n",
       "      <td>청소년 관람불가</td>\n",
       "      <td>김대현</td>\n",
       "      <td>0.00</td>\n",
       "      <td>0</td>\n",
       "      <td>123</td>\n",
       "      <td>4</td>\n",
       "      <td>2475</td>\n",
       "    </tr>\n",
       "    <tr>\n",
       "      <th>598</th>\n",
       "      <td>악의 연대기</td>\n",
       "      <td>CJ 엔터테인먼트</td>\n",
       "      <td>느와르</td>\n",
       "      <td>2015-05-14</td>\n",
       "      <td>102</td>\n",
       "      <td>15세 관람가</td>\n",
       "      <td>백운학</td>\n",
       "      <td>0.00</td>\n",
       "      <td>0</td>\n",
       "      <td>431</td>\n",
       "      <td>4</td>\n",
       "      <td>2192525</td>\n",
       "    </tr>\n",
       "    <tr>\n",
       "      <th>599</th>\n",
       "      <td>베를린</td>\n",
       "      <td>CJ 엔터테인먼트</td>\n",
       "      <td>액션</td>\n",
       "      <td>2013-01-30</td>\n",
       "      <td>120</td>\n",
       "      <td>15세 관람가</td>\n",
       "      <td>류승완</td>\n",
       "      <td>0.00</td>\n",
       "      <td>0</td>\n",
       "      <td>363</td>\n",
       "      <td>5</td>\n",
       "      <td>7166532</td>\n",
       "    </tr>\n",
       "  </tbody>\n",
       "</table>\n",
       "<p>600 rows × 12 columns</p>\n",
       "</div>"
      ],
      "text/plain": [
       "         title   distributor genre release_time  time screening_rat director  \\\n",
       "0       개들의 전쟁      롯데엔터테인먼트    액션   2012-11-22    96      청소년 관람불가      조병옥   \n",
       "1         내부자들        (주)쇼박스   느와르   2015-11-19   130      청소년 관람불가      우민호   \n",
       "2    은밀하게 위대하게        (주)쇼박스    액션   2013-06-05   123       15세 관람가      장철수   \n",
       "3     나는 공무원이다        (주)NEW   코미디   2012-07-12   101        전체 관람가      구자홍   \n",
       "4         불량남녀  쇼박스(주)미디어플렉스   코미디   2010-11-04   108       15세 관람가      신근호   \n",
       "..         ...           ...   ...          ...   ...           ...      ...   \n",
       "595         해무        (주)NEW   드라마   2014-08-13   111      청소년 관람불가      심성보   \n",
       "596       파파로티        (주)쇼박스   드라마   2013-03-14   127       15세 관람가      윤종찬   \n",
       "597      살인의 강     (주)마운틴픽쳐스    공포   2010-09-30    99      청소년 관람불가      김대현   \n",
       "598     악의 연대기     CJ 엔터테인먼트   느와르   2015-05-14   102       15세 관람가      백운학   \n",
       "599        베를린     CJ 엔터테인먼트    액션   2013-01-30   120       15세 관람가      류승완   \n",
       "\n",
       "     dir_prev_bfnum  dir_prev_num  num_staff  num_actor  box_off_num  \n",
       "0              0.00             0         91          2        23398  \n",
       "1        1161602.50             2        387          3      7072501  \n",
       "2         220775.25             4        343          4      6959083  \n",
       "3          23894.00             2         20          6       217866  \n",
       "4              1.00             1        251          2       483387  \n",
       "..              ...           ...        ...        ...          ...  \n",
       "595         3833.00             1        510          7      1475091  \n",
       "596       496061.00             1        286          6      1716438  \n",
       "597            0.00             0        123          4         2475  \n",
       "598            0.00             0        431          4      2192525  \n",
       "599            0.00             0        363          5      7166532  \n",
       "\n",
       "[600 rows x 12 columns]"
      ]
     },
     "execution_count": 21,
     "metadata": {},
     "output_type": "execute_result"
    }
   ],
   "source": [
    "train"
   ]
  },
  {
   "cell_type": "code",
   "execution_count": 22,
   "id": "33e4de8c",
   "metadata": {},
   "outputs": [
    {
     "data": {
      "text/plain": [
       "title             0.0\n",
       "distributor       0.0\n",
       "genre             0.0\n",
       "release_time      0.0\n",
       "time              0.0\n",
       "screening_rat     0.0\n",
       "director          0.0\n",
       "dir_prev_bfnum    0.0\n",
       "dir_prev_num      0.0\n",
       "num_staff         0.0\n",
       "num_actor         0.0\n",
       "box_off_num       0.0\n",
       "dtype: float64"
      ]
     },
     "execution_count": 22,
     "metadata": {},
     "output_type": "execute_result"
    }
   ],
   "source": [
    "train.isna().sum() / 600"
   ]
  },
  {
   "cell_type": "code",
   "execution_count": 23,
   "id": "7b7a4197",
   "metadata": {},
   "outputs": [
    {
     "data": {
      "text/plain": [
       "title               0\n",
       "distributor         0\n",
       "genre               0\n",
       "release_time        0\n",
       "time                0\n",
       "screening_rat       0\n",
       "director            0\n",
       "dir_prev_bfnum    136\n",
       "dir_prev_num        0\n",
       "num_staff           0\n",
       "num_actor           0\n",
       "dtype: int64"
      ]
     },
     "execution_count": 23,
     "metadata": {},
     "output_type": "execute_result"
    }
   ],
   "source": [
    "test.isna().sum()"
   ]
  },
  {
   "cell_type": "code",
   "execution_count": 24,
   "id": "f3bece29",
   "metadata": {},
   "outputs": [],
   "source": [
    "test['dir_prev_bfnum'].fillna(0, inplace=True)"
   ]
  },
  {
   "cell_type": "code",
   "execution_count": 25,
   "id": "3f696719",
   "metadata": {},
   "outputs": [
    {
     "data": {
      "text/plain": [
       "0.0"
      ]
     },
     "execution_count": 25,
     "metadata": {},
     "output_type": "execute_result"
    }
   ],
   "source": [
    "test[test['dir_prev_bfnum'].isna()]['dir_prev_bfnum'].sum()"
   ]
  },
  {
   "cell_type": "code",
   "execution_count": 26,
   "id": "242ecc82",
   "metadata": {},
   "outputs": [
    {
     "data": {
      "text/plain": [
       "title             0\n",
       "distributor       0\n",
       "genre             0\n",
       "release_time      0\n",
       "time              0\n",
       "screening_rat     0\n",
       "director          0\n",
       "dir_prev_bfnum    0\n",
       "dir_prev_num      0\n",
       "num_staff         0\n",
       "num_actor         0\n",
       "dtype: int64"
      ]
     },
     "execution_count": 26,
     "metadata": {},
     "output_type": "execute_result"
    }
   ],
   "source": [
    "test.isna().sum()"
   ]
  },
  {
   "cell_type": "markdown",
   "id": "d02b4ff3",
   "metadata": {},
   "source": [
    "# 변수 선택 및 모델 구축  \n",
    "# Feature Engineering & Initial Modeling"
   ]
  },
  {
   "cell_type": "code",
   "execution_count": 27,
   "id": "0f0efefd",
   "metadata": {},
   "outputs": [],
   "source": [
    "# 여러 수상 모델중 대다수를 차지한 lightgbm을 활용\n",
    "import lightgbm as lgb"
   ]
  },
  {
   "cell_type": "markdown",
   "id": "7ebbbb06",
   "metadata": {},
   "source": [
    "# LightGBM  \n",
    "* 부스팅 모델\n",
    "    * 순차적으로 모델을 만듬\n",
    "* 기존 모델이 못 맞춘 문제에 가중치를 두어 지속적으로 학습 이어나감\n",
    "* 타 부스팅 모델에 비해 속도가 빠름  "
   ]
  },
  {
   "attachments": {},
   "cell_type": "markdown",
   "id": "ee642484",
   "metadata": {},
   "source": [
    "![boosting](./img/boosting.png)"
   ]
  },
  {
   "cell_type": "code",
   "execution_count": 28,
   "id": "b4943ad5",
   "metadata": {},
   "outputs": [],
   "source": [
    "# lgb 특성상 n_estimators 파라미터가 필요함\n",
    "model = lgb.LGBMRegressor(random_state=777, n_estimators=1000) # 순차적으로 만드는 모델을 1000개 만들겠다"
   ]
  },
  {
   "cell_type": "code",
   "execution_count": 29,
   "id": "956c1e33",
   "metadata": {},
   "outputs": [],
   "source": [
    "features = ['time', 'dir_prev_num', 'num_staff', 'num_actor']\n",
    "target = ['box_off_num']"
   ]
  },
  {
   "cell_type": "code",
   "execution_count": 30,
   "id": "55b3b795",
   "metadata": {},
   "outputs": [],
   "source": [
    "X_train, X_test, y_train = train[features], test[features], train[target]"
   ]
  },
  {
   "cell_type": "markdown",
   "id": "346cf6b6",
   "metadata": {},
   "source": [
    "# 모델 학습 및 검증\n",
    "# Model Tuning & Evaluation\n",
    "\n",
    "a, lightGBM(base model)  \n",
    "b. k-fold lightGBM(k-fold model)  \n",
    "c. feature engineering(fe)  \n",
    "d. grid search(hyperparameter tuning)  "
   ]
  },
  {
   "cell_type": "code",
   "execution_count": 31,
   "id": "b01d63cd",
   "metadata": {},
   "outputs": [
    {
     "data": {
      "text/plain": [
       "LGBMRegressor(n_estimators=1000, random_state=777)"
      ]
     },
     "execution_count": 31,
     "metadata": {},
     "output_type": "execute_result"
    }
   ],
   "source": [
    "model.fit(X_train, y_train)"
   ]
  },
  {
   "cell_type": "code",
   "execution_count": 32,
   "id": "37ab8de3",
   "metadata": {},
   "outputs": [],
   "source": [
    "# 답안지 미리 복사\n",
    "singleLGMV = submission.copy()"
   ]
  },
  {
   "cell_type": "code",
   "execution_count": 33,
   "id": "992de284",
   "metadata": {},
   "outputs": [
    {
     "data": {
      "text/html": [
       "<div>\n",
       "<style scoped>\n",
       "    .dataframe tbody tr th:only-of-type {\n",
       "        vertical-align: middle;\n",
       "    }\n",
       "\n",
       "    .dataframe tbody tr th {\n",
       "        vertical-align: top;\n",
       "    }\n",
       "\n",
       "    .dataframe thead th {\n",
       "        text-align: right;\n",
       "    }\n",
       "</style>\n",
       "<table border=\"1\" class=\"dataframe\">\n",
       "  <thead>\n",
       "    <tr style=\"text-align: right;\">\n",
       "      <th></th>\n",
       "      <th>title</th>\n",
       "      <th>box_off_num</th>\n",
       "    </tr>\n",
       "  </thead>\n",
       "  <tbody>\n",
       "    <tr>\n",
       "      <th>0</th>\n",
       "      <td>용서는 없다</td>\n",
       "      <td>0</td>\n",
       "    </tr>\n",
       "    <tr>\n",
       "      <th>1</th>\n",
       "      <td>아빠가 여자를 좋아해</td>\n",
       "      <td>0</td>\n",
       "    </tr>\n",
       "    <tr>\n",
       "      <th>2</th>\n",
       "      <td>하모니</td>\n",
       "      <td>0</td>\n",
       "    </tr>\n",
       "    <tr>\n",
       "      <th>3</th>\n",
       "      <td>의형제</td>\n",
       "      <td>0</td>\n",
       "    </tr>\n",
       "    <tr>\n",
       "      <th>4</th>\n",
       "      <td>평행 이론</td>\n",
       "      <td>0</td>\n",
       "    </tr>\n",
       "  </tbody>\n",
       "</table>\n",
       "</div>"
      ],
      "text/plain": [
       "         title  box_off_num\n",
       "0       용서는 없다            0\n",
       "1  아빠가 여자를 좋아해            0\n",
       "2          하모니            0\n",
       "3          의형제            0\n",
       "4        평행 이론            0"
      ]
     },
     "execution_count": 33,
     "metadata": {},
     "output_type": "execute_result"
    }
   ],
   "source": [
    "singleLGMV.head()"
   ]
  },
  {
   "cell_type": "code",
   "execution_count": 34,
   "id": "3e33111c",
   "metadata": {},
   "outputs": [],
   "source": [
    "singleLGMV['box_off_num'] = model.predict(X_test)"
   ]
  },
  {
   "cell_type": "code",
   "execution_count": 35,
   "id": "446dd09b",
   "metadata": {},
   "outputs": [],
   "source": [
    "singleLGMV.to_csv('singleLGBM.csv', index=False)"
   ]
  },
  {
   "cell_type": "code",
   "execution_count": 36,
   "id": "f2875ada",
   "metadata": {},
   "outputs": [
    {
     "data": {
      "text/html": [
       "<div>\n",
       "<style scoped>\n",
       "    .dataframe tbody tr th:only-of-type {\n",
       "        vertical-align: middle;\n",
       "    }\n",
       "\n",
       "    .dataframe tbody tr th {\n",
       "        vertical-align: top;\n",
       "    }\n",
       "\n",
       "    .dataframe thead th {\n",
       "        text-align: right;\n",
       "    }\n",
       "</style>\n",
       "<table border=\"1\" class=\"dataframe\">\n",
       "  <thead>\n",
       "    <tr style=\"text-align: right;\">\n",
       "      <th></th>\n",
       "      <th>title</th>\n",
       "      <th>box_off_num</th>\n",
       "    </tr>\n",
       "  </thead>\n",
       "  <tbody>\n",
       "    <tr>\n",
       "      <th>0</th>\n",
       "      <td>용서는 없다</td>\n",
       "      <td>2.817995e+06</td>\n",
       "    </tr>\n",
       "    <tr>\n",
       "      <th>1</th>\n",
       "      <td>아빠가 여자를 좋아해</td>\n",
       "      <td>3.753772e+05</td>\n",
       "    </tr>\n",
       "    <tr>\n",
       "      <th>2</th>\n",
       "      <td>하모니</td>\n",
       "      <td>-5.693243e+05</td>\n",
       "    </tr>\n",
       "    <tr>\n",
       "      <th>3</th>\n",
       "      <td>의형제</td>\n",
       "      <td>1.581189e+06</td>\n",
       "    </tr>\n",
       "    <tr>\n",
       "      <th>4</th>\n",
       "      <td>평행 이론</td>\n",
       "      <td>-5.277806e+05</td>\n",
       "    </tr>\n",
       "  </tbody>\n",
       "</table>\n",
       "</div>"
      ],
      "text/plain": [
       "         title   box_off_num\n",
       "0       용서는 없다  2.817995e+06\n",
       "1  아빠가 여자를 좋아해  3.753772e+05\n",
       "2          하모니 -5.693243e+05\n",
       "3          의형제  1.581189e+06\n",
       "4        평행 이론 -5.277806e+05"
      ]
     },
     "execution_count": 36,
     "metadata": {},
     "output_type": "execute_result"
    }
   ],
   "source": [
    "singleLGMV.head()"
   ]
  },
  {
   "attachments": {
    "image.png": {
     "image/png": "[encoded data removed]"
    }
   },
   "cell_type": "markdown",
   "id": "ece181c6",
   "metadata": {},
   "source": [
    "예측값을 보면 벌써부터 잘못 됐다는게 보임  \n",
    "관객수가 음수가 나올리가 없음  \n",
    "제출 해보았는데 점수도 매우 좋지 않음\n",
    "![image.png](attachment:image.png)"
   ]
  },
  {
   "cell_type": "markdown",
   "id": "93cfa9bb",
   "metadata": {},
   "source": [
    "# k-fold 교차검증(k-fold cross validation)\n",
    "+ 과대적합 방지\n",
    "+ 모델 간 일반적인 성능 비교\n",
    "+ validation set, development set"
   ]
  },
  {
   "attachments": {},
   "cell_type": "markdown",
   "id": "ee7a68d3",
   "metadata": {},
   "source": [
    "![k-fold](./img/kfold.png)\n",
    "\n",
    "데이콘에 제출해서 자꾸 수정하다보면 데이콘의 데이터 셋에 overfiting이 될수가 있어서  \n",
    "k-fold cross validation에서 자가적으로 검증할수 있는 이점도 있음  \n",
    "  \n",
    "검증할때도 쓰이지만 일반적으로 모델을 만들 때도 쓰임\n",
    "\n",
    "lightGBM같은 경우는 순차적으로 모델을 만들고 오차가 있을때마다 수정해주기 때문에  \n",
    "overfiting이 발생 할수 있음. 따라서 일정 부분에서 트레이닝을 끊어주어야함 (초록색 부분)\n",
    "\n",
    "앙상블 효과도 얻을 수 있다!!!"
   ]
  },
  {
   "cell_type": "code",
   "execution_count": 37,
   "id": "0ceb5541",
   "metadata": {},
   "outputs": [],
   "source": [
    "from sklearn.model_selection import KFold"
   ]
  },
  {
   "cell_type": "code",
   "execution_count": 38,
   "id": "23a043f7",
   "metadata": {},
   "outputs": [],
   "source": [
    "# 5등분, 데이터를 섞음, 모든 컴퓨터에서 동일한 결과를 얻기 위해\n",
    "k_fold = KFold(n_splits=5, shuffle=True, random_state=777)"
   ]
  },
  {
   "cell_type": "code",
   "execution_count": 39,
   "id": "42176672",
   "metadata": {},
   "outputs": [
    {
     "name": "stdout",
     "output_type": "stream",
     "text": [
      "Training until validation scores don't improve for 100 rounds\n",
      "[100]\tvalid_0's l2: 2.70572e+12\n",
      "Early stopping, best iteration is:\n",
      "[6]\tvalid_0's l2: 2.45438e+12\n",
      "Training until validation scores don't improve for 100 rounds\n",
      "[100]\tvalid_0's l2: 3.90847e+12\n",
      "Early stopping, best iteration is:\n",
      "[33]\tvalid_0's l2: 3.72825e+12\n",
      "Training until validation scores don't improve for 100 rounds\n",
      "[100]\tvalid_0's l2: 3.50344e+12\n",
      "Early stopping, best iteration is:\n",
      "[8]\tvalid_0's l2: 2.58737e+12\n",
      "Training until validation scores don't improve for 100 rounds\n",
      "[100]\tvalid_0's l2: 1.45977e+12\n",
      "Early stopping, best iteration is:\n",
      "[11]\tvalid_0's l2: 1.26226e+12\n",
      "Training until validation scores don't improve for 100 rounds\n",
      "[100]\tvalid_0's l2: 1.77214e+12\n",
      "Early stopping, best iteration is:\n",
      "[22]\tvalid_0's l2: 1.57631e+12\n"
     ]
    }
   ],
   "source": [
    "model = lgb.LGBMRegressor(random_state=777, n_estimators=1000)\n",
    "\n",
    "models = []\n",
    "\n",
    "for train_idx, val_idx in k_fold.split(X_train):\n",
    "    x_t = X_train.iloc[train_idx]\n",
    "    y_t = y_train.iloc[train_idx]\n",
    "    x_val = X_train.iloc[val_idx]\n",
    "    y_val = y_train.iloc[val_idx]\n",
    "    \n",
    "    models.append(model.fit(x_t, y_t, eval_set=(x_val, y_val), early_stopping_rounds=100, verbose = 100))"
   ]
  },
  {
   "cell_type": "code",
   "execution_count": 40,
   "id": "289162eb",
   "metadata": {},
   "outputs": [
    {
     "data": {
      "text/plain": [
       "[LGBMRegressor(n_estimators=1000, random_state=777),\n",
       " LGBMRegressor(n_estimators=1000, random_state=777),\n",
       " LGBMRegressor(n_estimators=1000, random_state=777),\n",
       " LGBMRegressor(n_estimators=1000, random_state=777),\n",
       " LGBMRegressor(n_estimators=1000, random_state=777)]"
      ]
     },
     "execution_count": 40,
     "metadata": {},
     "output_type": "execute_result"
    }
   ],
   "source": [
    "models"
   ]
  },
  {
   "cell_type": "code",
   "execution_count": 41,
   "id": "aab700e3",
   "metadata": {},
   "outputs": [
    {
     "data": {
      "text/plain": [
       "5"
      ]
     },
     "execution_count": 41,
     "metadata": {},
     "output_type": "execute_result"
    }
   ],
   "source": [
    "preds = []\n",
    "\n",
    "for model in models:\n",
    "    preds.append(model.predict(X_test))\n",
    "len(preds)"
   ]
  },
  {
   "cell_type": "code",
   "execution_count": 42,
   "id": "7832e783",
   "metadata": {},
   "outputs": [],
   "source": [
    "kfoldlightGBM = submission.copy()"
   ]
  },
  {
   "cell_type": "code",
   "execution_count": 43,
   "id": "a4e2d785",
   "metadata": {},
   "outputs": [
    {
     "data": {
      "text/plain": [
       "[array([3367422.08211024,  961138.88337016, 1097929.67851313,\n",
       "        2097270.81999921,  781476.31131047,  123133.23396977,\n",
       "          84085.01896248,  199222.92670303,  124854.97973097,\n",
       "        1072684.78820647,  657040.55769984, 1644701.47160779,\n",
       "         924735.72080619,  191699.58415836,  723218.39948755,\n",
       "        2395613.42888462,  113180.54906592, 1882765.92812296,\n",
       "          97286.47282983,  417270.42113431,  161482.3367577 ,\n",
       "          63495.73363115,  598057.42337284,  249411.25868881,\n",
       "         308424.71884273, 1319518.60852241,  202273.52740684,\n",
       "        1076683.13768137,  491636.41945325,  183406.6380314 ,\n",
       "        1740233.45816734,   86696.17528125,  440430.29773088,\n",
       "        2040944.13061099,  113375.45695331,  531746.29484356,\n",
       "         106207.35971699,  169560.79581187,  158101.0895316 ,\n",
       "          95037.29701059,  466355.50624629,  197548.63265325,\n",
       "         198810.0901353 ,  682743.4340129 ,  679265.22397749,\n",
       "         617812.91125278,  219182.85833837,   83712.10602149,\n",
       "        1206257.86593038,  213886.45118276,  225829.13565632,\n",
       "         573638.25784044,  213008.72404464, 1256363.95636108,\n",
       "        1114803.4971861 ,  743531.85320002,  491360.56067236,\n",
       "         844903.11979141, 1294842.58551457, 3224861.58056056,\n",
       "         620636.85839868, 1997931.01104478,  425408.70724227,\n",
       "         187911.96484382,  146932.14876274,   60290.34778046,\n",
       "        1553051.98103674,   61273.32234969,  434403.58150991,\n",
       "         295641.77082639, 3270724.75199692,  956695.86295249,\n",
       "          52421.39380137, 1193829.08957371,  109115.94774032,\n",
       "         114532.36574566, 1889840.31759081,  263117.7221664 ,\n",
       "         110722.44800397,  129405.69463079,  295288.27657346,\n",
       "        2208289.14524844,  127156.40131508, 2356552.01519359,\n",
       "          52421.39380137, 1582094.56763018,  450263.02347743,\n",
       "         180314.7209139 ,  207866.80825891,  237980.96274482,\n",
       "          92809.10191796,  217726.13148671,  588167.04361702,\n",
       "        2269569.15414991,  413549.08320869,  504238.61127942,\n",
       "         121235.38111888,  294348.6064813 ,  365600.03475309,\n",
       "        1021310.81474734, 1255348.78654001, 1121695.37239584,\n",
       "         236858.1355381 ,  180837.57476421,  390892.54870688,\n",
       "         112045.06953824, 3091294.61560971,   71489.84756224,\n",
       "        3949551.73068699,  117269.53815136,   76582.3994148 ,\n",
       "        1933601.27793109, 1675206.65522009,  294348.6064813 ,\n",
       "          97940.27258456,  945839.01956416,  610770.20862757,\n",
       "        1804885.34137216,  199766.90646407,   70766.27122776,\n",
       "          81754.00329429, 1021310.81474734,  846364.16218315,\n",
       "          77206.4852859 ,  598474.09814662,  169200.18001164,\n",
       "          73757.25966134,   68560.19329018,  363573.18970532,\n",
       "         439100.02360785,   53273.19743239,  883179.93430519,\n",
       "          96841.00528099,   69705.57216142,  720189.94864194,\n",
       "        4682200.86959811,  157547.86592702,  598577.33917498,\n",
       "         103530.67260964,  219913.31885361,   69705.57216142,\n",
       "        3393838.48355355, 3747750.51209052,  137237.96352743,\n",
       "         205694.9146793 , 1343063.74316061,  105778.55398733,\n",
       "         113406.67661411, 2090467.44678197,  676486.18009377,\n",
       "        1653182.84275506,  151567.24115244,   82132.69602781,\n",
       "         450200.37816199,  123824.9061514 ,  841869.56483077,\n",
       "          95800.41312684,  118291.73959934, 2085585.62459758,\n",
       "        2372839.45720666,  247688.59858277, 1334681.62533764,\n",
       "         101692.7552419 ,  503472.70498147,   64636.19839218,\n",
       "         320805.50593895, 2623266.33617439,  174088.14927962,\n",
       "          72116.10600518,   80293.56098003,   89828.86338213,\n",
       "         219193.02374581,  328023.58124177,   60290.34778046,\n",
       "         516294.37658866,  236774.09865655,  163101.99672652,\n",
       "          95037.29701059, 4401076.73195112, 3540272.0939466 ,\n",
       "          80652.10214941,   64007.05829165,   91088.74649744,\n",
       "         451288.50611234, 2108891.7577948 ,  222324.39435632,\n",
       "         230969.76551419,  119869.73646973,  202629.14049356,\n",
       "        3372525.98485469,  194055.24146137,   82570.78055486,\n",
       "         107755.73232124,   98100.67856341,   64007.05829165,\n",
       "        1960017.88124655,  439387.54981251, 1311678.25959343,\n",
       "          52266.56751161,  612357.4359533 ,  277611.14005727,\n",
       "         100834.87848026,   52421.39380137,  320518.12600116,\n",
       "         622991.23928914,  905631.603816  , 2927834.24849227,\n",
       "         562358.56357488,  111381.83047422,  781476.31131047,\n",
       "         798596.64645281, 2310966.59797285, 5133725.87086224,\n",
       "        1281440.30372974,  171353.72979582,   89630.73883889,\n",
       "        1555941.58912764,  124073.12498191,   66108.35792552,\n",
       "         201459.85880026,  108993.88378627, 3134539.90969621,\n",
       "         148239.45542642,   53451.2389687 , 1307718.56304709,\n",
       "         214406.20173983,  194835.86837801, 3367422.08211024,\n",
       "         199766.90646407, 3823577.41600747,   68447.35094925,\n",
       "         739960.30606392,  506712.38290343,  150255.49362263,\n",
       "          62093.65018694,   64707.81660264,  151784.52074685,\n",
       "          80757.16568265,  177095.84545845,  210255.47503947,\n",
       "         360547.62990175,  181508.22558258,   55171.21699634]),\n",
       " array([3367422.08211024,  961138.88337016, 1097929.67851313,\n",
       "        2097270.81999921,  781476.31131047,  123133.23396977,\n",
       "          84085.01896248,  199222.92670303,  124854.97973097,\n",
       "        1072684.78820647,  657040.55769984, 1644701.47160779,\n",
       "         924735.72080619,  191699.58415836,  723218.39948755,\n",
       "        2395613.42888462,  113180.54906592, 1882765.92812296,\n",
       "          97286.47282983,  417270.42113431,  161482.3367577 ,\n",
       "          63495.73363115,  598057.42337284,  249411.25868881,\n",
       "         308424.71884273, 1319518.60852241,  202273.52740684,\n",
       "        1076683.13768137,  491636.41945325,  183406.6380314 ,\n",
       "        1740233.45816734,   86696.17528125,  440430.29773088,\n",
       "        2040944.13061099,  113375.45695331,  531746.29484356,\n",
       "         106207.35971699,  169560.79581187,  158101.0895316 ,\n",
       "          95037.29701059,  466355.50624629,  197548.63265325,\n",
       "         198810.0901353 ,  682743.4340129 ,  679265.22397749,\n",
       "         617812.91125278,  219182.85833837,   83712.10602149,\n",
       "        1206257.86593038,  213886.45118276,  225829.13565632,\n",
       "         573638.25784044,  213008.72404464, 1256363.95636108,\n",
       "        1114803.4971861 ,  743531.85320002,  491360.56067236,\n",
       "         844903.11979141, 1294842.58551457, 3224861.58056056,\n",
       "         620636.85839868, 1997931.01104478,  425408.70724227,\n",
       "         187911.96484382,  146932.14876274,   60290.34778046,\n",
       "        1553051.98103674,   61273.32234969,  434403.58150991,\n",
       "         295641.77082639, 3270724.75199692,  956695.86295249,\n",
       "          52421.39380137, 1193829.08957371,  109115.94774032,\n",
       "         114532.36574566, 1889840.31759081,  263117.7221664 ,\n",
       "         110722.44800397,  129405.69463079,  295288.27657346,\n",
       "        2208289.14524844,  127156.40131508, 2356552.01519359,\n",
       "          52421.39380137, 1582094.56763018,  450263.02347743,\n",
       "         180314.7209139 ,  207866.80825891,  237980.96274482,\n",
       "          92809.10191796,  217726.13148671,  588167.04361702,\n",
       "        2269569.15414991,  413549.08320869,  504238.61127942,\n",
       "         121235.38111888,  294348.6064813 ,  365600.03475309,\n",
       "        1021310.81474734, 1255348.78654001, 1121695.37239584,\n",
       "         236858.1355381 ,  180837.57476421,  390892.54870688,\n",
       "         112045.06953824, 3091294.61560971,   71489.84756224,\n",
       "        3949551.73068699,  117269.53815136,   76582.3994148 ,\n",
       "        1933601.27793109, 1675206.65522009,  294348.6064813 ,\n",
       "          97940.27258456,  945839.01956416,  610770.20862757,\n",
       "        1804885.34137216,  199766.90646407,   70766.27122776,\n",
       "          81754.00329429, 1021310.81474734,  846364.16218315,\n",
       "          77206.4852859 ,  598474.09814662,  169200.18001164,\n",
       "          73757.25966134,   68560.19329018,  363573.18970532,\n",
       "         439100.02360785,   53273.19743239,  883179.93430519,\n",
       "          96841.00528099,   69705.57216142,  720189.94864194,\n",
       "        4682200.86959811,  157547.86592702,  598577.33917498,\n",
       "         103530.67260964,  219913.31885361,   69705.57216142,\n",
       "        3393838.48355355, 3747750.51209052,  137237.96352743,\n",
       "         205694.9146793 , 1343063.74316061,  105778.55398733,\n",
       "         113406.67661411, 2090467.44678197,  676486.18009377,\n",
       "        1653182.84275506,  151567.24115244,   82132.69602781,\n",
       "         450200.37816199,  123824.9061514 ,  841869.56483077,\n",
       "          95800.41312684,  118291.73959934, 2085585.62459758,\n",
       "        2372839.45720666,  247688.59858277, 1334681.62533764,\n",
       "         101692.7552419 ,  503472.70498147,   64636.19839218,\n",
       "         320805.50593895, 2623266.33617439,  174088.14927962,\n",
       "          72116.10600518,   80293.56098003,   89828.86338213,\n",
       "         219193.02374581,  328023.58124177,   60290.34778046,\n",
       "         516294.37658866,  236774.09865655,  163101.99672652,\n",
       "          95037.29701059, 4401076.73195112, 3540272.0939466 ,\n",
       "          80652.10214941,   64007.05829165,   91088.74649744,\n",
       "         451288.50611234, 2108891.7577948 ,  222324.39435632,\n",
       "         230969.76551419,  119869.73646973,  202629.14049356,\n",
       "        3372525.98485469,  194055.24146137,   82570.78055486,\n",
       "         107755.73232124,   98100.67856341,   64007.05829165,\n",
       "        1960017.88124655,  439387.54981251, 1311678.25959343,\n",
       "          52266.56751161,  612357.4359533 ,  277611.14005727,\n",
       "         100834.87848026,   52421.39380137,  320518.12600116,\n",
       "         622991.23928914,  905631.603816  , 2927834.24849227,\n",
       "         562358.56357488,  111381.83047422,  781476.31131047,\n",
       "         798596.64645281, 2310966.59797285, 5133725.87086224,\n",
       "        1281440.30372974,  171353.72979582,   89630.73883889,\n",
       "        1555941.58912764,  124073.12498191,   66108.35792552,\n",
       "         201459.85880026,  108993.88378627, 3134539.90969621,\n",
       "         148239.45542642,   53451.2389687 , 1307718.56304709,\n",
       "         214406.20173983,  194835.86837801, 3367422.08211024,\n",
       "         199766.90646407, 3823577.41600747,   68447.35094925,\n",
       "         739960.30606392,  506712.38290343,  150255.49362263,\n",
       "          62093.65018694,   64707.81660264,  151784.52074685,\n",
       "          80757.16568265,  177095.84545845,  210255.47503947,\n",
       "         360547.62990175,  181508.22558258,   55171.21699634]),\n",
       " array([3367422.08211024,  961138.88337016, 1097929.67851313,\n",
       "        2097270.81999921,  781476.31131047,  123133.23396977,\n",
       "          84085.01896248,  199222.92670303,  124854.97973097,\n",
       "        1072684.78820647,  657040.55769984, 1644701.47160779,\n",
       "         924735.72080619,  191699.58415836,  723218.39948755,\n",
       "        2395613.42888462,  113180.54906592, 1882765.92812296,\n",
       "          97286.47282983,  417270.42113431,  161482.3367577 ,\n",
       "          63495.73363115,  598057.42337284,  249411.25868881,\n",
       "         308424.71884273, 1319518.60852241,  202273.52740684,\n",
       "        1076683.13768137,  491636.41945325,  183406.6380314 ,\n",
       "        1740233.45816734,   86696.17528125,  440430.29773088,\n",
       "        2040944.13061099,  113375.45695331,  531746.29484356,\n",
       "         106207.35971699,  169560.79581187,  158101.0895316 ,\n",
       "          95037.29701059,  466355.50624629,  197548.63265325,\n",
       "         198810.0901353 ,  682743.4340129 ,  679265.22397749,\n",
       "         617812.91125278,  219182.85833837,   83712.10602149,\n",
       "        1206257.86593038,  213886.45118276,  225829.13565632,\n",
       "         573638.25784044,  213008.72404464, 1256363.95636108,\n",
       "        1114803.4971861 ,  743531.85320002,  491360.56067236,\n",
       "         844903.11979141, 1294842.58551457, 3224861.58056056,\n",
       "         620636.85839868, 1997931.01104478,  425408.70724227,\n",
       "         187911.96484382,  146932.14876274,   60290.34778046,\n",
       "        1553051.98103674,   61273.32234969,  434403.58150991,\n",
       "         295641.77082639, 3270724.75199692,  956695.86295249,\n",
       "          52421.39380137, 1193829.08957371,  109115.94774032,\n",
       "         114532.36574566, 1889840.31759081,  263117.7221664 ,\n",
       "         110722.44800397,  129405.69463079,  295288.27657346,\n",
       "        2208289.14524844,  127156.40131508, 2356552.01519359,\n",
       "          52421.39380137, 1582094.56763018,  450263.02347743,\n",
       "         180314.7209139 ,  207866.80825891,  237980.96274482,\n",
       "          92809.10191796,  217726.13148671,  588167.04361702,\n",
       "        2269569.15414991,  413549.08320869,  504238.61127942,\n",
       "         121235.38111888,  294348.6064813 ,  365600.03475309,\n",
       "        1021310.81474734, 1255348.78654001, 1121695.37239584,\n",
       "         236858.1355381 ,  180837.57476421,  390892.54870688,\n",
       "         112045.06953824, 3091294.61560971,   71489.84756224,\n",
       "        3949551.73068699,  117269.53815136,   76582.3994148 ,\n",
       "        1933601.27793109, 1675206.65522009,  294348.6064813 ,\n",
       "          97940.27258456,  945839.01956416,  610770.20862757,\n",
       "        1804885.34137216,  199766.90646407,   70766.27122776,\n",
       "          81754.00329429, 1021310.81474734,  846364.16218315,\n",
       "          77206.4852859 ,  598474.09814662,  169200.18001164,\n",
       "          73757.25966134,   68560.19329018,  363573.18970532,\n",
       "         439100.02360785,   53273.19743239,  883179.93430519,\n",
       "          96841.00528099,   69705.57216142,  720189.94864194,\n",
       "        4682200.86959811,  157547.86592702,  598577.33917498,\n",
       "         103530.67260964,  219913.31885361,   69705.57216142,\n",
       "        3393838.48355355, 3747750.51209052,  137237.96352743,\n",
       "         205694.9146793 , 1343063.74316061,  105778.55398733,\n",
       "         113406.67661411, 2090467.44678197,  676486.18009377,\n",
       "        1653182.84275506,  151567.24115244,   82132.69602781,\n",
       "         450200.37816199,  123824.9061514 ,  841869.56483077,\n",
       "          95800.41312684,  118291.73959934, 2085585.62459758,\n",
       "        2372839.45720666,  247688.59858277, 1334681.62533764,\n",
       "         101692.7552419 ,  503472.70498147,   64636.19839218,\n",
       "         320805.50593895, 2623266.33617439,  174088.14927962,\n",
       "          72116.10600518,   80293.56098003,   89828.86338213,\n",
       "         219193.02374581,  328023.58124177,   60290.34778046,\n",
       "         516294.37658866,  236774.09865655,  163101.99672652,\n",
       "          95037.29701059, 4401076.73195112, 3540272.0939466 ,\n",
       "          80652.10214941,   64007.05829165,   91088.74649744,\n",
       "         451288.50611234, 2108891.7577948 ,  222324.39435632,\n",
       "         230969.76551419,  119869.73646973,  202629.14049356,\n",
       "        3372525.98485469,  194055.24146137,   82570.78055486,\n",
       "         107755.73232124,   98100.67856341,   64007.05829165,\n",
       "        1960017.88124655,  439387.54981251, 1311678.25959343,\n",
       "          52266.56751161,  612357.4359533 ,  277611.14005727,\n",
       "         100834.87848026,   52421.39380137,  320518.12600116,\n",
       "         622991.23928914,  905631.603816  , 2927834.24849227,\n",
       "         562358.56357488,  111381.83047422,  781476.31131047,\n",
       "         798596.64645281, 2310966.59797285, 5133725.87086224,\n",
       "        1281440.30372974,  171353.72979582,   89630.73883889,\n",
       "        1555941.58912764,  124073.12498191,   66108.35792552,\n",
       "         201459.85880026,  108993.88378627, 3134539.90969621,\n",
       "         148239.45542642,   53451.2389687 , 1307718.56304709,\n",
       "         214406.20173983,  194835.86837801, 3367422.08211024,\n",
       "         199766.90646407, 3823577.41600747,   68447.35094925,\n",
       "         739960.30606392,  506712.38290343,  150255.49362263,\n",
       "          62093.65018694,   64707.81660264,  151784.52074685,\n",
       "          80757.16568265,  177095.84545845,  210255.47503947,\n",
       "         360547.62990175,  181508.22558258,   55171.21699634]),\n",
       " array([3367422.08211024,  961138.88337016, 1097929.67851313,\n",
       "        2097270.81999921,  781476.31131047,  123133.23396977,\n",
       "          84085.01896248,  199222.92670303,  124854.97973097,\n",
       "        1072684.78820647,  657040.55769984, 1644701.47160779,\n",
       "         924735.72080619,  191699.58415836,  723218.39948755,\n",
       "        2395613.42888462,  113180.54906592, 1882765.92812296,\n",
       "          97286.47282983,  417270.42113431,  161482.3367577 ,\n",
       "          63495.73363115,  598057.42337284,  249411.25868881,\n",
       "         308424.71884273, 1319518.60852241,  202273.52740684,\n",
       "        1076683.13768137,  491636.41945325,  183406.6380314 ,\n",
       "        1740233.45816734,   86696.17528125,  440430.29773088,\n",
       "        2040944.13061099,  113375.45695331,  531746.29484356,\n",
       "         106207.35971699,  169560.79581187,  158101.0895316 ,\n",
       "          95037.29701059,  466355.50624629,  197548.63265325,\n",
       "         198810.0901353 ,  682743.4340129 ,  679265.22397749,\n",
       "         617812.91125278,  219182.85833837,   83712.10602149,\n",
       "        1206257.86593038,  213886.45118276,  225829.13565632,\n",
       "         573638.25784044,  213008.72404464, 1256363.95636108,\n",
       "        1114803.4971861 ,  743531.85320002,  491360.56067236,\n",
       "         844903.11979141, 1294842.58551457, 3224861.58056056,\n",
       "         620636.85839868, 1997931.01104478,  425408.70724227,\n",
       "         187911.96484382,  146932.14876274,   60290.34778046,\n",
       "        1553051.98103674,   61273.32234969,  434403.58150991,\n",
       "         295641.77082639, 3270724.75199692,  956695.86295249,\n",
       "          52421.39380137, 1193829.08957371,  109115.94774032,\n",
       "         114532.36574566, 1889840.31759081,  263117.7221664 ,\n",
       "         110722.44800397,  129405.69463079,  295288.27657346,\n",
       "        2208289.14524844,  127156.40131508, 2356552.01519359,\n",
       "          52421.39380137, 1582094.56763018,  450263.02347743,\n",
       "         180314.7209139 ,  207866.80825891,  237980.96274482,\n",
       "          92809.10191796,  217726.13148671,  588167.04361702,\n",
       "        2269569.15414991,  413549.08320869,  504238.61127942,\n",
       "         121235.38111888,  294348.6064813 ,  365600.03475309,\n",
       "        1021310.81474734, 1255348.78654001, 1121695.37239584,\n",
       "         236858.1355381 ,  180837.57476421,  390892.54870688,\n",
       "         112045.06953824, 3091294.61560971,   71489.84756224,\n",
       "        3949551.73068699,  117269.53815136,   76582.3994148 ,\n",
       "        1933601.27793109, 1675206.65522009,  294348.6064813 ,\n",
       "          97940.27258456,  945839.01956416,  610770.20862757,\n",
       "        1804885.34137216,  199766.90646407,   70766.27122776,\n",
       "          81754.00329429, 1021310.81474734,  846364.16218315,\n",
       "          77206.4852859 ,  598474.09814662,  169200.18001164,\n",
       "          73757.25966134,   68560.19329018,  363573.18970532,\n",
       "         439100.02360785,   53273.19743239,  883179.93430519,\n",
       "          96841.00528099,   69705.57216142,  720189.94864194,\n",
       "        4682200.86959811,  157547.86592702,  598577.33917498,\n",
       "         103530.67260964,  219913.31885361,   69705.57216142,\n",
       "        3393838.48355355, 3747750.51209052,  137237.96352743,\n",
       "         205694.9146793 , 1343063.74316061,  105778.55398733,\n",
       "         113406.67661411, 2090467.44678197,  676486.18009377,\n",
       "        1653182.84275506,  151567.24115244,   82132.69602781,\n",
       "         450200.37816199,  123824.9061514 ,  841869.56483077,\n",
       "          95800.41312684,  118291.73959934, 2085585.62459758,\n",
       "        2372839.45720666,  247688.59858277, 1334681.62533764,\n",
       "         101692.7552419 ,  503472.70498147,   64636.19839218,\n",
       "         320805.50593895, 2623266.33617439,  174088.14927962,\n",
       "          72116.10600518,   80293.56098003,   89828.86338213,\n",
       "         219193.02374581,  328023.58124177,   60290.34778046,\n",
       "         516294.37658866,  236774.09865655,  163101.99672652,\n",
       "          95037.29701059, 4401076.73195112, 3540272.0939466 ,\n",
       "          80652.10214941,   64007.05829165,   91088.74649744,\n",
       "         451288.50611234, 2108891.7577948 ,  222324.39435632,\n",
       "         230969.76551419,  119869.73646973,  202629.14049356,\n",
       "        3372525.98485469,  194055.24146137,   82570.78055486,\n",
       "         107755.73232124,   98100.67856341,   64007.05829165,\n",
       "        1960017.88124655,  439387.54981251, 1311678.25959343,\n",
       "          52266.56751161,  612357.4359533 ,  277611.14005727,\n",
       "         100834.87848026,   52421.39380137,  320518.12600116,\n",
       "         622991.23928914,  905631.603816  , 2927834.24849227,\n",
       "         562358.56357488,  111381.83047422,  781476.31131047,\n",
       "         798596.64645281, 2310966.59797285, 5133725.87086224,\n",
       "        1281440.30372974,  171353.72979582,   89630.73883889,\n",
       "        1555941.58912764,  124073.12498191,   66108.35792552,\n",
       "         201459.85880026,  108993.88378627, 3134539.90969621,\n",
       "         148239.45542642,   53451.2389687 , 1307718.56304709,\n",
       "         214406.20173983,  194835.86837801, 3367422.08211024,\n",
       "         199766.90646407, 3823577.41600747,   68447.35094925,\n",
       "         739960.30606392,  506712.38290343,  150255.49362263,\n",
       "          62093.65018694,   64707.81660264,  151784.52074685,\n",
       "          80757.16568265,  177095.84545845,  210255.47503947,\n",
       "         360547.62990175,  181508.22558258,   55171.21699634]),\n",
       " array([3367422.08211024,  961138.88337016, 1097929.67851313,\n",
       "        2097270.81999921,  781476.31131047,  123133.23396977,\n",
       "          84085.01896248,  199222.92670303,  124854.97973097,\n",
       "        1072684.78820647,  657040.55769984, 1644701.47160779,\n",
       "         924735.72080619,  191699.58415836,  723218.39948755,\n",
       "        2395613.42888462,  113180.54906592, 1882765.92812296,\n",
       "          97286.47282983,  417270.42113431,  161482.3367577 ,\n",
       "          63495.73363115,  598057.42337284,  249411.25868881,\n",
       "         308424.71884273, 1319518.60852241,  202273.52740684,\n",
       "        1076683.13768137,  491636.41945325,  183406.6380314 ,\n",
       "        1740233.45816734,   86696.17528125,  440430.29773088,\n",
       "        2040944.13061099,  113375.45695331,  531746.29484356,\n",
       "         106207.35971699,  169560.79581187,  158101.0895316 ,\n",
       "          95037.29701059,  466355.50624629,  197548.63265325,\n",
       "         198810.0901353 ,  682743.4340129 ,  679265.22397749,\n",
       "         617812.91125278,  219182.85833837,   83712.10602149,\n",
       "        1206257.86593038,  213886.45118276,  225829.13565632,\n",
       "         573638.25784044,  213008.72404464, 1256363.95636108,\n",
       "        1114803.4971861 ,  743531.85320002,  491360.56067236,\n",
       "         844903.11979141, 1294842.58551457, 3224861.58056056,\n",
       "         620636.85839868, 1997931.01104478,  425408.70724227,\n",
       "         187911.96484382,  146932.14876274,   60290.34778046,\n",
       "        1553051.98103674,   61273.32234969,  434403.58150991,\n",
       "         295641.77082639, 3270724.75199692,  956695.86295249,\n",
       "          52421.39380137, 1193829.08957371,  109115.94774032,\n",
       "         114532.36574566, 1889840.31759081,  263117.7221664 ,\n",
       "         110722.44800397,  129405.69463079,  295288.27657346,\n",
       "        2208289.14524844,  127156.40131508, 2356552.01519359,\n",
       "          52421.39380137, 1582094.56763018,  450263.02347743,\n",
       "         180314.7209139 ,  207866.80825891,  237980.96274482,\n",
       "          92809.10191796,  217726.13148671,  588167.04361702,\n",
       "        2269569.15414991,  413549.08320869,  504238.61127942,\n",
       "         121235.38111888,  294348.6064813 ,  365600.03475309,\n",
       "        1021310.81474734, 1255348.78654001, 1121695.37239584,\n",
       "         236858.1355381 ,  180837.57476421,  390892.54870688,\n",
       "         112045.06953824, 3091294.61560971,   71489.84756224,\n",
       "        3949551.73068699,  117269.53815136,   76582.3994148 ,\n",
       "        1933601.27793109, 1675206.65522009,  294348.6064813 ,\n",
       "          97940.27258456,  945839.01956416,  610770.20862757,\n",
       "        1804885.34137216,  199766.90646407,   70766.27122776,\n",
       "          81754.00329429, 1021310.81474734,  846364.16218315,\n",
       "          77206.4852859 ,  598474.09814662,  169200.18001164,\n",
       "          73757.25966134,   68560.19329018,  363573.18970532,\n",
       "         439100.02360785,   53273.19743239,  883179.93430519,\n",
       "          96841.00528099,   69705.57216142,  720189.94864194,\n",
       "        4682200.86959811,  157547.86592702,  598577.33917498,\n",
       "         103530.67260964,  219913.31885361,   69705.57216142,\n",
       "        3393838.48355355, 3747750.51209052,  137237.96352743,\n",
       "         205694.9146793 , 1343063.74316061,  105778.55398733,\n",
       "         113406.67661411, 2090467.44678197,  676486.18009377,\n",
       "        1653182.84275506,  151567.24115244,   82132.69602781,\n",
       "         450200.37816199,  123824.9061514 ,  841869.56483077,\n",
       "          95800.41312684,  118291.73959934, 2085585.62459758,\n",
       "        2372839.45720666,  247688.59858277, 1334681.62533764,\n",
       "         101692.7552419 ,  503472.70498147,   64636.19839218,\n",
       "         320805.50593895, 2623266.33617439,  174088.14927962,\n",
       "          72116.10600518,   80293.56098003,   89828.86338213,\n",
       "         219193.02374581,  328023.58124177,   60290.34778046,\n",
       "         516294.37658866,  236774.09865655,  163101.99672652,\n",
       "          95037.29701059, 4401076.73195112, 3540272.0939466 ,\n",
       "          80652.10214941,   64007.05829165,   91088.74649744,\n",
       "         451288.50611234, 2108891.7577948 ,  222324.39435632,\n",
       "         230969.76551419,  119869.73646973,  202629.14049356,\n",
       "        3372525.98485469,  194055.24146137,   82570.78055486,\n",
       "         107755.73232124,   98100.67856341,   64007.05829165,\n",
       "        1960017.88124655,  439387.54981251, 1311678.25959343,\n",
       "          52266.56751161,  612357.4359533 ,  277611.14005727,\n",
       "         100834.87848026,   52421.39380137,  320518.12600116,\n",
       "         622991.23928914,  905631.603816  , 2927834.24849227,\n",
       "         562358.56357488,  111381.83047422,  781476.31131047,\n",
       "         798596.64645281, 2310966.59797285, 5133725.87086224,\n",
       "        1281440.30372974,  171353.72979582,   89630.73883889,\n",
       "        1555941.58912764,  124073.12498191,   66108.35792552,\n",
       "         201459.85880026,  108993.88378627, 3134539.90969621,\n",
       "         148239.45542642,   53451.2389687 , 1307718.56304709,\n",
       "         214406.20173983,  194835.86837801, 3367422.08211024,\n",
       "         199766.90646407, 3823577.41600747,   68447.35094925,\n",
       "         739960.30606392,  506712.38290343,  150255.49362263,\n",
       "          62093.65018694,   64707.81660264,  151784.52074685,\n",
       "          80757.16568265,  177095.84545845,  210255.47503947,\n",
       "         360547.62990175,  181508.22558258,   55171.21699634])]"
      ]
     },
     "execution_count": 43,
     "metadata": {},
     "output_type": "execute_result"
    }
   ],
   "source": [
    "preds"
   ]
  },
  {
   "cell_type": "code",
   "execution_count": 44,
   "id": "ea628e24",
   "metadata": {},
   "outputs": [],
   "source": [
    "import numpy as np"
   ]
  },
  {
   "cell_type": "code",
   "execution_count": 45,
   "id": "706b992e",
   "metadata": {},
   "outputs": [],
   "source": [
    "kfoldlightGBM['box_off_num'] = np.mean(preds, axis=0)"
   ]
  },
  {
   "cell_type": "code",
   "execution_count": 46,
   "id": "d95efab9",
   "metadata": {},
   "outputs": [],
   "source": [
    "kfoldlightGBM.to_csv('kfoldLightGBM.csv', index=False)"
   ]
  },
  {
   "cell_type": "markdown",
   "id": "85d15e1c",
   "metadata": {},
   "source": [
    "### feature engingeering"
   ]
  },
  {
   "cell_type": "code",
   "execution_count": 47,
   "id": "e89dc434",
   "metadata": {},
   "outputs": [
    {
     "data": {
      "text/plain": [
       "['time', 'dir_prev_num', 'num_staff', 'num_actor']"
      ]
     },
     "execution_count": 47,
     "metadata": {},
     "output_type": "execute_result"
    }
   ],
   "source": [
    "features"
   ]
  },
  {
   "cell_type": "code",
   "execution_count": 48,
   "id": "6665c458",
   "metadata": {},
   "outputs": [
    {
     "data": {
      "text/plain": [
       "Index(['title', 'distributor', 'genre', 'release_time', 'time',\n",
       "       'screening_rat', 'director', 'dir_prev_bfnum', 'dir_prev_num',\n",
       "       'num_staff', 'num_actor', 'box_off_num'],\n",
       "      dtype='object')"
      ]
     },
     "execution_count": 48,
     "metadata": {},
     "output_type": "execute_result"
    }
   ],
   "source": [
    "train.columns"
   ]
  },
  {
   "cell_type": "code",
   "execution_count": 49,
   "id": "81a71963",
   "metadata": {},
   "outputs": [
    {
     "data": {
      "text/plain": [
       "0       액션\n",
       "1      느와르\n",
       "2       액션\n",
       "3      코미디\n",
       "4      코미디\n",
       "      ... \n",
       "595    드라마\n",
       "596    드라마\n",
       "597     공포\n",
       "598    느와르\n",
       "599     액션\n",
       "Name: genre, Length: 600, dtype: object"
      ]
     },
     "execution_count": 49,
     "metadata": {},
     "output_type": "execute_result"
    }
   ],
   "source": [
    "train.genre"
   ]
  },
  {
   "cell_type": "code",
   "execution_count": 50,
   "id": "8c00b93b",
   "metadata": {},
   "outputs": [],
   "source": [
    "from sklearn import preprocessing"
   ]
  },
  {
   "cell_type": "code",
   "execution_count": 51,
   "id": "383b9565",
   "metadata": {},
   "outputs": [],
   "source": [
    "le = preprocessing.LabelEncoder()\n",
    "# 유니크한 라벨에 각가의 고유번호를 부여\n",
    "train['genre'] = le.fit_transform(train['genre'])"
   ]
  },
  {
   "cell_type": "code",
   "execution_count": 52,
   "id": "1f756d6f",
   "metadata": {},
   "outputs": [
    {
     "data": {
      "text/plain": [
       "0      10\n",
       "1       2\n",
       "2      10\n",
       "3      11\n",
       "4      11\n",
       "       ..\n",
       "595     4\n",
       "596     4\n",
       "597     1\n",
       "598     2\n",
       "599    10\n",
       "Name: genre, Length: 600, dtype: int32"
      ]
     },
     "execution_count": 52,
     "metadata": {},
     "output_type": "execute_result"
    }
   ],
   "source": [
    "train.genre"
   ]
  },
  {
   "cell_type": "code",
   "execution_count": 53,
   "id": "5cc315e0",
   "metadata": {},
   "outputs": [],
   "source": [
    "# fit_transform에서 이미 학습(적용) 시켰기 때문에 fit_transform을 쓰면 안된다\n",
    "# 고유번호가 달라질 수 있기 때문에\n",
    "test['genre'] = le.transform(test['genre'])"
   ]
  },
  {
   "cell_type": "code",
   "execution_count": 54,
   "id": "215147c9",
   "metadata": {},
   "outputs": [],
   "source": [
    "features = ['time', 'dir_prev_num', 'num_staff', 'num_actor', 'dir_prev_bfnum', 'genre']"
   ]
  },
  {
   "cell_type": "code",
   "execution_count": 55,
   "id": "d1cce20f",
   "metadata": {},
   "outputs": [],
   "source": [
    "X_train, X_test, y_train = train[features], test[features], train[target]"
   ]
  },
  {
   "cell_type": "code",
   "execution_count": 59,
   "id": "5065ff2b",
   "metadata": {},
   "outputs": [
    {
     "name": "stdout",
     "output_type": "stream",
     "text": [
      "Training until validation scores don't improve for 100 rounds\n",
      "[100]\tvalid_0's l2: 2.62067e+12\n",
      "Early stopping, best iteration is:\n",
      "[9]\tvalid_0's l2: 2.42668e+12\n",
      "Training until validation scores don't improve for 100 rounds\n",
      "[100]\tvalid_0's l2: 4.39227e+12\n",
      "Early stopping, best iteration is:\n",
      "[23]\tvalid_0's l2: 3.97173e+12\n",
      "Training until validation scores don't improve for 100 rounds\n",
      "[100]\tvalid_0's l2: 3.29841e+12\n",
      "Early stopping, best iteration is:\n",
      "[10]\tvalid_0's l2: 2.53643e+12\n",
      "Training until validation scores don't improve for 100 rounds\n",
      "[100]\tvalid_0's l2: 1.56499e+12\n",
      "Early stopping, best iteration is:\n",
      "[16]\tvalid_0's l2: 1.21201e+12\n",
      "Training until validation scores don't improve for 100 rounds\n",
      "[100]\tvalid_0's l2: 1.60118e+12\n",
      "Early stopping, best iteration is:\n",
      "[29]\tvalid_0's l2: 1.47528e+12\n"
     ]
    }
   ],
   "source": [
    "model = lgb.LGBMRegressor(random_state=777, n_estimators=1000)\n",
    "models = []\n",
    "\n",
    "for train_idx, val_idx in k_fold.split(X_train):\n",
    "    x_t = X_train.iloc[train_idx]\n",
    "    y_t = y_train.iloc[train_idx]\n",
    "    val_x = X_train.iloc[val_idx]\n",
    "    val_y = y_train.iloc[val_idx]\n",
    "    \n",
    "    models.append(model.fit(x_t, y_t, eval_set=(val_x, val_y), early_stopping_rounds=100, verbose=100))"
   ]
  },
  {
   "cell_type": "code",
   "execution_count": 60,
   "id": "8c918867",
   "metadata": {},
   "outputs": [],
   "source": [
    "preds = []\n",
    "\n",
    "for model in models:\n",
    "    preds.append(model.predict(X_test))"
   ]
  },
  {
   "cell_type": "code",
   "execution_count": 64,
   "id": "9c7c1396",
   "metadata": {},
   "outputs": [],
   "source": [
    "feLightGBM = submission.copy()"
   ]
  },
  {
   "cell_type": "code",
   "execution_count": 65,
   "id": "3bfd839e",
   "metadata": {},
   "outputs": [],
   "source": [
    "feLightGBM['box_off_num'] = np.mean(preds, axis=0)"
   ]
  },
  {
   "cell_type": "code",
   "execution_count": 66,
   "id": "c9093177",
   "metadata": {},
   "outputs": [],
   "source": [
    "feLightGBM.to_csv('feLightGBM.csv', index=False)"
   ]
  },
  {
   "attachments": {},
   "cell_type": "markdown",
   "id": "5eae8835",
   "metadata": {},
   "source": [
    "![feLightGBM](./img/feLightGBM.png)\n",
    "성능이 조금 더 좋아짐"
   ]
  },
  {
   "attachments": {},
   "cell_type": "markdown",
   "id": "bfbad1c5",
   "metadata": {},
   "source": [
    "# Grid Search\n",
    "![GridSearch](./img/gridsearch.png)  \n",
    "\n",
    "하이퍼파라미터를 수정하는 과정을 거쳐 성능 향상"
   ]
  },
  {
   "cell_type": "code",
   "execution_count": 67,
   "id": "3f83c903",
   "metadata": {},
   "outputs": [],
   "source": [
    "from sklearn.model_selection import GridSearchCV"
   ]
  },
  {
   "cell_type": "code",
   "execution_count": 78,
   "id": "879bbd88",
   "metadata": {},
   "outputs": [],
   "source": [
    "model = lgb.LGBMRegressor(random_state=777, n_estimators=1000)\n",
    "\n",
    "# 3 X 2 조합. 파라미터는 어떤규율이 좋은지 일일이 다 찾아가면서 맞춰야 한다\n",
    "params = {\n",
    "    'learning_rate': [0.1, 0.01, 0.003],\n",
    "    'min_child_samples': [20, 30]}\n",
    "\n",
    "gs = GridSearchCV(estimator=model,\n",
    "                 param_grid=params,\n",
    "                # scoring 같은 경우는 평가 지표에 따라 다른데 이번 대회 같은 경우는 \n",
    "                # 평균 제곱 오차(MSE)의 반댓값(즉, 음숫값)을 계산하는 neg_mean_squared_error 함수가 평가지표임\n",
    "                 scoring='neg_mean_squared_error',\n",
    "                # 5를 넣어도 됨\n",
    "                 cv = k_fold)"
   ]
  },
  {
   "cell_type": "code",
   "execution_count": 79,
   "id": "f30637ac",
   "metadata": {},
   "outputs": [
    {
     "data": {
      "text/plain": [
       "GridSearchCV(cv=KFold(n_splits=5, random_state=777, shuffle=True),\n",
       "             estimator=LGBMRegressor(n_estimators=1000, random_state=777),\n",
       "             param_grid={'learning_rate': [0.1, 0.01, 0.003],\n",
       "                         'min_child_samples': [20, 30]},\n",
       "             scoring='neg_mean_squared_error')"
      ]
     },
     "execution_count": 79,
     "metadata": {},
     "output_type": "execute_result"
    }
   ],
   "source": [
    "gs.fit(X_train, y_train)"
   ]
  },
  {
   "cell_type": "code",
   "execution_count": 81,
   "id": "b7940c2c",
   "metadata": {},
   "outputs": [
    {
     "data": {
      "text/plain": [
       "{'learning_rate': 0.003, 'min_child_samples': 30}"
      ]
     },
     "execution_count": 81,
     "metadata": {},
     "output_type": "execute_result"
    }
   ],
   "source": [
    "gs.best_params_"
   ]
  },
  {
   "cell_type": "code",
   "execution_count": 85,
   "id": "5a650aae",
   "metadata": {},
   "outputs": [
    {
     "name": "stdout",
     "output_type": "stream",
     "text": [
      "Training until validation scores don't improve for 100 rounds\n",
      "[100]\tvalid_0's l2: 2.56673e+12\n",
      "[200]\tvalid_0's l2: 2.45583e+12\n",
      "[300]\tvalid_0's l2: 2.42575e+12\n",
      "[400]\tvalid_0's l2: 2.43392e+12\n",
      "Early stopping, best iteration is:\n",
      "[335]\tvalid_0's l2: 2.42348e+12\n",
      "Training until validation scores don't improve for 100 rounds\n",
      "[100]\tvalid_0's l2: 4.89194e+12\n",
      "[200]\tvalid_0's l2: 4.40922e+12\n",
      "[300]\tvalid_0's l2: 4.19146e+12\n",
      "[400]\tvalid_0's l2: 4.05951e+12\n",
      "[500]\tvalid_0's l2: 3.96931e+12\n",
      "[600]\tvalid_0's l2: 3.91727e+12\n",
      "[700]\tvalid_0's l2: 3.88462e+12\n",
      "[800]\tvalid_0's l2: 3.87695e+12\n",
      "[900]\tvalid_0's l2: 3.87088e+12\n",
      "Early stopping, best iteration is:\n",
      "[876]\tvalid_0's l2: 3.87035e+12\n",
      "Training until validation scores don't improve for 100 rounds\n",
      "[100]\tvalid_0's l2: 3.14361e+12\n",
      "[200]\tvalid_0's l2: 2.79286e+12\n",
      "[300]\tvalid_0's l2: 2.59302e+12\n",
      "[400]\tvalid_0's l2: 2.47608e+12\n",
      "[500]\tvalid_0's l2: 2.40386e+12\n",
      "[600]\tvalid_0's l2: 2.36407e+12\n",
      "[700]\tvalid_0's l2: 2.38505e+12\n",
      "Early stopping, best iteration is:\n",
      "[647]\tvalid_0's l2: 2.35685e+12\n",
      "Training until validation scores don't improve for 100 rounds\n",
      "[100]\tvalid_0's l2: 1.60592e+12\n",
      "[200]\tvalid_0's l2: 1.40227e+12\n",
      "[300]\tvalid_0's l2: 1.30053e+12\n",
      "[400]\tvalid_0's l2: 1.25184e+12\n",
      "[500]\tvalid_0's l2: 1.23543e+12\n",
      "[600]\tvalid_0's l2: 1.23595e+12\n",
      "Early stopping, best iteration is:\n",
      "[536]\tvalid_0's l2: 1.23368e+12\n",
      "Training until validation scores don't improve for 100 rounds\n",
      "[100]\tvalid_0's l2: 1.96107e+12\n",
      "[200]\tvalid_0's l2: 1.75478e+12\n",
      "[300]\tvalid_0's l2: 1.64513e+12\n",
      "[400]\tvalid_0's l2: 1.58132e+12\n",
      "[500]\tvalid_0's l2: 1.54801e+12\n",
      "[600]\tvalid_0's l2: 1.52159e+12\n",
      "[700]\tvalid_0's l2: 1.50655e+12\n",
      "[800]\tvalid_0's l2: 1.49834e+12\n",
      "[900]\tvalid_0's l2: 1.50018e+12\n",
      "Early stopping, best iteration is:\n",
      "[873]\tvalid_0's l2: 1.49621e+12\n"
     ]
    }
   ],
   "source": [
    "model = lgb.LGBMRegressor(random_state=777, n_estimators=1000, learning_rate= 0.003, min_child_samples=30)\n",
    "\n",
    "models = []\n",
    "\n",
    "for train_idx, val_idx in k_fold.split(X_train):\n",
    "    x_t = X_train.iloc[train_idx]\n",
    "    y_t = y_train.iloc[train_idx]\n",
    "    x_val = X_train.iloc[val_idx]\n",
    "    y_val = y_train.iloc[val_idx]\n",
    "    \n",
    "    models.append(model.fit(x_t, y_t, eval_set=(x_val, y_val), early_stopping_rounds=100, verbose = 100))"
   ]
  },
  {
   "cell_type": "code",
   "execution_count": 83,
   "id": "95ff490a",
   "metadata": {},
   "outputs": [],
   "source": [
    "preds = []\n",
    "for model in models:\n",
    "    preds.append(model.predict(X_test))"
   ]
  },
  {
   "cell_type": "code",
   "execution_count": 86,
   "id": "a83a01d0",
   "metadata": {},
   "outputs": [],
   "source": [
    "gslgbm = submission.copy()"
   ]
  },
  {
   "cell_type": "code",
   "execution_count": 87,
   "id": "f2c9e5c2",
   "metadata": {},
   "outputs": [],
   "source": [
    "gslgbm['box_off_num'] = np.mean(preds, axis = 0)"
   ]
  },
  {
   "cell_type": "code",
   "execution_count": 88,
   "id": "ca64efe4",
   "metadata": {},
   "outputs": [],
   "source": [
    "gslgbm.to_csv('gslgbm.csv', index = False)"
   ]
  },
  {
   "attachments": {},
   "cell_type": "markdown",
   "id": "6c9f5174",
   "metadata": {},
   "source": [
    "![gslgvm](./img/gslgvm.png)\n",
    "\n",
    "성능이 더 안좋아졌음\n",
    "모든 학습이 트레인셋 으로 학습하였기 때문에 반영이 잘 안됐기 때문에  \n",
    "테스트 셋의 평가가 별로 달라지지 않을 수가 있음  \n",
    "데이터량이 더 많으면 달라질 수 있음  \n",
    "\n",
    "새로운 컬럼을 사용하거나 하이퍼라미터 수정!!"
   ]
  },
  {
   "cell_type": "code",
   "execution_count": null,
   "id": "ad48606c",
   "metadata": {},
   "outputs": [],
   "source": []
  }
 ],
 "metadata": {
  "kernelspec": {
   "display_name": "Python 3 (ipykernel)",
   "language": "python",
   "name": "python3"
  },
  "language_info": {
   "codemirror_mode": {
    "name": "ipython",
    "version": 3
   },
   "file_extension": ".py",
   "mimetype": "text/x-python",
   "name": "python",
   "nbconvert_exporter": "python",
   "pygments_lexer": "ipython3",
   "version": "3.9.6"
  }
 },
 "nbformat": 4,
 "nbformat_minor": 5
}
