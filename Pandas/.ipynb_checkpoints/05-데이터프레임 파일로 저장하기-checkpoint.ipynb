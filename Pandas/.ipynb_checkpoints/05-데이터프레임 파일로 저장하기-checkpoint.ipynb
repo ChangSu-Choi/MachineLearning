{
 "cells": [
  {
   "cell_type": "markdown",
   "id": "91352d94",
   "metadata": {},
   "source": [
    "# 데이터프레임 csv/tsv/txt 파일로 저장하기\n",
    "\n",
    "데이터 프레임을 파일로 저장하기 위해서는 일반적으로 **to_csv(...) 함수**를 사용하며, to_csv(...)에서 분리자를 나타내는 **sep='...'옵션을 사용하면 csv/tsv/txt등의 다양한 파일 형식으로 저장할 수 있음**"
   ]
  },
  {
   "cell_type": "code",
   "execution_count": 8,
   "id": "a70d5594",
   "metadata": {},
   "outputs": [
    {
     "data": {
      "text/html": [
       "<div>\n",
       "<style scoped>\n",
       "    .dataframe tbody tr th:only-of-type {\n",
       "        vertical-align: middle;\n",
       "    }\n",
       "\n",
       "    .dataframe tbody tr th {\n",
       "        vertical-align: top;\n",
       "    }\n",
       "\n",
       "    .dataframe thead th {\n",
       "        text-align: right;\n",
       "    }\n",
       "</style>\n",
       "<table border=\"1\" class=\"dataframe\">\n",
       "  <thead>\n",
       "    <tr style=\"text-align: right;\">\n",
       "      <th></th>\n",
       "      <th>Name</th>\n",
       "      <th>Country</th>\n",
       "      <th>Age</th>\n",
       "      <th>Job</th>\n",
       "    </tr>\n",
       "  </thead>\n",
       "  <tbody>\n",
       "    <tr>\n",
       "      <th>0</th>\n",
       "      <td>John</td>\n",
       "      <td>USA</td>\n",
       "      <td>31</td>\n",
       "      <td>Student</td>\n",
       "    </tr>\n",
       "    <tr>\n",
       "      <th>1</th>\n",
       "      <td>Sabre</td>\n",
       "      <td>France</td>\n",
       "      <td>33</td>\n",
       "      <td>Lawyer</td>\n",
       "    </tr>\n",
       "    <tr>\n",
       "      <th>2</th>\n",
       "      <td>Kim</td>\n",
       "      <td>Korea</td>\n",
       "      <td>28</td>\n",
       "      <td>Chef</td>\n",
       "    </tr>\n",
       "  </tbody>\n",
       "</table>\n",
       "</div>"
      ],
      "text/plain": [
       "    Name Country  Age      Job\n",
       "0   John     USA   31  Student\n",
       "1  Sabre  France   33   Lawyer\n",
       "2    Kim   Korea   28     Chef"
      ]
     },
     "execution_count": 8,
     "metadata": {},
     "output_type": "execute_result"
    }
   ],
   "source": [
    "import pandas as pd\n",
    "\n",
    "persons_dic = {'Name' : ['John', 'Sabre', 'Kim'],\n",
    "               'Country' : ['USA', 'France', 'Korea'],\n",
    "               'Age' : [31, 33, 28],\n",
    "               'Job' : ['Student', 'Lawyer', 'Chef']}\n",
    "\n",
    "df1 = pd.DataFrame(persons_dic)\n",
    "df1"
   ]
  },
  {
   "cell_type": "code",
   "execution_count": 15,
   "id": "c8a4826b",
   "metadata": {},
   "outputs": [],
   "source": [
    "# 분리자(seperator)로서 comma, tab, space 지정하여 저장\n",
    "# 분리자 옵션을 생략하면 기본적으로 sep=',' 인식\n",
    "\n",
    "df1.to_csv('data/person_01.csv', sep=',') # comma로 분리해서 저장\n",
    "df1.to_csv('data/person_01.tsv', sep='\\t') # tab으로 분리해서 저장\n",
    "df1.to_csv('data/person_01.txt', sep=' ') # 공백으로 분리해서 저장"
   ]
  },
  {
   "cell_type": "markdown",
   "id": "57026e97",
   "metadata": {},
   "source": [
    "# 데이터프레임 엑셀(excel)파일로 저장하기\n",
    "\n",
    "데이터 프레임을 엑셀 파일로 저장하기 위해서는\n",
    "1. **xlwt, openpyxl 라이브러리를 설치한 후에**  \n",
    "2. **to_excel(...) 함수를 이용하여 데이터프레임을 엑셀(excel) 파일로 저장 할 수 있음**"
   ]
  },
  {
   "cell_type": "code",
   "execution_count": 16,
   "id": "917df7ae",
   "metadata": {},
   "outputs": [
    {
     "data": {
      "text/html": [
       "<div>\n",
       "<style scoped>\n",
       "    .dataframe tbody tr th:only-of-type {\n",
       "        vertical-align: middle;\n",
       "    }\n",
       "\n",
       "    .dataframe tbody tr th {\n",
       "        vertical-align: top;\n",
       "    }\n",
       "\n",
       "    .dataframe thead th {\n",
       "        text-align: right;\n",
       "    }\n",
       "</style>\n",
       "<table border=\"1\" class=\"dataframe\">\n",
       "  <thead>\n",
       "    <tr style=\"text-align: right;\">\n",
       "      <th></th>\n",
       "      <th>Name</th>\n",
       "      <th>Country</th>\n",
       "      <th>Age</th>\n",
       "      <th>Job</th>\n",
       "    </tr>\n",
       "  </thead>\n",
       "  <tbody>\n",
       "    <tr>\n",
       "      <th>0</th>\n",
       "      <td>John</td>\n",
       "      <td>USA</td>\n",
       "      <td>31</td>\n",
       "      <td>Student</td>\n",
       "    </tr>\n",
       "    <tr>\n",
       "      <th>1</th>\n",
       "      <td>Sabre</td>\n",
       "      <td>France</td>\n",
       "      <td>33</td>\n",
       "      <td>Lawyer</td>\n",
       "    </tr>\n",
       "    <tr>\n",
       "      <th>2</th>\n",
       "      <td>Kim</td>\n",
       "      <td>Korea</td>\n",
       "      <td>28</td>\n",
       "      <td>Chef</td>\n",
       "    </tr>\n",
       "  </tbody>\n",
       "</table>\n",
       "</div>"
      ],
      "text/plain": [
       "    Name Country  Age      Job\n",
       "0   John     USA   31  Student\n",
       "1  Sabre  France   33   Lawyer\n",
       "2    Kim   Korea   28     Chef"
      ]
     },
     "execution_count": 16,
     "metadata": {},
     "output_type": "execute_result"
    }
   ],
   "source": [
    "df1"
   ]
  },
  {
   "cell_type": "code",
   "execution_count": 17,
   "id": "58828997",
   "metadata": {},
   "outputs": [
    {
     "name": "stderr",
     "output_type": "stream",
     "text": [
      "C:\\Users\\Public\\Documents\\ESTsoft\\CreatorTemp/ipykernel_19124/3103406969.py:3: FutureWarning: As the xlwt package is no longer maintained, the xlwt engine will be removed in a future version of pandas. This is the only engine in pandas that supports writing in the xls format. Install openpyxl and write to an xlsx file instead. You can set the option io.excel.xls.writer to 'xlwt' to silence this warning. While this option is deprecated and will also raise a warning, it can be globally set and the warning suppressed.\n",
      "  df1.to_excel('data/persons_03.xls')\n"
     ]
    }
   ],
   "source": [
    "# 데이터프레임을 엑셀의 xls 형식으로 저장\n",
    "import xlwt\n",
    "df1.to_excel('data/persons_03.xls')\n",
    "\n",
    "# 데이터프레임을 엑셀의 xlsx 형식으로 저장\n",
    "import openpyxl\n",
    "df1.to_excel('data/person_03.xlsx') "
   ]
  },
  {
   "cell_type": "markdown",
   "id": "e5bee2d0",
   "metadata": {},
   "source": [
    "# 데이터프레임 JSON 파일로 저장하기\n",
    "\n",
    "JSON(JavaScript Object Notation)은 네트워크를 통해 데이터를 주고받을 때 자주 사용되고 표준화된 경량(light) 데이터 형식이며, to_json(...)함수를 사용하여 데이터프레임을 JSON 파일로 저장 할 수 있음"
   ]
  },
  {
   "cell_type": "code",
   "execution_count": 18,
   "id": "f0fa7f0e",
   "metadata": {},
   "outputs": [
    {
     "data": {
      "text/html": [
       "<div>\n",
       "<style scoped>\n",
       "    .dataframe tbody tr th:only-of-type {\n",
       "        vertical-align: middle;\n",
       "    }\n",
       "\n",
       "    .dataframe tbody tr th {\n",
       "        vertical-align: top;\n",
       "    }\n",
       "\n",
       "    .dataframe thead th {\n",
       "        text-align: right;\n",
       "    }\n",
       "</style>\n",
       "<table border=\"1\" class=\"dataframe\">\n",
       "  <thead>\n",
       "    <tr style=\"text-align: right;\">\n",
       "      <th></th>\n",
       "      <th>Name</th>\n",
       "      <th>Country</th>\n",
       "      <th>Age</th>\n",
       "      <th>Job</th>\n",
       "    </tr>\n",
       "  </thead>\n",
       "  <tbody>\n",
       "    <tr>\n",
       "      <th>0</th>\n",
       "      <td>John</td>\n",
       "      <td>USA</td>\n",
       "      <td>31</td>\n",
       "      <td>Student</td>\n",
       "    </tr>\n",
       "    <tr>\n",
       "      <th>1</th>\n",
       "      <td>Sabre</td>\n",
       "      <td>France</td>\n",
       "      <td>33</td>\n",
       "      <td>Lawyer</td>\n",
       "    </tr>\n",
       "    <tr>\n",
       "      <th>2</th>\n",
       "      <td>Kim</td>\n",
       "      <td>Korea</td>\n",
       "      <td>28</td>\n",
       "      <td>Chef</td>\n",
       "    </tr>\n",
       "  </tbody>\n",
       "</table>\n",
       "</div>"
      ],
      "text/plain": [
       "    Name Country  Age      Job\n",
       "0   John     USA   31  Student\n",
       "1  Sabre  France   33   Lawyer\n",
       "2    Kim   Korea   28     Chef"
      ]
     },
     "execution_count": 18,
     "metadata": {},
     "output_type": "execute_result"
    }
   ],
   "source": [
    "df1"
   ]
  },
  {
   "cell_type": "code",
   "execution_count": 14,
   "id": "672b696a",
   "metadata": {},
   "outputs": [],
   "source": [
    "df1.to_json('data/persons_04.json')"
   ]
  },
  {
   "cell_type": "code",
   "execution_count": null,
   "id": "59385c5c",
   "metadata": {},
   "outputs": [],
   "source": []
  }
 ],
 "metadata": {
  "kernelspec": {
   "display_name": "Python 3 (ipykernel)",
   "language": "python",
   "name": "python3"
  },
  "language_info": {
   "codemirror_mode": {
    "name": "ipython",
    "version": 3
   },
   "file_extension": ".py",
   "mimetype": "text/x-python",
   "name": "python",
   "nbconvert_exporter": "python",
   "pygments_lexer": "ipython3",
   "version": "3.9.4"
  }
 },
 "nbformat": 4,
 "nbformat_minor": 5
}
