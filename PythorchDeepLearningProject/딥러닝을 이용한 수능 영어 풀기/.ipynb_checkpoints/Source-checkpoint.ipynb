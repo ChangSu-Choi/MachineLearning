{
 "cells": [
  {
   "cell_type": "markdown",
   "id": "478749c7",
   "metadata": {},
   "source": [
    "### [모듈 불러오기]"
   ]
  },
  {
   "cell_type": "code",
   "execution_count": 1,
   "id": "7f4f0a50",
   "metadata": {},
   "outputs": [
    {
     "name": "stderr",
     "output_type": "stream",
     "text": [
      "[nltk_data] Downloading package punkt to\n",
      "[nltk_data]     C:\\Users\\choic\\AppData\\Roaming\\nltk_data...\n",
      "[nltk_data]   Package punkt is already up-to-date!\n"
     ]
    }
   ],
   "source": [
    "import dill\n",
    "import time\n",
    "import random\n",
    "import numpy as np\n",
    "from sklearn.metrics import roc_curve, auc\n",
    "\n",
    "import nltk\n",
    "\n",
    "nltk.download(\"punkt\")\n",
    "from nltk.tokenize import word_tokenize\n",
    "\n",
    "import torch\n",
    "import torch.nn as nn\n",
    "\n",
    "from torchtext.data import Field\n",
    "from torchtext.data import TabularDataset\n",
    "from torchtext.data import BucketIterator\n",
    "from torchtext.data import Iterator\n"
   ]
  },
  {
   "cell_type": "code",
   "execution_count": 2,
   "id": "1098e07d",
   "metadata": {},
   "outputs": [],
   "source": [
    "RANDOM_SEED = 2020\n",
    "torch.manual_seed(RANDOM_SEED)\n",
    "torch.backends.cudnn.deterministic = True\n",
    "torch.backends.cudnn.benchmark = False\n",
    "np.random.seed(RANDOM_SEED)\n",
    "random.seed(RANDOM_SEED)\n",
    "\n",
    "DATA_PATH = \"data/processed/\""
   ]
  },
  {
   "cell_type": "code",
   "execution_count": 3,
   "id": "eff9232d",
   "metadata": {},
   "outputs": [
    {
     "name": "stdout",
     "output_type": "stream",
     "text": [
      "1.7.1+cpu\n"
     ]
    }
   ],
   "source": [
    "print(torch.__version__)"
   ]
  },
  {
   "cell_type": "markdown",
   "id": "e54a2055",
   "metadata": {},
   "source": [
    "### [모델 클래스 정의하기]"
   ]
  },
  {
   "cell_type": "code",
   "execution_count": 4,
   "id": "9c845d98",
   "metadata": {},
   "outputs": [],
   "source": [
    "class LSTMClassifier(nn.Module):\n",
    "    def __init__(self, num_embeddings, embedding_dim, hidden_size, num_layers, pad_idx):\n",
    "        super().__init__()\n",
    "        self.embed_layer = nn.Embedding(\n",
    "            # 생성할 Embedding Layer의 크기를 정해줌, 보통은 단어장의 크기\n",
    "            num_embeddings=num_embeddings,\n",
    "            embedding_dim=embedding_dim,\n",
    "            # 자연어 처리에서 배치별로 문장의 크기를 맞추기 위해서 짧은 문장에 Padding을 붙여서 길이를 맞춤\n",
    "            # 그런데 이 Padding은 특별한 의미를 갖고 있지 않음\n",
    "            # 학습에서 제외하기 위해 Padding이 단어장에서 어떤 숫자를 갖고 있는지 알려줌으로써 학습되지 않게 함.\n",
    "            padding_idx=pad_idx\n",
    "        )\n",
    "        self.lstm_layer = nn.LSTM(\n",
    "            input_size=embedding_dim,\n",
    "            hidden_size=hidden_size,\n",
    "            num_layers=num_layers,\n",
    "            bidirectional=True,\n",
    "            dropout=0.5\n",
    "        )\n",
    "        self.last_layer = nn.Sequential(\n",
    "            nn.Linear(hidden_size * 2, hidden_size),\n",
    "            nn.Dropout(0.5),\n",
    "            nn.LeakyReLU(),\n",
    "            # 마지막 Output 크기를 1로 줌 (맞는지 아닌지 점수가 가장 낮은 문장이 문법적으로 맞지 않다고 판단)\n",
    "            nn.Linear(hidden_size, 1),\n",
    "            nn.Sigmoid(),\n",
    "        )\n",
    "        \n",
    "    def forward(self, x):\n",
    "        # 이 모델은 숫자로 이루어진 토큰을 Input으로 받는다고 가정\n",
    "        # 그렇기에 우선 들어온 Input 값을 Embedding 값으로 변환시켜 주어야 함\n",
    "        embed_x = self.embed_layer(x)\n",
    "        # LSTM은 Output, (Hidden State, Cell State)를 반환 함, 이 중 State 값들은 사용하지 않으므로 반환 받지 않음\n",
    "        output, (_, _) = self.lstm_layer(embed_x)\n",
    "        # LSTM의 Output은 (배치 크기, 문장 길이, Output Size)라는 Size를 갖고 있음. 가장 마지막 단어의 결과 값만 사용\n",
    "        last_output = output[:, -1, :]\n",
    "        # 문장의 마지막 단어의 Output을 Fully Connected Layer에 통과시켜 확률값을 계산\n",
    "        last_output = self.last_layer(last_output)\n",
    "        return last_output"
   ]
  },
  {
   "cell_type": "markdown",
   "id": "e42f808e",
   "metadata": {},
   "source": [
    "### [모델 파이프라인 정의]"
   ]
  },
  {
   "cell_type": "markdown",
   "id": "9ad2ee09",
   "metadata": {},
   "source": [
    "## >데이터셋 불러오기<"
   ]
  },
  {
   "cell_type": "markdown",
   "id": "124e3960",
   "metadata": {},
   "source": [
    "**파일에서 필요한 Field 선언하기**  \n",
    "1 TEXT = Field(...)  \n",
    "2 LABEL = Field(...)  \n",
    "**데이터 불러오기**  \n",
    "3 dataset = TabularDataset  \n",
    "**불러온 데이터로 단어장 만들기**  \n",
    "4 TEXT.build_vocab(dataset)  \n",
    "**Data Loader 만들기**  \n",
    "5 data_loadet = BucketIterator(dataset, ..)"
   ]
  },
  {
   "attachments": {
    "image.png": {
     "image/png": "[encoded data removed]"
    }
   },
   "cell_type": "markdown",
   "id": "072b4d04",
   "metadata": {},
   "source": [
    "![image.png](attachment:image.png)  \n",
    "문장은 TEXT, 정답은 LABEL로 각각의 Field를 정의"
   ]
  },
  {
   "cell_type": "markdown",
   "id": "c8124bb3",
   "metadata": {},
   "source": [
    "### [문장 필드 정의]"
   ]
  },
  {
   "cell_type": "code",
   "execution_count": 5,
   "id": "bcb84a99",
   "metadata": {},
   "outputs": [
    {
     "name": "stderr",
     "output_type": "stream",
     "text": [
      "C:\\Users\\choic\\anaconda3\\envs\\book\\lib\\site-packages\\torchtext\\data\\field.py:150: UserWarning: Field class will be retired soon and moved to torchtext.legacy. Please see the most recent release notes for further information.\n",
      "  warnings.warn('{} class will be retired soon and moved to torchtext.legacy. Please see the most recent release notes for further information.'.format(self.__class__.__name__), UserWarning)\n"
     ]
    }
   ],
   "source": [
    "TEXT = Field(\n",
    "    sequential=True, # 1\n",
    "    use_vocab=True, # 2\n",
    "    tokenize=word_tokenize, # 3\n",
    "    lower=True, # 4\n",
    "    batch_first=True # 5\n",
    ")"
   ]
  },
  {
   "cell_type": "markdown",
   "id": "6b999c7e",
   "metadata": {},
   "source": [
    "1. TEXT는 문장이 들어오는 Field. Sequential=True로 설정해서 이 필드에는 문장이 들어온다는 것을 알려줌\n",
    "2. 단어를 숫자로 변환시켜주는 단어장을 만들기 위해 이 필드를 이용함\n",
    "3. 불러온 문장을 토크나이징 할 함수를 입력. nltk의 word_tokenize를 이용 할 것임. word_tokenize는 영어로 이루어진 문장을 토큰화시킬 때 가장 기본적으로 사용됨.\n",
    "4. 대소문자를 구분할지 말지를 설정하는 부분. 따로 대명사를 처리하지 않을 것이기에 모두 소문자로 처리\n",
    "5. 자연어를 처리하는 모듈별로 지원하는 데이터의 형태가 다름. 크게 다음 두가지 형태가 있음.\n",
    "- (배치, 문장)\n",
    "- (문장, 배치)  \n",
    "이 중 첫 번째의 방식이 필요하기에 True를 줌"
   ]
  },
  {
   "cell_type": "markdown",
   "id": "ef7f7d32",
   "metadata": {},
   "source": [
    "### [정답 필드 정의]"
   ]
  },
  {
   "cell_type": "code",
   "execution_count": 6,
   "id": "16d7e485",
   "metadata": {},
   "outputs": [],
   "source": [
    "LABEL = Field(\n",
    "    sequential=False, # 1\n",
    "    use_vocab=False, # 2\n",
    "    batch_first=True,\n",
    ")"
   ]
  },
  {
   "cell_type": "markdown",
   "id": "b360d49e",
   "metadata": {},
   "source": [
    "1. 앞에서는 문장이 들어오기 때문에 True를 주었지만 이 열은 정답이 있는 열이기에 False를 줌\n",
    "2. 또한 이 Field에서는 따로 단어장을 생성하지 않기에 False를 줌"
   ]
  },
  {
   "cell_type": "markdown",
   "id": "2ada077b",
   "metadata": {},
   "source": [
    "### [데이터 불러오기]"
   ]
  },
  {
   "cell_type": "code",
   "execution_count": 7,
   "id": "4dcc77ab",
   "metadata": {},
   "outputs": [
    {
     "name": "stderr",
     "output_type": "stream",
     "text": [
      "C:\\Users\\choic\\anaconda3\\envs\\book\\lib\\site-packages\\torchtext\\data\\example.py:68: UserWarning: Example class will be retired soon and moved to torchtext.legacy. Please see the most recent release notes for further information.\n",
      "  warnings.warn('Example class will be retired soon and moved to torchtext.legacy. Please see the most recent release notes for further information.', UserWarning)\n",
      "C:\\Users\\choic\\anaconda3\\envs\\book\\lib\\site-packages\\torchtext\\data\\example.py:78: UserWarning: Example class will be retired soon and moved to torchtext.legacy. Please see the most recent release notes for further information.\n",
      "  warnings.warn('Example class will be retired soon and moved to torchtext.legacy. Please see the most recent release notes for further information.', UserWarning)\n"
     ]
    }
   ],
   "source": [
    "sat_train_data, sat_valid_data, sat_test_data = \\\n",
    "    TabularDataset.splits(\n",
    "    path='data/processed', # 1\n",
    "    train='sat_train.tsv', # 2\n",
    "    validation='sat_valid.tsv',\n",
    "    test = 'sat_test.tsv',\n",
    "    format = 'tsv', # 3\n",
    "    fields = [('text', TEXT), ('label', LABEL)], # 4\n",
    "    skip_header = 1, # 5\n",
    ")\n",
    "TEXT.build_vocab(sat_train_data, min_freq=2) # 6"
   ]
  },
  {
   "cell_type": "markdown",
   "id": "b8c30135",
   "metadata": {},
   "source": [
    "1. 데이터가 들어 있는 폴더의 경로를 입력\n",
    "2. 각각 Train, Validation, Test의 파일명을 입력\n",
    "3. 데이터의 파일 포맷 형태를 줍니다. 사용할 데이터는 Tap separated value의 데이터이기에 tsv를 입력\n",
    "4. 앞에서 정의한 Field를 입력해주는 부분. 입력할 때 실제 데이터의 컬럼 순서로 입력해주어야함. 그리고 Field의 이름과 Field를 묶음. 예를 들어 (\"text\", TEXT)라면 이 데이터는 첫 번째 컬럼에 문장이 있고 그 컬럼명을 text로 하겠다는 뜻\n",
    "5. 데이터의 첫 번째 열에는 원래의 컬럼명이 들어 있음. 데이터로 사용되지 않기 때문에 따로 불러오지 않도록 해야함. 그렇기에 1을 주어서 첫 번째 열을 생략하도록 함.\n",
    "6. 마지막으로 불러온 데이터 중 훈련 데이터를 이용해 TEXT의 단어장을 생성함\n",
    "\n",
    "불러온 데이터로 Data Loader를 만들어야 하는데 일반적인 Data Loader은  \n",
    "랜덤하게 추출 -> 각 문장을 정해진 길이에 맞추기 -> Tensor로 변환  \n",
    "\n",
    "정해진 길이에 맞추기 : torchtext.BucketIterator 이용"
   ]
  },
  {
   "cell_type": "markdown",
   "id": "249925d2",
   "metadata": {},
   "source": [
    "### [Data Loader 정의]"
   ]
  },
  {
   "cell_type": "code",
   "execution_count": 8,
   "id": "93023997",
   "metadata": {},
   "outputs": [
    {
     "name": "stderr",
     "output_type": "stream",
     "text": [
      "C:\\Users\\choic\\anaconda3\\envs\\book\\lib\\site-packages\\torchtext\\data\\iterator.py:48: UserWarning: BucketIterator class will be retired soon and moved to torchtext.legacy. Please see the most recent release notes for further information.\n",
      "  warnings.warn('{} class will be retired soon and moved to torchtext.legacy. Please see the most recent release notes for further information.'.format(self.__class__.__name__), UserWarning)\n"
     ]
    }
   ],
   "source": [
    "sat_train_iterator, sat_valid_iterator, sat_test_iterator = \\\n",
    "    BucketIterator.splits(\n",
    "        (sat_train_data, sat_valid_data, sat_test_data),\n",
    "        batch_size=8,\n",
    "        device=None,\n",
    "        sort=False,\n",
    ")\n"
   ]
  },
  {
   "cell_type": "markdown",
   "id": "382df1cd",
   "metadata": {},
   "source": [
    "1. 앞에서 불러온 데이터들을 묶어서 입력해줌\n",
    "2. Data Loader에서 각 배치별 크기를 의미"
   ]
  },
  {
   "cell_type": "markdown",
   "id": "27682175",
   "metadata": {},
   "source": [
    "## >학습<  \n",
    "  \n",
    "1. Data Loader에서 배치 불러오기\n",
    "2. 배치를 모델에 넣어서 데이터 형태 맞추기\n",
    "3. 배치를 모델에 넣어서 예측값 얻기\n",
    "4. 정답과 예측값을 비교해서 Loss 계산하기\n",
    "5. Loss를 이용해 모델 학습시키기"
   ]
  },
  {
   "cell_type": "markdown",
   "id": "31a00283",
   "metadata": {},
   "source": [
    "### [모델 학습 함수 정의]"
   ]
  },
  {
   "cell_type": "code",
   "execution_count": 9,
   "id": "f374bf7f",
   "metadata": {},
   "outputs": [],
   "source": [
    "def train(model, train_loader, optimizer, criterion, device):\n",
    "    model.train()\n",
    "    epoch_loss = 0\n",
    "    for batch in train_loader: # 1\n",
    "        optimizer.zero_grad()\n",
    "        text = batch.text\n",
    "        if text.shape[0] > 1:\n",
    "            label = batch.label.type(torch.FloatTensor) # 3\n",
    "            text = text.to(device)\n",
    "            label = label.to(device)\n",
    "            output = model(text).flatten() # 4\n",
    "            loss = criterion(output, label) # 5\n",
    "            loss.backward()\n",
    "            optimizer.step()\n",
    "            epoch_loss += loss.item()\n",
    "\n",
    "    return epoch_loss / len(train_loader)"
   ]
  },
  {
   "cell_type": "markdown",
   "id": "29fb8a3e",
   "metadata": {},
   "source": [
    "train\n",
    "1. 입력 받은 Data Loader를 호출해 Batch를 부르는 코드\n",
    "2. Batch는 두 개의 Attribute를 갖고 있음. 앞서 데이터를 불러올 때 준 fields=[(\"text\", TEXT), (\"label\", LABEL)]에서 앞의 단어들. 여기서 text는 batch의 문장, label은 Batch의 정답을 갖고 있음\n",
    "3. 문장과 정답을 불러와서 필요한 데이터 형태로 변환\n",
    "4. 모델에 문장을 넣어서 결과를 출력\n",
    "5. 출력된 겨로가와 정답을 비교해서 Loss를 구함"
   ]
  },
  {
   "cell_type": "markdown",
   "id": "4453165a",
   "metadata": {},
   "source": [
    "### [모델 평가 함수 정의]"
   ]
  },
  {
   "cell_type": "code",
   "execution_count": 10,
   "id": "9a088124",
   "metadata": {},
   "outputs": [],
   "source": [
    "def evaluate(model, valid_loader, optimizer, criterion, device):\n",
    "    model.eval() # 1\n",
    "    epoch_loss = 0\n",
    "    \n",
    "    with torch.no_grad(): # 2\n",
    "        for _, batch in enumerate(valid_loader):\n",
    "            text = batch.text\n",
    "            label = batch.label.type(torch.FloatTensor)\n",
    "            text = text.to(device)\n",
    "            label = label.to(device)\n",
    "            output = model(text).flatten()\n",
    "            loss = criterion(output, label)\n",
    "            epoch_loss += loss.item()\n",
    "\n",
    "    return epoch_loss / len(valid_loader)"
   ]
  },
  {
   "cell_type": "markdown",
   "id": "9ce20a61",
   "metadata": {},
   "source": [
    "1. Dropout과 같이 훈련과 평가의 동작이 다른 모듈들은 각 목적에 맞게 변화를 주어야 함. 여기서는 평가를 하기 위해 model.eval()를 먼저 선언\n",
    "2. torch에서는 기본적으로 Forward를 할 때 자동으로 Gradient를 계산. 하지만 평가를 진행할 때는 Gradient를 계산할 필요가 없음."
   ]
  },
  {
   "cell_type": "markdown",
   "id": "f16a1300",
   "metadata": {},
   "source": [
    "### [HyperParameter 선언]"
   ]
  },
  {
   "cell_type": "code",
   "execution_count": 11,
   "id": "26ae085f",
   "metadata": {},
   "outputs": [],
   "source": [
    "PAD_IDX = TEXT.vocab.stoi[TEXT.pad_token]\n",
    "N_EPOCHS = 20\n",
    "\n",
    "lstm_classifier = LSTMClassifier(\n",
    "    num_embeddings=len(TEXT.vocab),\n",
    "    embedding_dim=100,\n",
    "    hidden_size=200,\n",
    "    num_layers=4,\n",
    "    pad_idx=PAD_IDX,\n",
    ")\n",
    "if torch.cuda.is_available():\n",
    "    device = \"cuda:0\"\n",
    "else:\n",
    "    device = \"cpu\"\n",
    "_ = lstm_classifier.to(device)\n",
    "\n",
    "optimizer = torch.optim.Adam(lstm_classifier.parameters())\n",
    "bce_loss_fn = nn.BCELoss()"
   ]
  },
  {
   "cell_type": "markdown",
   "id": "bd989a9a",
   "metadata": {},
   "source": [
    "### [모델 학습]"
   ]
  },
  {
   "cell_type": "code",
   "execution_count": 12,
   "id": "41077b8e",
   "metadata": {},
   "outputs": [
    {
     "name": "stderr",
     "output_type": "stream",
     "text": [
      "C:\\Users\\choic\\anaconda3\\envs\\book\\lib\\site-packages\\torchtext\\data\\batch.py:23: UserWarning: Batch class will be retired soon and moved to torchtext.legacy. Please see the most recent release notes for further information.\n",
      "  warnings.warn('{} class will be retired soon and moved to torchtext.legacy. Please see the most recent release notes for further information.'.format(self.__class__.__name__), UserWarning)\n"
     ]
    },
    {
     "name": "stdout",
     "output_type": "stream",
     "text": [
      "Epoch: 01\n",
      "\tTrain Loss: 0.53348\n",
      "\t Val. Loss: 0.75698\n",
      "Epoch: 02\n",
      "\tTrain Loss: 0.52014\n",
      "\t Val. Loss: 0.56375\n",
      "Epoch: 03\n",
      "\tTrain Loss: 0.47775\n",
      "\t Val. Loss: 0.55127\n",
      "Epoch: 04\n",
      "\tTrain Loss: 0.44323\n",
      "\t Val. Loss: 0.54704\n",
      "Epoch: 05\n",
      "\tTrain Loss: 0.42197\n",
      "\t Val. Loss: 0.55199\n",
      "Epoch: 06\n",
      "\tTrain Loss: 0.41107\n",
      "\t Val. Loss: 0.56374\n",
      "Epoch: 07\n",
      "\tTrain Loss: 0.42162\n",
      "\t Val. Loss: 0.56400\n",
      "Epoch: 08\n",
      "\tTrain Loss: 0.43142\n",
      "\t Val. Loss: 0.53967\n",
      "Epoch: 09\n",
      "\tTrain Loss: 0.46181\n",
      "\t Val. Loss: 0.54005\n",
      "Epoch: 10\n",
      "\tTrain Loss: 0.43902\n",
      "\t Val. Loss: 0.54140\n",
      "Epoch: 11\n",
      "\tTrain Loss: 0.45546\n",
      "\t Val. Loss: 0.54697\n",
      "Epoch: 12\n",
      "\tTrain Loss: 0.45420\n",
      "\t Val. Loss: 0.54316\n",
      "Epoch: 13\n",
      "\tTrain Loss: 0.41215\n",
      "\t Val. Loss: 0.56632\n",
      "Epoch: 14\n",
      "\tTrain Loss: 0.41748\n",
      "\t Val. Loss: 0.60505\n",
      "Epoch: 15\n",
      "\tTrain Loss: 0.44161\n",
      "\t Val. Loss: 0.57962\n",
      "Epoch: 16\n",
      "\tTrain Loss: 0.43434\n",
      "\t Val. Loss: 0.55206\n",
      "Epoch: 17\n",
      "\tTrain Loss: 0.46020\n",
      "\t Val. Loss: 0.54843\n",
      "Epoch: 18\n",
      "\tTrain Loss: 0.42365\n",
      "\t Val. Loss: 0.56666\n",
      "Epoch: 19\n",
      "\tTrain Loss: 0.43033\n",
      "\t Val. Loss: 0.54686\n",
      "Epoch: 20\n",
      "\tTrain Loss: 0.41675\n",
      "\t Val. Loss: 0.56571\n"
     ]
    }
   ],
   "source": [
    "for epoch in range(N_EPOCHS):\n",
    "    train_loss = train(\n",
    "        lstm_classifier,\n",
    "        sat_train_iterator,\n",
    "        optimizer,\n",
    "        bce_loss_fn,\n",
    "        device = device\n",
    "    )\n",
    "    valid_loss = evaluate(\n",
    "        lstm_classifier,\n",
    "        sat_valid_iterator,\n",
    "        optimizer,\n",
    "        criterion = bce_loss_fn,\n",
    "        device = device\n",
    "    )\n",
    "    print(f\"Epoch: {epoch+1:02}\")\n",
    "    print(f\"\\tTrain Loss: {train_loss:.5f}\")\n",
    "    print(f\"\\t Val. Loss: {valid_loss:.5f}\")"
   ]
  },
  {
   "cell_type": "markdown",
   "id": "4be914d0",
   "metadata": {},
   "source": [
    "### [모델 저장]"
   ]
  },
  {
   "cell_type": "code",
   "execution_count": 13,
   "id": "41bd344a",
   "metadata": {},
   "outputs": [],
   "source": [
    "with open(\"baseline_model.dill\", \"wb\") as f:\n",
    "    model = {\n",
    "        \"TEXT\": TEXT,\n",
    "        \"LABEL\": LABEL,\n",
    "        \"classifier\": lstm_classifier\n",
    "    }\n",
    "    dill.dump(model, f)"
   ]
  },
  {
   "cell_type": "markdown",
   "id": "b9258c7f",
   "metadata": {},
   "source": [
    "## > Test <  "
   ]
  },
  {
   "cell_type": "markdown",
   "id": "a5efb1a2",
   "metadata": {},
   "source": [
    "모델이 얼마나 잘 맞히는지 판단하기 위해 **Area Under Receiver Operating Characteristic(AUROC)**를 이용"
   ]
  },
  {
   "cell_type": "markdown",
   "id": "bb1735f6",
   "metadata": {},
   "source": [
    "### [AUROC]  \n",
    "\n",
    "Output의 크기가 2라면 모델의 성능지표로써 정확도(Accuracy)를 사용하면 됨. 하지만 Output 크기가 1일 때는 정확도가 Threshold에 의해서 변하게 됨.  \n",
    "예를 들어 아래와 같은 예측값과 정답이 있다고 가정해 보겠음"
   ]
  },
  {
   "attachments": {
    "image.png": {
     "image/png": "[encoded data removed]"
    }
   },
   "cell_type": "markdown",
   "id": "ded5e147",
   "metadata": {},
   "source": [
    "![image.png](attachment:image.png)"
   ]
  },
  {
   "cell_type": "markdown",
   "id": "bc4b638e",
   "metadata": {},
   "source": [
    "확률이 0.5가 넘을 경우 문법적으로 맞는 문장, 넘지 않을 경우 문법적으로 틀린 문장이라고 가정. 그러면 이 모델의 예측값은 아래와 같이 바뀌게 됨"
   ]
  },
  {
   "attachments": {
    "image.png": {
     "image/png": "[encoded data removed]"
    }
   },
   "cell_type": "markdown",
   "id": "2ceab451",
   "metadata": {},
   "source": [
    "![image.png](attachment:image.png)"
   ]
  },
  {
   "cell_type": "markdown",
   "id": "a4978178",
   "metadata": {},
   "source": [
    "정확도가 66%인 모델이 됨. 그런데 확률을 0.5 대신 0.52로 변경하면 정확도가 100%인 모델이 됨.  \n",
    "이처럼 Threshold에 의해 정확도가 변하기 때문에 정확도를 신뢰하기 어려움. Threshold에 의해 변하는 값을 보완하기 위한 평가 척도가 AUROC임"
   ]
  },
  {
   "cell_type": "markdown",
   "id": "5029a096",
   "metadata": {},
   "source": [
    "### [테스트 함수 정의]"
   ]
  },
  {
   "cell_type": "code",
   "execution_count": 14,
   "id": "590d2758",
   "metadata": {},
   "outputs": [],
   "source": [
    "def test(model, test_loader, device):\n",
    "    model.eval()\n",
    "    with torch.no_grad():\n",
    "        y_real = []\n",
    "        y_pred = []\n",
    "        \n",
    "        for batch in test_loader:\n",
    "            text = batch.text\n",
    "            label = batch.label.type(torch.FloatTensor)\n",
    "            text = text.to(device)\n",
    "            \n",
    "            output = model(text).flatten().cpu()\n",
    "            \n",
    "            y_real += [label] # 1\n",
    "            y_pred += [output]\n",
    "            \n",
    "        y_real = torch.cat(y_real) # 2\n",
    "        y_pred = torch.cat(y_pred)\n",
    "        \n",
    "    fpr, tpr, _ = roc_curve(y_real, y_pred) # 3\n",
    "    auroc = auc(fpr, tpr)\n",
    "    \n",
    "    return auroc"
   ]
  },
  {
   "cell_type": "markdown",
   "id": "042ca861",
   "metadata": {},
   "source": [
    "1. Test 결과를 보기 위해 각 Batch의 예측값을 List에 모음\n",
    "2. 모인 예측값들을 합쳐줌\n",
    "3. 예측값과 정답을 이용해 AUROC를 계산"
   ]
  },
  {
   "cell_type": "markdown",
   "id": "ecf51e9f",
   "metadata": {},
   "source": [
    "### [모델 성능 확인]"
   ]
  },
  {
   "cell_type": "code",
   "execution_count": 15,
   "id": "68fa4174",
   "metadata": {},
   "outputs": [
    {
     "name": "stdout",
     "output_type": "stream",
     "text": [
      "SAT Dataset Test AUROC: 0.57692\n"
     ]
    }
   ],
   "source": [
    "_ = lstm_classifier.cpu()\n",
    "test_auroc = test(\n",
    "    lstm_classifier, # 1\n",
    "    sat_test_iterator, # 2\n",
    "    \"cpu\"\n",
    ")\n",
    "\n",
    "print(f\"SAT Dataset Test AUROC: {test_auroc:.5f}\")"
   ]
  },
  {
   "cell_type": "markdown",
   "id": "505bd80f",
   "metadata": {},
   "source": [
    "1. 학습이 끝난 모델을 입력.\n",
    "2. 수능 Test 데이터를 입력해 결과를 확인."
   ]
  },
  {
   "cell_type": "markdown",
   "id": "252a3ad9",
   "metadata": {},
   "source": [
    "일반적으로 AUROC의 기준값을 0.5로 보는데, 이 0.5라는 숫자는 동전을 던지는 확률과 같음. 그런데 이 모델은 0.57로 동전을 던지는 것보다 약간 더 좋은 상태임. 성능이 낮은 이유를 생각해보면 크게 두 가지\n",
    "  \n",
    "1. 데이터가 부족함\n",
    "2. 모델의 성능이 문제를 풀기에 부족함  "
   ]
  },
  {
   "cell_type": "markdown",
   "id": "6cc2542c",
   "metadata": {},
   "source": [
    "# 성능 높이기"
   ]
  },
  {
   "cell_type": "markdown",
   "id": "3fdbeda3",
   "metadata": {},
   "source": [
    "## > 추가 데이터 이용 <"
   ]
  },
  {
   "cell_type": "markdown",
   "id": "987b024b",
   "metadata": {},
   "source": [
    "부족한 데이터 모음 -> 수능 문제는 추가적으로 구하기 어려움  \n",
    "그래서 추가적인 데이터를 구하기 ㄷ위해 공개된 데이터 셋을 활용  \n",
    "Corpus of Linguistically Acceptable(CoLA) 데이터셋을 이용.  \n",
    "CoLa데이터셋: 문장이 주어지면 그 문장이 문법적으로 받아들일 수 있는지를 풀고자 하는 문제들  \n",
    "\n",
    "Train 데이터에 추가해서 학습 시키면 될 것 같은데?  \n",
    "데이터 크기 차이 때문에 무리, CoLA가 1:10 비율로 훨신 더 많음 -> 편향된 결과!  \n",
    "\n",
    "따라서 이 데이터는 Pre-Trained Model에 사용하고자 함."
   ]
  },
  {
   "cell_type": "markdown",
   "id": "8b8f5bbf",
   "metadata": {},
   "source": [
    "### [사전 학습 데이터 불러오기]"
   ]
  },
  {
   "cell_type": "code",
   "execution_count": 18,
   "id": "6243589e",
   "metadata": {},
   "outputs": [
    {
     "name": "stderr",
     "output_type": "stream",
     "text": [
      "C:\\Users\\choic\\anaconda3\\envs\\book\\lib\\site-packages\\torchtext\\data\\iterator.py:48: UserWarning: BucketIterator class will be retired soon and moved to torchtext.legacy. Please see the most recent release notes for further information.\n",
      "  warnings.warn('{} class will be retired soon and moved to torchtext.legacy. Please see the most recent release notes for further information.'.format(self.__class__.__name__), UserWarning)\n"
     ]
    }
   ],
   "source": [
    "sat_train_data, sat_valid_data, sat_test_data = \\\n",
    "    TabularDataset.splits(\n",
    "        path=\"data/processed\",\n",
    "        train=\"sat_train.tsv\",\n",
    "        validation=\"sat_valid.tsv\",\n",
    "        test=\"sat_test.tsv\",\n",
    "        format=\"tsv\",\n",
    "        fields=[(\"text\", TEXT), (\"label\", LABEL)],\n",
    "        skip_header=1,\n",
    "    )\n",
    "sat_train_iterator, sat_valid_iterator, sat_test_iterator = \\\n",
    "    BucketIterator.splits(\n",
    "        (sat_train_data, sat_valid_data, sat_test_data),\n",
    "        batch_size=8,\n",
    "        device=None,\n",
    "        sort=False,\n",
    "    )"
   ]
  },
  {
   "cell_type": "code",
   "execution_count": 19,
   "id": "91b1b2e2",
   "metadata": {},
   "outputs": [
    {
     "ename": "IndexError",
     "evalue": "list index out of range",
     "output_type": "error",
     "traceback": [
      "\u001b[1;31m---------------------------------------------------------------------------\u001b[0m",
      "\u001b[1;31mIndexError\u001b[0m                                Traceback (most recent call last)",
      "\u001b[1;32m~\\AppData\\Local\\Temp/ipykernel_25348/3244687233.py\u001b[0m in \u001b[0;36m<module>\u001b[1;34m\u001b[0m\n\u001b[0;32m     19\u001b[0m         \u001b[0mformat\u001b[0m\u001b[1;33m=\u001b[0m\u001b[1;34m\"tsv\"\u001b[0m\u001b[1;33m,\u001b[0m\u001b[1;33m\u001b[0m\u001b[1;33m\u001b[0m\u001b[0m\n\u001b[0;32m     20\u001b[0m         \u001b[0mfields\u001b[0m\u001b[1;33m=\u001b[0m\u001b[1;33m[\u001b[0m\u001b[1;33m(\u001b[0m\u001b[1;34m\"text\"\u001b[0m\u001b[1;33m,\u001b[0m \u001b[0mTEXT\u001b[0m\u001b[1;33m)\u001b[0m\u001b[1;33m,\u001b[0m \u001b[1;33m(\u001b[0m\u001b[1;34m\"label\"\u001b[0m\u001b[1;33m,\u001b[0m \u001b[0mLABEL\u001b[0m\u001b[1;33m)\u001b[0m\u001b[1;33m]\u001b[0m\u001b[1;33m,\u001b[0m\u001b[1;33m\u001b[0m\u001b[1;33m\u001b[0m\u001b[0m\n\u001b[1;32m---> 21\u001b[1;33m         \u001b[0mskip_header\u001b[0m\u001b[1;33m=\u001b[0m\u001b[1;36m1\u001b[0m\u001b[1;33m,\u001b[0m\u001b[1;33m\u001b[0m\u001b[1;33m\u001b[0m\u001b[0m\n\u001b[0m\u001b[0;32m     22\u001b[0m )\n\u001b[0;32m     23\u001b[0m \u001b[0mTEXT\u001b[0m\u001b[1;33m.\u001b[0m\u001b[0mbuild_vocab\u001b[0m\u001b[1;33m(\u001b[0m\u001b[0mcola_train_data\u001b[0m\u001b[1;33m,\u001b[0m \u001b[0mmin_freq\u001b[0m\u001b[1;33m=\u001b[0m\u001b[1;36m2\u001b[0m\u001b[1;33m)\u001b[0m\u001b[1;33m\u001b[0m\u001b[1;33m\u001b[0m\u001b[0m\n",
      "\u001b[1;32m~\\anaconda3\\envs\\book\\lib\\site-packages\\torchtext\\data\\dataset.py\u001b[0m in \u001b[0;36msplits\u001b[1;34m(cls, path, root, train, validation, test, **kwargs)\u001b[0m\n\u001b[0;32m     76\u001b[0m             \u001b[0mpath\u001b[0m \u001b[1;33m=\u001b[0m \u001b[0mcls\u001b[0m\u001b[1;33m.\u001b[0m\u001b[0mdownload\u001b[0m\u001b[1;33m(\u001b[0m\u001b[0mroot\u001b[0m\u001b[1;33m)\u001b[0m\u001b[1;33m\u001b[0m\u001b[1;33m\u001b[0m\u001b[0m\n\u001b[0;32m     77\u001b[0m         train_data = None if train is None else cls(\n\u001b[1;32m---> 78\u001b[1;33m             os.path.join(path, train), **kwargs)\n\u001b[0m\u001b[0;32m     79\u001b[0m         val_data = None if validation is None else cls(\n\u001b[0;32m     80\u001b[0m             os.path.join(path, validation), **kwargs)\n",
      "\u001b[1;32m~\\anaconda3\\envs\\book\\lib\\site-packages\\torchtext\\data\\dataset.py\u001b[0m in \u001b[0;36m__init__\u001b[1;34m(self, path, format, fields, skip_header, csv_reader_params, **kwargs)\u001b[0m\n\u001b[0;32m    269\u001b[0m                 \u001b[0mnext\u001b[0m\u001b[1;33m(\u001b[0m\u001b[0mreader\u001b[0m\u001b[1;33m)\u001b[0m\u001b[1;33m\u001b[0m\u001b[1;33m\u001b[0m\u001b[0m\n\u001b[0;32m    270\u001b[0m \u001b[1;33m\u001b[0m\u001b[0m\n\u001b[1;32m--> 271\u001b[1;33m             \u001b[0mexamples\u001b[0m \u001b[1;33m=\u001b[0m \u001b[1;33m[\u001b[0m\u001b[0mmake_example\u001b[0m\u001b[1;33m(\u001b[0m\u001b[0mline\u001b[0m\u001b[1;33m,\u001b[0m \u001b[0mfields\u001b[0m\u001b[1;33m)\u001b[0m \u001b[1;32mfor\u001b[0m \u001b[0mline\u001b[0m \u001b[1;32min\u001b[0m \u001b[0mreader\u001b[0m\u001b[1;33m]\u001b[0m\u001b[1;33m\u001b[0m\u001b[1;33m\u001b[0m\u001b[0m\n\u001b[0m\u001b[0;32m    272\u001b[0m \u001b[1;33m\u001b[0m\u001b[0m\n\u001b[0;32m    273\u001b[0m         \u001b[1;32mif\u001b[0m \u001b[0misinstance\u001b[0m\u001b[1;33m(\u001b[0m\u001b[0mfields\u001b[0m\u001b[1;33m,\u001b[0m \u001b[0mdict\u001b[0m\u001b[1;33m)\u001b[0m\u001b[1;33m:\u001b[0m\u001b[1;33m\u001b[0m\u001b[1;33m\u001b[0m\u001b[0m\n",
      "\u001b[1;32m~\\anaconda3\\envs\\book\\lib\\site-packages\\torchtext\\data\\dataset.py\u001b[0m in \u001b[0;36m<listcomp>\u001b[1;34m(.0)\u001b[0m\n\u001b[0;32m    269\u001b[0m                 \u001b[0mnext\u001b[0m\u001b[1;33m(\u001b[0m\u001b[0mreader\u001b[0m\u001b[1;33m)\u001b[0m\u001b[1;33m\u001b[0m\u001b[1;33m\u001b[0m\u001b[0m\n\u001b[0;32m    270\u001b[0m \u001b[1;33m\u001b[0m\u001b[0m\n\u001b[1;32m--> 271\u001b[1;33m             \u001b[0mexamples\u001b[0m \u001b[1;33m=\u001b[0m \u001b[1;33m[\u001b[0m\u001b[0mmake_example\u001b[0m\u001b[1;33m(\u001b[0m\u001b[0mline\u001b[0m\u001b[1;33m,\u001b[0m \u001b[0mfields\u001b[0m\u001b[1;33m)\u001b[0m \u001b[1;32mfor\u001b[0m \u001b[0mline\u001b[0m \u001b[1;32min\u001b[0m \u001b[0mreader\u001b[0m\u001b[1;33m]\u001b[0m\u001b[1;33m\u001b[0m\u001b[1;33m\u001b[0m\u001b[0m\n\u001b[0m\u001b[0;32m    272\u001b[0m \u001b[1;33m\u001b[0m\u001b[0m\n\u001b[0;32m    273\u001b[0m         \u001b[1;32mif\u001b[0m \u001b[0misinstance\u001b[0m\u001b[1;33m(\u001b[0m\u001b[0mfields\u001b[0m\u001b[1;33m,\u001b[0m \u001b[0mdict\u001b[0m\u001b[1;33m)\u001b[0m\u001b[1;33m:\u001b[0m\u001b[1;33m\u001b[0m\u001b[1;33m\u001b[0m\u001b[0m\n",
      "\u001b[1;32m~\\anaconda3\\envs\\book\\lib\\site-packages\\torchtext\\data\\example.py\u001b[0m in \u001b[0;36mfromCSV\u001b[1;34m(cls, data, fields, field_to_index)\u001b[0m\n\u001b[0;32m     68\u001b[0m         \u001b[0mwarnings\u001b[0m\u001b[1;33m.\u001b[0m\u001b[0mwarn\u001b[0m\u001b[1;33m(\u001b[0m\u001b[1;34m'Example class will be retired soon and moved to torchtext.legacy. Please see the most recent release notes for further information.'\u001b[0m\u001b[1;33m,\u001b[0m \u001b[0mUserWarning\u001b[0m\u001b[1;33m)\u001b[0m\u001b[1;33m\u001b[0m\u001b[1;33m\u001b[0m\u001b[0m\n\u001b[0;32m     69\u001b[0m         \u001b[1;32mif\u001b[0m \u001b[0mfield_to_index\u001b[0m \u001b[1;32mis\u001b[0m \u001b[1;32mNone\u001b[0m\u001b[1;33m:\u001b[0m\u001b[1;33m\u001b[0m\u001b[1;33m\u001b[0m\u001b[0m\n\u001b[1;32m---> 70\u001b[1;33m             \u001b[1;32mreturn\u001b[0m \u001b[0mcls\u001b[0m\u001b[1;33m.\u001b[0m\u001b[0mfromlist\u001b[0m\u001b[1;33m(\u001b[0m\u001b[0mdata\u001b[0m\u001b[1;33m,\u001b[0m \u001b[0mfields\u001b[0m\u001b[1;33m)\u001b[0m\u001b[1;33m\u001b[0m\u001b[1;33m\u001b[0m\u001b[0m\n\u001b[0m\u001b[0;32m     71\u001b[0m         \u001b[1;32melse\u001b[0m\u001b[1;33m:\u001b[0m\u001b[1;33m\u001b[0m\u001b[1;33m\u001b[0m\u001b[0m\n\u001b[0;32m     72\u001b[0m             \u001b[1;32massert\u001b[0m\u001b[1;33m(\u001b[0m\u001b[0misinstance\u001b[0m\u001b[1;33m(\u001b[0m\u001b[0mfields\u001b[0m\u001b[1;33m,\u001b[0m \u001b[0mdict\u001b[0m\u001b[1;33m)\u001b[0m\u001b[1;33m)\u001b[0m\u001b[1;33m\u001b[0m\u001b[1;33m\u001b[0m\u001b[0m\n",
      "\u001b[1;32m~\\anaconda3\\envs\\book\\lib\\site-packages\\torchtext\\data\\example.py\u001b[0m in \u001b[0;36mfromlist\u001b[1;34m(cls, data, fields)\u001b[0m\n\u001b[0;32m     87\u001b[0m                         \u001b[0msetattr\u001b[0m\u001b[1;33m(\u001b[0m\u001b[0mex\u001b[0m\u001b[1;33m,\u001b[0m \u001b[0mn\u001b[0m\u001b[1;33m,\u001b[0m \u001b[0mf\u001b[0m\u001b[1;33m.\u001b[0m\u001b[0mpreprocess\u001b[0m\u001b[1;33m(\u001b[0m\u001b[0mval\u001b[0m\u001b[1;33m)\u001b[0m\u001b[1;33m)\u001b[0m\u001b[1;33m\u001b[0m\u001b[1;33m\u001b[0m\u001b[0m\n\u001b[0;32m     88\u001b[0m                 \u001b[1;32melse\u001b[0m\u001b[1;33m:\u001b[0m\u001b[1;33m\u001b[0m\u001b[1;33m\u001b[0m\u001b[0m\n\u001b[1;32m---> 89\u001b[1;33m                     \u001b[0msetattr\u001b[0m\u001b[1;33m(\u001b[0m\u001b[0mex\u001b[0m\u001b[1;33m,\u001b[0m \u001b[0mname\u001b[0m\u001b[1;33m,\u001b[0m \u001b[0mfield\u001b[0m\u001b[1;33m.\u001b[0m\u001b[0mpreprocess\u001b[0m\u001b[1;33m(\u001b[0m\u001b[0mval\u001b[0m\u001b[1;33m)\u001b[0m\u001b[1;33m)\u001b[0m\u001b[1;33m\u001b[0m\u001b[1;33m\u001b[0m\u001b[0m\n\u001b[0m\u001b[0;32m     90\u001b[0m         \u001b[1;32mreturn\u001b[0m \u001b[0mex\u001b[0m\u001b[1;33m\u001b[0m\u001b[1;33m\u001b[0m\u001b[0m\n\u001b[0;32m     91\u001b[0m \u001b[1;33m\u001b[0m\u001b[0m\n",
      "\u001b[1;32m~\\anaconda3\\envs\\book\\lib\\site-packages\\torchtext\\data\\field.py\u001b[0m in \u001b[0;36mpreprocess\u001b[1;34m(self, x)\u001b[0m\n\u001b[0;32m    210\u001b[0m         `preprocessing` Pipeline.\"\"\"\n\u001b[0;32m    211\u001b[0m         \u001b[1;32mif\u001b[0m \u001b[0mself\u001b[0m\u001b[1;33m.\u001b[0m\u001b[0msequential\u001b[0m \u001b[1;32mand\u001b[0m \u001b[0misinstance\u001b[0m\u001b[1;33m(\u001b[0m\u001b[0mx\u001b[0m\u001b[1;33m,\u001b[0m \u001b[0mstr\u001b[0m\u001b[1;33m)\u001b[0m\u001b[1;33m:\u001b[0m\u001b[1;33m\u001b[0m\u001b[1;33m\u001b[0m\u001b[0m\n\u001b[1;32m--> 212\u001b[1;33m             \u001b[0mx\u001b[0m \u001b[1;33m=\u001b[0m \u001b[0mself\u001b[0m\u001b[1;33m.\u001b[0m\u001b[0mtokenize\u001b[0m\u001b[1;33m(\u001b[0m\u001b[0mx\u001b[0m\u001b[1;33m.\u001b[0m\u001b[0mrstrip\u001b[0m\u001b[1;33m(\u001b[0m\u001b[1;34m'\\n'\u001b[0m\u001b[1;33m)\u001b[0m\u001b[1;33m)\u001b[0m\u001b[1;33m\u001b[0m\u001b[1;33m\u001b[0m\u001b[0m\n\u001b[0m\u001b[0;32m    213\u001b[0m         \u001b[1;32mif\u001b[0m \u001b[0mself\u001b[0m\u001b[1;33m.\u001b[0m\u001b[0mlower\u001b[0m\u001b[1;33m:\u001b[0m\u001b[1;33m\u001b[0m\u001b[1;33m\u001b[0m\u001b[0m\n\u001b[0;32m    214\u001b[0m             \u001b[0mx\u001b[0m \u001b[1;33m=\u001b[0m \u001b[0mPipeline\u001b[0m\u001b[1;33m(\u001b[0m\u001b[0mstr\u001b[0m\u001b[1;33m.\u001b[0m\u001b[0mlower\u001b[0m\u001b[1;33m)\u001b[0m\u001b[1;33m(\u001b[0m\u001b[0mx\u001b[0m\u001b[1;33m)\u001b[0m\u001b[1;33m\u001b[0m\u001b[1;33m\u001b[0m\u001b[0m\n",
      "\u001b[1;32m~\\anaconda3\\envs\\book\\lib\\site-packages\\nltk\\tokenize\\__init__.py\u001b[0m in \u001b[0;36mword_tokenize\u001b[1;34m(text, language, preserve_line)\u001b[0m\n\u001b[0;32m    127\u001b[0m     \u001b[1;33m:\u001b[0m\u001b[0mtype\u001b[0m \u001b[0mpreserve_line\u001b[0m\u001b[1;33m:\u001b[0m \u001b[0mbool\u001b[0m\u001b[1;33m\u001b[0m\u001b[1;33m\u001b[0m\u001b[0m\n\u001b[0;32m    128\u001b[0m     \"\"\"\n\u001b[1;32m--> 129\u001b[1;33m     \u001b[0msentences\u001b[0m \u001b[1;33m=\u001b[0m \u001b[1;33m[\u001b[0m\u001b[0mtext\u001b[0m\u001b[1;33m]\u001b[0m \u001b[1;32mif\u001b[0m \u001b[0mpreserve_line\u001b[0m \u001b[1;32melse\u001b[0m \u001b[0msent_tokenize\u001b[0m\u001b[1;33m(\u001b[0m\u001b[0mtext\u001b[0m\u001b[1;33m,\u001b[0m \u001b[0mlanguage\u001b[0m\u001b[1;33m)\u001b[0m\u001b[1;33m\u001b[0m\u001b[1;33m\u001b[0m\u001b[0m\n\u001b[0m\u001b[0;32m    130\u001b[0m     return [\n\u001b[0;32m    131\u001b[0m         \u001b[0mtoken\u001b[0m \u001b[1;32mfor\u001b[0m \u001b[0msent\u001b[0m \u001b[1;32min\u001b[0m \u001b[0msentences\u001b[0m \u001b[1;32mfor\u001b[0m \u001b[0mtoken\u001b[0m \u001b[1;32min\u001b[0m \u001b[0m_treebank_word_tokenizer\u001b[0m\u001b[1;33m.\u001b[0m\u001b[0mtokenize\u001b[0m\u001b[1;33m(\u001b[0m\u001b[0msent\u001b[0m\u001b[1;33m)\u001b[0m\u001b[1;33m\u001b[0m\u001b[1;33m\u001b[0m\u001b[0m\n",
      "\u001b[1;32m~\\anaconda3\\envs\\book\\lib\\site-packages\\nltk\\tokenize\\__init__.py\u001b[0m in \u001b[0;36msent_tokenize\u001b[1;34m(text, language)\u001b[0m\n\u001b[0;32m    105\u001b[0m     \"\"\"\n\u001b[0;32m    106\u001b[0m     \u001b[0mtokenizer\u001b[0m \u001b[1;33m=\u001b[0m \u001b[0mload\u001b[0m\u001b[1;33m(\u001b[0m\u001b[1;34mf\"tokenizers/punkt/{language}.pickle\"\u001b[0m\u001b[1;33m)\u001b[0m\u001b[1;33m\u001b[0m\u001b[1;33m\u001b[0m\u001b[0m\n\u001b[1;32m--> 107\u001b[1;33m     \u001b[1;32mreturn\u001b[0m \u001b[0mtokenizer\u001b[0m\u001b[1;33m.\u001b[0m\u001b[0mtokenize\u001b[0m\u001b[1;33m(\u001b[0m\u001b[0mtext\u001b[0m\u001b[1;33m)\u001b[0m\u001b[1;33m\u001b[0m\u001b[1;33m\u001b[0m\u001b[0m\n\u001b[0m\u001b[0;32m    108\u001b[0m \u001b[1;33m\u001b[0m\u001b[0m\n\u001b[0;32m    109\u001b[0m \u001b[1;33m\u001b[0m\u001b[0m\n",
      "\u001b[1;32m~\\anaconda3\\envs\\book\\lib\\site-packages\\nltk\\tokenize\\punkt.py\u001b[0m in \u001b[0;36mtokenize\u001b[1;34m(self, text, realign_boundaries)\u001b[0m\n\u001b[0;32m   1274\u001b[0m         \u001b[0mGiven\u001b[0m \u001b[0ma\u001b[0m \u001b[0mtext\u001b[0m\u001b[1;33m,\u001b[0m \u001b[0mreturns\u001b[0m \u001b[0ma\u001b[0m \u001b[0mlist\u001b[0m \u001b[0mof\u001b[0m \u001b[0mthe\u001b[0m \u001b[0msentences\u001b[0m \u001b[1;32min\u001b[0m \u001b[0mthat\u001b[0m \u001b[0mtext\u001b[0m\u001b[1;33m.\u001b[0m\u001b[1;33m\u001b[0m\u001b[1;33m\u001b[0m\u001b[0m\n\u001b[0;32m   1275\u001b[0m         \"\"\"\n\u001b[1;32m-> 1276\u001b[1;33m         \u001b[1;32mreturn\u001b[0m \u001b[0mlist\u001b[0m\u001b[1;33m(\u001b[0m\u001b[0mself\u001b[0m\u001b[1;33m.\u001b[0m\u001b[0msentences_from_text\u001b[0m\u001b[1;33m(\u001b[0m\u001b[0mtext\u001b[0m\u001b[1;33m,\u001b[0m \u001b[0mrealign_boundaries\u001b[0m\u001b[1;33m)\u001b[0m\u001b[1;33m)\u001b[0m\u001b[1;33m\u001b[0m\u001b[1;33m\u001b[0m\u001b[0m\n\u001b[0m\u001b[0;32m   1277\u001b[0m \u001b[1;33m\u001b[0m\u001b[0m\n\u001b[0;32m   1278\u001b[0m     \u001b[1;32mdef\u001b[0m \u001b[0mdebug_decisions\u001b[0m\u001b[1;33m(\u001b[0m\u001b[0mself\u001b[0m\u001b[1;33m,\u001b[0m \u001b[0mtext\u001b[0m\u001b[1;33m)\u001b[0m\u001b[1;33m:\u001b[0m\u001b[1;33m\u001b[0m\u001b[1;33m\u001b[0m\u001b[0m\n",
      "\u001b[1;32m~\\anaconda3\\envs\\book\\lib\\site-packages\\nltk\\tokenize\\punkt.py\u001b[0m in \u001b[0;36msentences_from_text\u001b[1;34m(self, text, realign_boundaries)\u001b[0m\n\u001b[0;32m   1330\u001b[0m         \u001b[0mfollows\u001b[0m \u001b[0mthe\u001b[0m \u001b[0mperiod\u001b[0m\u001b[1;33m.\u001b[0m\u001b[1;33m\u001b[0m\u001b[1;33m\u001b[0m\u001b[0m\n\u001b[0;32m   1331\u001b[0m         \"\"\"\n\u001b[1;32m-> 1332\u001b[1;33m         \u001b[1;32mreturn\u001b[0m \u001b[1;33m[\u001b[0m\u001b[0mtext\u001b[0m\u001b[1;33m[\u001b[0m\u001b[0ms\u001b[0m\u001b[1;33m:\u001b[0m\u001b[0me\u001b[0m\u001b[1;33m]\u001b[0m \u001b[1;32mfor\u001b[0m \u001b[0ms\u001b[0m\u001b[1;33m,\u001b[0m \u001b[0me\u001b[0m \u001b[1;32min\u001b[0m \u001b[0mself\u001b[0m\u001b[1;33m.\u001b[0m\u001b[0mspan_tokenize\u001b[0m\u001b[1;33m(\u001b[0m\u001b[0mtext\u001b[0m\u001b[1;33m,\u001b[0m \u001b[0mrealign_boundaries\u001b[0m\u001b[1;33m)\u001b[0m\u001b[1;33m]\u001b[0m\u001b[1;33m\u001b[0m\u001b[1;33m\u001b[0m\u001b[0m\n\u001b[0m\u001b[0;32m   1333\u001b[0m \u001b[1;33m\u001b[0m\u001b[0m\n\u001b[0;32m   1334\u001b[0m     \u001b[1;32mdef\u001b[0m \u001b[0m_match_potential_end_contexts\u001b[0m\u001b[1;33m(\u001b[0m\u001b[0mself\u001b[0m\u001b[1;33m,\u001b[0m \u001b[0mtext\u001b[0m\u001b[1;33m)\u001b[0m\u001b[1;33m:\u001b[0m\u001b[1;33m\u001b[0m\u001b[1;33m\u001b[0m\u001b[0m\n",
      "\u001b[1;32m~\\anaconda3\\envs\\book\\lib\\site-packages\\nltk\\tokenize\\punkt.py\u001b[0m in \u001b[0;36m<listcomp>\u001b[1;34m(.0)\u001b[0m\n\u001b[0;32m   1330\u001b[0m         \u001b[0mfollows\u001b[0m \u001b[0mthe\u001b[0m \u001b[0mperiod\u001b[0m\u001b[1;33m.\u001b[0m\u001b[1;33m\u001b[0m\u001b[1;33m\u001b[0m\u001b[0m\n\u001b[0;32m   1331\u001b[0m         \"\"\"\n\u001b[1;32m-> 1332\u001b[1;33m         \u001b[1;32mreturn\u001b[0m \u001b[1;33m[\u001b[0m\u001b[0mtext\u001b[0m\u001b[1;33m[\u001b[0m\u001b[0ms\u001b[0m\u001b[1;33m:\u001b[0m\u001b[0me\u001b[0m\u001b[1;33m]\u001b[0m \u001b[1;32mfor\u001b[0m \u001b[0ms\u001b[0m\u001b[1;33m,\u001b[0m \u001b[0me\u001b[0m \u001b[1;32min\u001b[0m \u001b[0mself\u001b[0m\u001b[1;33m.\u001b[0m\u001b[0mspan_tokenize\u001b[0m\u001b[1;33m(\u001b[0m\u001b[0mtext\u001b[0m\u001b[1;33m,\u001b[0m \u001b[0mrealign_boundaries\u001b[0m\u001b[1;33m)\u001b[0m\u001b[1;33m]\u001b[0m\u001b[1;33m\u001b[0m\u001b[1;33m\u001b[0m\u001b[0m\n\u001b[0m\u001b[0;32m   1333\u001b[0m \u001b[1;33m\u001b[0m\u001b[0m\n\u001b[0;32m   1334\u001b[0m     \u001b[1;32mdef\u001b[0m \u001b[0m_match_potential_end_contexts\u001b[0m\u001b[1;33m(\u001b[0m\u001b[0mself\u001b[0m\u001b[1;33m,\u001b[0m \u001b[0mtext\u001b[0m\u001b[1;33m)\u001b[0m\u001b[1;33m:\u001b[0m\u001b[1;33m\u001b[0m\u001b[1;33m\u001b[0m\u001b[0m\n",
      "\u001b[1;32m~\\anaconda3\\envs\\book\\lib\\site-packages\\nltk\\tokenize\\punkt.py\u001b[0m in \u001b[0;36mspan_tokenize\u001b[1;34m(self, text, realign_boundaries)\u001b[0m\n\u001b[0;32m   1320\u001b[0m         \u001b[1;32mif\u001b[0m \u001b[0mrealign_boundaries\u001b[0m\u001b[1;33m:\u001b[0m\u001b[1;33m\u001b[0m\u001b[1;33m\u001b[0m\u001b[0m\n\u001b[0;32m   1321\u001b[0m             \u001b[0mslices\u001b[0m \u001b[1;33m=\u001b[0m \u001b[0mself\u001b[0m\u001b[1;33m.\u001b[0m\u001b[0m_realign_boundaries\u001b[0m\u001b[1;33m(\u001b[0m\u001b[0mtext\u001b[0m\u001b[1;33m,\u001b[0m \u001b[0mslices\u001b[0m\u001b[1;33m)\u001b[0m\u001b[1;33m\u001b[0m\u001b[1;33m\u001b[0m\u001b[0m\n\u001b[1;32m-> 1322\u001b[1;33m         \u001b[1;32mfor\u001b[0m \u001b[0msentence\u001b[0m \u001b[1;32min\u001b[0m \u001b[0mslices\u001b[0m\u001b[1;33m:\u001b[0m\u001b[1;33m\u001b[0m\u001b[1;33m\u001b[0m\u001b[0m\n\u001b[0m\u001b[0;32m   1323\u001b[0m             \u001b[1;32myield\u001b[0m \u001b[1;33m(\u001b[0m\u001b[0msentence\u001b[0m\u001b[1;33m.\u001b[0m\u001b[0mstart\u001b[0m\u001b[1;33m,\u001b[0m \u001b[0msentence\u001b[0m\u001b[1;33m.\u001b[0m\u001b[0mstop\u001b[0m\u001b[1;33m)\u001b[0m\u001b[1;33m\u001b[0m\u001b[1;33m\u001b[0m\u001b[0m\n\u001b[0;32m   1324\u001b[0m \u001b[1;33m\u001b[0m\u001b[0m\n",
      "\u001b[1;32m~\\anaconda3\\envs\\book\\lib\\site-packages\\nltk\\tokenize\\punkt.py\u001b[0m in \u001b[0;36m_realign_boundaries\u001b[1;34m(self, text, slices)\u001b[0m\n\u001b[0;32m   1419\u001b[0m         \"\"\"\n\u001b[0;32m   1420\u001b[0m         \u001b[0mrealign\u001b[0m \u001b[1;33m=\u001b[0m \u001b[1;36m0\u001b[0m\u001b[1;33m\u001b[0m\u001b[1;33m\u001b[0m\u001b[0m\n\u001b[1;32m-> 1421\u001b[1;33m         \u001b[1;32mfor\u001b[0m \u001b[0msentence1\u001b[0m\u001b[1;33m,\u001b[0m \u001b[0msentence2\u001b[0m \u001b[1;32min\u001b[0m \u001b[0m_pair_iter\u001b[0m\u001b[1;33m(\u001b[0m\u001b[0mslices\u001b[0m\u001b[1;33m)\u001b[0m\u001b[1;33m:\u001b[0m\u001b[1;33m\u001b[0m\u001b[1;33m\u001b[0m\u001b[0m\n\u001b[0m\u001b[0;32m   1422\u001b[0m             \u001b[0msentence1\u001b[0m \u001b[1;33m=\u001b[0m \u001b[0mslice\u001b[0m\u001b[1;33m(\u001b[0m\u001b[0msentence1\u001b[0m\u001b[1;33m.\u001b[0m\u001b[0mstart\u001b[0m \u001b[1;33m+\u001b[0m \u001b[0mrealign\u001b[0m\u001b[1;33m,\u001b[0m \u001b[0msentence1\u001b[0m\u001b[1;33m.\u001b[0m\u001b[0mstop\u001b[0m\u001b[1;33m)\u001b[0m\u001b[1;33m\u001b[0m\u001b[1;33m\u001b[0m\u001b[0m\n\u001b[0;32m   1423\u001b[0m             \u001b[1;32mif\u001b[0m \u001b[1;32mnot\u001b[0m \u001b[0msentence2\u001b[0m\u001b[1;33m:\u001b[0m\u001b[1;33m\u001b[0m\u001b[1;33m\u001b[0m\u001b[0m\n",
      "\u001b[1;32m~\\anaconda3\\envs\\book\\lib\\site-packages\\nltk\\tokenize\\punkt.py\u001b[0m in \u001b[0;36m_pair_iter\u001b[1;34m(iterator)\u001b[0m\n\u001b[0;32m    316\u001b[0m     \u001b[0miterator\u001b[0m \u001b[1;33m=\u001b[0m \u001b[0miter\u001b[0m\u001b[1;33m(\u001b[0m\u001b[0miterator\u001b[0m\u001b[1;33m)\u001b[0m\u001b[1;33m\u001b[0m\u001b[1;33m\u001b[0m\u001b[0m\n\u001b[0;32m    317\u001b[0m     \u001b[1;32mtry\u001b[0m\u001b[1;33m:\u001b[0m\u001b[1;33m\u001b[0m\u001b[1;33m\u001b[0m\u001b[0m\n\u001b[1;32m--> 318\u001b[1;33m         \u001b[0mprev\u001b[0m \u001b[1;33m=\u001b[0m \u001b[0mnext\u001b[0m\u001b[1;33m(\u001b[0m\u001b[0miterator\u001b[0m\u001b[1;33m)\u001b[0m\u001b[1;33m\u001b[0m\u001b[1;33m\u001b[0m\u001b[0m\n\u001b[0m\u001b[0;32m    319\u001b[0m     \u001b[1;32mexcept\u001b[0m \u001b[0mStopIteration\u001b[0m\u001b[1;33m:\u001b[0m\u001b[1;33m\u001b[0m\u001b[1;33m\u001b[0m\u001b[0m\n\u001b[0;32m    320\u001b[0m         \u001b[1;32mreturn\u001b[0m\u001b[1;33m\u001b[0m\u001b[1;33m\u001b[0m\u001b[0m\n",
      "\u001b[1;32m~\\anaconda3\\envs\\book\\lib\\site-packages\\nltk\\tokenize\\punkt.py\u001b[0m in \u001b[0;36m_slices_from_text\u001b[1;34m(self, text)\u001b[0m\n\u001b[0;32m   1393\u001b[0m     \u001b[1;32mdef\u001b[0m \u001b[0m_slices_from_text\u001b[0m\u001b[1;33m(\u001b[0m\u001b[0mself\u001b[0m\u001b[1;33m,\u001b[0m \u001b[0mtext\u001b[0m\u001b[1;33m)\u001b[0m\u001b[1;33m:\u001b[0m\u001b[1;33m\u001b[0m\u001b[1;33m\u001b[0m\u001b[0m\n\u001b[0;32m   1394\u001b[0m         \u001b[0mlast_break\u001b[0m \u001b[1;33m=\u001b[0m \u001b[1;36m0\u001b[0m\u001b[1;33m\u001b[0m\u001b[1;33m\u001b[0m\u001b[0m\n\u001b[1;32m-> 1395\u001b[1;33m         \u001b[1;32mfor\u001b[0m \u001b[0mmatch\u001b[0m\u001b[1;33m,\u001b[0m \u001b[0mcontext\u001b[0m \u001b[1;32min\u001b[0m \u001b[0mself\u001b[0m\u001b[1;33m.\u001b[0m\u001b[0m_match_potential_end_contexts\u001b[0m\u001b[1;33m(\u001b[0m\u001b[0mtext\u001b[0m\u001b[1;33m)\u001b[0m\u001b[1;33m:\u001b[0m\u001b[1;33m\u001b[0m\u001b[1;33m\u001b[0m\u001b[0m\n\u001b[0m\u001b[0;32m   1396\u001b[0m             \u001b[1;32mif\u001b[0m \u001b[0mself\u001b[0m\u001b[1;33m.\u001b[0m\u001b[0mtext_contains_sentbreak\u001b[0m\u001b[1;33m(\u001b[0m\u001b[0mcontext\u001b[0m\u001b[1;33m)\u001b[0m\u001b[1;33m:\u001b[0m\u001b[1;33m\u001b[0m\u001b[1;33m\u001b[0m\u001b[0m\n\u001b[0;32m   1397\u001b[0m                 \u001b[1;32myield\u001b[0m \u001b[0mslice\u001b[0m\u001b[1;33m(\u001b[0m\u001b[0mlast_break\u001b[0m\u001b[1;33m,\u001b[0m \u001b[0mmatch\u001b[0m\u001b[1;33m.\u001b[0m\u001b[0mend\u001b[0m\u001b[1;33m(\u001b[0m\u001b[1;33m)\u001b[0m\u001b[1;33m)\u001b[0m\u001b[1;33m\u001b[0m\u001b[1;33m\u001b[0m\u001b[0m\n",
      "\u001b[1;32m~\\anaconda3\\envs\\book\\lib\\site-packages\\nltk\\tokenize\\punkt.py\u001b[0m in \u001b[0;36m_match_potential_end_contexts\u001b[1;34m(self, text)\u001b[0m\n\u001b[0;32m   1380\u001b[0m             \u001b[0msplit\u001b[0m \u001b[1;33m=\u001b[0m \u001b[0mtext\u001b[0m\u001b[1;33m[\u001b[0m\u001b[1;33m:\u001b[0m \u001b[0mmatch\u001b[0m\u001b[1;33m.\u001b[0m\u001b[0mstart\u001b[0m\u001b[1;33m(\u001b[0m\u001b[1;33m)\u001b[0m\u001b[1;33m]\u001b[0m\u001b[1;33m.\u001b[0m\u001b[0mrsplit\u001b[0m\u001b[1;33m(\u001b[0m\u001b[0mmaxsplit\u001b[0m\u001b[1;33m=\u001b[0m\u001b[1;36m1\u001b[0m\u001b[1;33m)\u001b[0m\u001b[1;33m\u001b[0m\u001b[1;33m\u001b[0m\u001b[0m\n\u001b[0;32m   1381\u001b[0m             \u001b[0mbefore_start\u001b[0m \u001b[1;33m=\u001b[0m \u001b[0mlen\u001b[0m\u001b[1;33m(\u001b[0m\u001b[0msplit\u001b[0m\u001b[1;33m[\u001b[0m\u001b[1;36m0\u001b[0m\u001b[1;33m]\u001b[0m\u001b[1;33m)\u001b[0m \u001b[1;32mif\u001b[0m \u001b[0mlen\u001b[0m\u001b[1;33m(\u001b[0m\u001b[0msplit\u001b[0m\u001b[1;33m)\u001b[0m \u001b[1;33m==\u001b[0m \u001b[1;36m2\u001b[0m \u001b[1;32melse\u001b[0m \u001b[1;36m0\u001b[0m\u001b[1;33m\u001b[0m\u001b[1;33m\u001b[0m\u001b[0m\n\u001b[1;32m-> 1382\u001b[1;33m             \u001b[0mbefore_words\u001b[0m\u001b[1;33m[\u001b[0m\u001b[0mmatch\u001b[0m\u001b[1;33m]\u001b[0m \u001b[1;33m=\u001b[0m \u001b[0msplit\u001b[0m\u001b[1;33m[\u001b[0m\u001b[1;33m-\u001b[0m\u001b[1;36m1\u001b[0m\u001b[1;33m]\u001b[0m\u001b[1;33m\u001b[0m\u001b[1;33m\u001b[0m\u001b[0m\n\u001b[0m\u001b[0;32m   1383\u001b[0m             \u001b[0mmatches\u001b[0m\u001b[1;33m.\u001b[0m\u001b[0mappend\u001b[0m\u001b[1;33m(\u001b[0m\u001b[0mmatch\u001b[0m\u001b[1;33m)\u001b[0m\u001b[1;33m\u001b[0m\u001b[1;33m\u001b[0m\u001b[0m\n\u001b[0;32m   1384\u001b[0m \u001b[1;33m\u001b[0m\u001b[0m\n",
      "\u001b[1;31mIndexError\u001b[0m: list index out of range"
     ]
    }
   ],
   "source": [
    "TEXT = Field(\n",
    "    sequential=True,\n",
    "    use_vocab=True,\n",
    "    tokenize=word_tokenize,\n",
    "    lower=True,\n",
    "    batch_first=True,\n",
    ")\n",
    "LABEL = Field(\n",
    "    sequential=False,\n",
    "    use_vocab=False,\n",
    "    batch_first=True,\n",
    ")\n",
    "cola_train_data, cola_valid_data, cola_test_data = \\\n",
    "    TabularDataset.splits(\n",
    "        path=DATA_PATH,\n",
    "        train=\"cola_train.tsv\",\n",
    "        validation=\"cola_valid.tsv\",\n",
    "        test=\"cola_test.tsv\",\n",
    "        format=\"tsv\",\n",
    "        fields=[(\"text\", TEXT), (\"label\", LABEL)],\n",
    "        skip_header=1,\n",
    ")\n",
    "TEXT.build_vocab(cola_train_data, min_freq=2)\n",
    "cola_train_iterator, cola_valid_iterator, cola_test_iterator = \\\n",
    "    BucketIterator.splits(\n",
    "        (cola_train_data, cola_valid_data, cola_test_data),\n",
    "        batch_size=32,\n",
    "        device=None,\n",
    "        sort=False,\n",
    ")"
   ]
  },
  {
   "cell_type": "code",
   "execution_count": null,
   "id": "645d67a1",
   "metadata": {},
   "outputs": [],
   "source": []
  }
 ],
 "metadata": {
  "kernelspec": {
   "display_name": "PythorchDeepLearningProject",
   "language": "python",
   "name": "book"
  },
  "language_info": {
   "codemirror_mode": {
    "name": "ipython",
    "version": 3
   },
   "file_extension": ".py",
   "mimetype": "text/x-python",
   "name": "python",
   "nbconvert_exporter": "python",
   "pygments_lexer": "ipython3",
   "version": "3.7.11"
  }
 },
 "nbformat": 4,
 "nbformat_minor": 5
}
