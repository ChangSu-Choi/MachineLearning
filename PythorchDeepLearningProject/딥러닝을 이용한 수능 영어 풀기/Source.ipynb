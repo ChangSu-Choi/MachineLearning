{
  "cells": [
    {
      "cell_type": "code",
      "source": [
        "from google.colab import drive\n",
        "drive.mount('/content/drive')"
      ],
      "metadata": {
        "colab": {
          "base_uri": "https://localhost:8080/"
        },
        "id": "W-IXlLUdUbT9",
        "outputId": "a2b4ae72-76a3-4538-e61a-006641222126"
      },
      "id": "W-IXlLUdUbT9",
      "execution_count": 17,
      "outputs": [
        {
          "output_type": "stream",
          "name": "stdout",
          "text": [
            "Mounted at /content/drive\n"
          ]
        }
      ]
    },
    {
      "cell_type": "code",
      "source": [
        "!pip install dill\n",
        "!pip install torch\n",
        "!pip install torchtext"
      ],
      "metadata": {
        "colab": {
          "base_uri": "https://localhost:8080/"
        },
        "id": "7DXdqk1IPzL8",
        "outputId": "f1343048-7270-431b-8ade-8ba54db89510"
      },
      "id": "7DXdqk1IPzL8",
      "execution_count": 1,
      "outputs": [
        {
          "output_type": "stream",
          "name": "stdout",
          "text": [
            "Requirement already satisfied: dill in /usr/local/lib/python3.7/dist-packages (0.3.4)\n",
            "Requirement already satisfied: torch in /usr/local/lib/python3.7/dist-packages (1.10.0+cu111)\n",
            "Requirement already satisfied: typing-extensions in /usr/local/lib/python3.7/dist-packages (from torch) (3.10.0.2)\n",
            "Requirement already satisfied: torchtext in /usr/local/lib/python3.7/dist-packages (0.11.0)\n",
            "Requirement already satisfied: tqdm in /usr/local/lib/python3.7/dist-packages (from torchtext) (4.62.3)\n",
            "Requirement already satisfied: requests in /usr/local/lib/python3.7/dist-packages (from torchtext) (2.23.0)\n",
            "Requirement already satisfied: torch==1.10.0 in /usr/local/lib/python3.7/dist-packages (from torchtext) (1.10.0+cu111)\n",
            "Requirement already satisfied: numpy in /usr/local/lib/python3.7/dist-packages (from torchtext) (1.19.5)\n",
            "Requirement already satisfied: typing-extensions in /usr/local/lib/python3.7/dist-packages (from torch==1.10.0->torchtext) (3.10.0.2)\n",
            "Requirement already satisfied: idna<3,>=2.5 in /usr/local/lib/python3.7/dist-packages (from requests->torchtext) (2.10)\n",
            "Requirement already satisfied: chardet<4,>=3.0.2 in /usr/local/lib/python3.7/dist-packages (from requests->torchtext) (3.0.4)\n",
            "Requirement already satisfied: urllib3!=1.25.0,!=1.25.1,<1.26,>=1.21.1 in /usr/local/lib/python3.7/dist-packages (from requests->torchtext) (1.24.3)\n",
            "Requirement already satisfied: certifi>=2017.4.17 in /usr/local/lib/python3.7/dist-packages (from requests->torchtext) (2021.10.8)\n"
          ]
        }
      ]
    },
    {
      "cell_type": "markdown",
      "id": "478749c7",
      "metadata": {
        "id": "478749c7"
      },
      "source": [
        "### [모듈 불러오기]"
      ]
    },
    {
      "cell_type": "code",
      "execution_count": 36,
      "id": "7f4f0a50",
      "metadata": {
        "colab": {
          "base_uri": "https://localhost:8080/"
        },
        "id": "7f4f0a50",
        "outputId": "89430eb1-255b-40e3-af82-6929612e4045"
      },
      "outputs": [
        {
          "output_type": "stream",
          "name": "stdout",
          "text": [
            "[nltk_data] Downloading package punkt to /root/nltk_data...\n",
            "[nltk_data]   Package punkt is already up-to-date!\n"
          ]
        }
      ],
      "source": [
        "import dill\n",
        "import time\n",
        "import random\n",
        "import numpy as np\n",
        "from sklearn.metrics import roc_curve, auc\n",
        "\n",
        "import nltk\n",
        "\n",
        "nltk.download(\"punkt\")\n",
        "from nltk.tokenize import word_tokenize\n",
        "\n",
        "import torch\n",
        "import torch.nn as nn\n",
        "\n",
        "from torchtext.legacy.data import Field\n",
        "from torchtext.legacy.data import TabularDataset\n",
        "from torchtext.legacy.data import BucketIterator\n",
        "from torchtext.legacy.data import Iterator\n",
        "RANDOM_SEED = 2020\n",
        "torch.manual_seed(RANDOM_SEED)\n",
        "torch.backends.cudnn.deterministic = True\n",
        "torch.backends.cudnn.benchmark = False\n",
        "np.random.seed(RANDOM_SEED)\n",
        "random.seed(RANDOM_SEED)\n",
        "\n",
        "DATA_PATH = \"/content/drive/MyDrive/GitHub/MachineLearning/PythorchDeepLearningProject/딥러닝을 이용한 수능 영어 풀기/data/processed\""
      ]
    },
    {
      "cell_type": "code",
      "execution_count": 19,
      "id": "1098e07d",
      "metadata": {
        "id": "1098e07d"
      },
      "outputs": [],
      "source": [
        "RANDOM_SEED = 2020\n",
        "torch.manual_seed(RANDOM_SEED)\n",
        "torch.backends.cudnn.deterministic = True\n",
        "torch.backends.cudnn.benchmark = False\n",
        "np.random.seed(RANDOM_SEED)\n",
        "random.seed(RANDOM_SEED)\n",
        "\n",
        "DATA_PATH = \"/content/drive/MyDrive/GitHub/MachineLearning/PythorchDeepLearningProject/딥러닝을 이용한 수능 영어 풀기/data/processed\""
      ]
    },
    {
      "cell_type": "code",
      "execution_count": 20,
      "id": "eff9232d",
      "metadata": {
        "colab": {
          "base_uri": "https://localhost:8080/"
        },
        "id": "eff9232d",
        "outputId": "23fc9ed8-29b3-4ffd-836c-021114a672b4"
      },
      "outputs": [
        {
          "output_type": "stream",
          "name": "stdout",
          "text": [
            "1.10.0+cu111\n"
          ]
        }
      ],
      "source": [
        "print(torch.__version__)"
      ]
    },
    {
      "cell_type": "markdown",
      "id": "e54a2055",
      "metadata": {
        "id": "e54a2055"
      },
      "source": [
        "### [모델 클래스 정의하기]"
      ]
    },
    {
      "cell_type": "code",
      "execution_count": 21,
      "id": "9c845d98",
      "metadata": {
        "id": "9c845d98"
      },
      "outputs": [],
      "source": [
        "class LSTMClassifier(nn.Module):\n",
        "    def __init__(self, num_embeddings, embedding_dim, hidden_size, num_layers, pad_idx):\n",
        "        super().__init__()\n",
        "        self.embed_layer = nn.Embedding(\n",
        "            # 생성할 Embedding Layer의 크기를 정해줌, 보통은 단어장의 크기\n",
        "            num_embeddings=num_embeddings,\n",
        "            embedding_dim=embedding_dim,\n",
        "            # 자연어 처리에서 배치별로 문장의 크기를 맞추기 위해서 짧은 문장에 Padding을 붙여서 길이를 맞춤\n",
        "            # 그런데 이 Padding은 특별한 의미를 갖고 있지 않음\n",
        "            # 학습에서 제외하기 위해 Padding이 단어장에서 어떤 숫자를 갖고 있는지 알려줌으로써 학습되지 않게 함.\n",
        "            padding_idx=pad_idx\n",
        "        )\n",
        "        self.lstm_layer = nn.LSTM(\n",
        "            input_size=embedding_dim,\n",
        "            hidden_size=hidden_size,\n",
        "            num_layers=num_layers,\n",
        "            bidirectional=True,\n",
        "            dropout=0.5\n",
        "        )\n",
        "        self.last_layer = nn.Sequential(\n",
        "            nn.Linear(hidden_size * 2, hidden_size),\n",
        "            nn.Dropout(0.5),\n",
        "            nn.LeakyReLU(),\n",
        "            # 마지막 Output 크기를 1로 줌 (맞는지 아닌지 점수가 가장 낮은 문장이 문법적으로 맞지 않다고 판단)\n",
        "            nn.Linear(hidden_size, 1),\n",
        "            nn.Sigmoid(),\n",
        "        )\n",
        "        \n",
        "    def forward(self, x):\n",
        "        # 이 모델은 숫자로 이루어진 토큰을 Input으로 받는다고 가정\n",
        "        # 그렇기에 우선 들어온 Input 값을 Embedding 값으로 변환시켜 주어야 함\n",
        "        embed_x = self.embed_layer(x)\n",
        "        # LSTM은 Output, (Hidden State, Cell State)를 반환 함, 이 중 State 값들은 사용하지 않으므로 반환 받지 않음\n",
        "        output, (_, _) = self.lstm_layer(embed_x)\n",
        "        # LSTM의 Output은 (배치 크기, 문장 길이, Output Size)라는 Size를 갖고 있음. 가장 마지막 단어의 결과 값만 사용\n",
        "        last_output = output[:, -1, :]\n",
        "        # 문장의 마지막 단어의 Output을 Fully Connected Layer에 통과시켜 확률값을 계산\n",
        "        last_output = self.last_layer(last_output)\n",
        "        return last_output"
      ]
    },
    {
      "cell_type": "markdown",
      "id": "e42f808e",
      "metadata": {
        "id": "e42f808e"
      },
      "source": [
        "### [모델 파이프라인 정의]"
      ]
    },
    {
      "cell_type": "markdown",
      "id": "9ad2ee09",
      "metadata": {
        "id": "9ad2ee09"
      },
      "source": [
        "## >데이터셋 불러오기<"
      ]
    },
    {
      "cell_type": "markdown",
      "id": "124e3960",
      "metadata": {
        "id": "124e3960"
      },
      "source": [
        "**파일에서 필요한 Field 선언하기**  \n",
        "1 TEXT = Field(...)  \n",
        "2 LABEL = Field(...)  \n",
        "**데이터 불러오기**  \n",
        "3 dataset = TabularDataset  \n",
        "**불러온 데이터로 단어장 만들기**  \n",
        "4 TEXT.build_vocab(dataset)  \n",
        "**Data Loader 만들기**  \n",
        "5 data_loadet = BucketIterator(dataset, ..)"
      ]
    },
    {
      "cell_type": "markdown",
      "id": "072b4d04",
      "metadata": {
        "id": "072b4d04"
      },
      "source": [
        "![image.png](data:image/png;base64,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)  \n",
        "문장은 TEXT, 정답은 LABEL로 각각의 Field를 정의"
      ]
    },
    {
      "cell_type": "markdown",
      "id": "c8124bb3",
      "metadata": {
        "id": "c8124bb3"
      },
      "source": [
        "### [문장 필드 정의]"
      ]
    },
    {
      "cell_type": "code",
      "execution_count": 22,
      "id": "bcb84a99",
      "metadata": {
        "id": "bcb84a99"
      },
      "outputs": [],
      "source": [
        "TEXT = Field(\n",
        "    sequential=True, # 1\n",
        "    use_vocab=True, # 2\n",
        "    tokenize=word_tokenize, # 3\n",
        "    lower=True, # 4\n",
        "    batch_first=True # 5\n",
        ")"
      ]
    },
    {
      "cell_type": "markdown",
      "id": "6b999c7e",
      "metadata": {
        "id": "6b999c7e"
      },
      "source": [
        "1. TEXT는 문장이 들어오는 Field. Sequential=True로 설정해서 이 필드에는 문장이 들어온다는 것을 알려줌\n",
        "2. 단어를 숫자로 변환시켜주는 단어장을 만들기 위해 이 필드를 이용함\n",
        "3. 불러온 문장을 토크나이징 할 함수를 입력. nltk의 word_tokenize를 이용 할 것임. word_tokenize는 영어로 이루어진 문장을 토큰화시킬 때 가장 기본적으로 사용됨.\n",
        "4. 대소문자를 구분할지 말지를 설정하는 부분. 따로 대명사를 처리하지 않을 것이기에 모두 소문자로 처리\n",
        "5. 자연어를 처리하는 모듈별로 지원하는 데이터의 형태가 다름. 크게 다음 두가지 형태가 있음.\n",
        "- (배치, 문장)\n",
        "- (문장, 배치)  \n",
        "이 중 첫 번째의 방식이 필요하기에 True를 줌"
      ]
    },
    {
      "cell_type": "markdown",
      "id": "ef7f7d32",
      "metadata": {
        "id": "ef7f7d32"
      },
      "source": [
        "### [정답 필드 정의]"
      ]
    },
    {
      "cell_type": "code",
      "execution_count": 23,
      "id": "16d7e485",
      "metadata": {
        "id": "16d7e485"
      },
      "outputs": [],
      "source": [
        "LABEL = Field(\n",
        "    sequential=False, # 1\n",
        "    use_vocab=False, # 2\n",
        "    batch_first=True,\n",
        ")"
      ]
    },
    {
      "cell_type": "markdown",
      "id": "b360d49e",
      "metadata": {
        "id": "b360d49e"
      },
      "source": [
        "1. 앞에서는 문장이 들어오기 때문에 True를 주었지만 이 열은 정답이 있는 열이기에 False를 줌\n",
        "2. 또한 이 Field에서는 따로 단어장을 생성하지 않기에 False를 줌"
      ]
    },
    {
      "cell_type": "markdown",
      "id": "2ada077b",
      "metadata": {
        "id": "2ada077b"
      },
      "source": [
        "### [데이터 불러오기]"
      ]
    },
    {
      "cell_type": "code",
      "execution_count": 24,
      "id": "4dcc77ab",
      "metadata": {
        "id": "4dcc77ab"
      },
      "outputs": [],
      "source": [
        "sat_train_data, sat_valid_data, sat_test_data = \\\n",
        "    TabularDataset.splits(\n",
        "    path=\"/content/drive/MyDrive/GitHub/MachineLearning/PythorchDeepLearningProject/딥러닝을 이용한 수능 영어 풀기/data/processed\", # 1\n",
        "    train='sat_train.tsv', # 2\n",
        "    validation='sat_valid.tsv',\n",
        "    test = 'sat_test.tsv',\n",
        "    format = 'tsv', # 3\n",
        "    fields = [('text', TEXT), ('label', LABEL)], # 4\n",
        "    skip_header = 1, # 5\n",
        ")\n",
        "TEXT.build_vocab(sat_train_data, min_freq=2) # 6"
      ]
    },
    {
      "cell_type": "markdown",
      "id": "b8c30135",
      "metadata": {
        "id": "b8c30135"
      },
      "source": [
        "1. 데이터가 들어 있는 폴더의 경로를 입력\n",
        "2. 각각 Train, Validation, Test의 파일명을 입력\n",
        "3. 데이터의 파일 포맷 형태를 줍니다. 사용할 데이터는 Tap separated value의 데이터이기에 tsv를 입력\n",
        "4. 앞에서 정의한 Field를 입력해주는 부분. 입력할 때 실제 데이터의 컬럼 순서로 입력해주어야함. 그리고 Field의 이름과 Field를 묶음. 예를 들어 (\"text\", TEXT)라면 이 데이터는 첫 번째 컬럼에 문장이 있고 그 컬럼명을 text로 하겠다는 뜻\n",
        "5. 데이터의 첫 번째 열에는 원래의 컬럼명이 들어 있음. 데이터로 사용되지 않기 때문에 따로 불러오지 않도록 해야함. 그렇기에 1을 주어서 첫 번째 열을 생략하도록 함.\n",
        "6. 마지막으로 불러온 데이터 중 훈련 데이터를 이용해 TEXT의 단어장을 생성함\n",
        "\n",
        "불러온 데이터로 Data Loader를 만들어야 하는데 일반적인 Data Loader은  \n",
        "랜덤하게 추출 -> 각 문장을 정해진 길이에 맞추기 -> Tensor로 변환  \n",
        "\n",
        "정해진 길이에 맞추기 : torchtext.BucketIterator 이용"
      ]
    },
    {
      "cell_type": "markdown",
      "id": "249925d2",
      "metadata": {
        "id": "249925d2"
      },
      "source": [
        "### [Data Loader 정의]"
      ]
    },
    {
      "cell_type": "code",
      "execution_count": 25,
      "id": "93023997",
      "metadata": {
        "id": "93023997"
      },
      "outputs": [],
      "source": [
        "sat_train_iterator, sat_valid_iterator, sat_test_iterator = \\\n",
        "    BucketIterator.splits(\n",
        "        (sat_train_data, sat_valid_data, sat_test_data),\n",
        "        batch_size=8,\n",
        "        device=None,\n",
        "        sort=False,\n",
        ")\n"
      ]
    },
    {
      "cell_type": "markdown",
      "id": "382df1cd",
      "metadata": {
        "id": "382df1cd"
      },
      "source": [
        "1. 앞에서 불러온 데이터들을 묶어서 입력해줌\n",
        "2. Data Loader에서 각 배치별 크기를 의미"
      ]
    },
    {
      "cell_type": "markdown",
      "id": "27682175",
      "metadata": {
        "id": "27682175"
      },
      "source": [
        "## >학습<  \n",
        "  \n",
        "1. Data Loader에서 배치 불러오기\n",
        "2. 배치를 모델에 넣어서 데이터 형태 맞추기\n",
        "3. 배치를 모델에 넣어서 예측값 얻기\n",
        "4. 정답과 예측값을 비교해서 Loss 계산하기\n",
        "5. Loss를 이용해 모델 학습시키기"
      ]
    },
    {
      "cell_type": "markdown",
      "id": "31a00283",
      "metadata": {
        "id": "31a00283"
      },
      "source": [
        "### [모델 학습 함수 정의]"
      ]
    },
    {
      "cell_type": "code",
      "execution_count": 26,
      "id": "f374bf7f",
      "metadata": {
        "id": "f374bf7f"
      },
      "outputs": [],
      "source": [
        "def train(model, train_loader, optimizer, criterion, device):\n",
        "    model.train()\n",
        "    epoch_loss = 0\n",
        "    for batch in train_loader: # 1\n",
        "        optimizer.zero_grad()\n",
        "        text = batch.text\n",
        "        if text.shape[0] > 1:\n",
        "            label = batch.label.type(torch.FloatTensor) # 3\n",
        "            text = text.to(device)\n",
        "            label = label.to(device)\n",
        "            output = model(text).flatten() # 4\n",
        "            loss = criterion(output, label) # 5\n",
        "            loss.backward()\n",
        "            optimizer.step()\n",
        "            epoch_loss += loss.item()\n",
        "\n",
        "    return epoch_loss / len(train_loader)"
      ]
    },
    {
      "cell_type": "markdown",
      "id": "29fb8a3e",
      "metadata": {
        "id": "29fb8a3e"
      },
      "source": [
        "train\n",
        "1. 입력 받은 Data Loader를 호출해 Batch를 부르는 코드\n",
        "2. Batch는 두 개의 Attribute를 갖고 있음. 앞서 데이터를 불러올 때 준 fields=[(\"text\", TEXT), (\"label\", LABEL)]에서 앞의 단어들. 여기서 text는 batch의 문장, label은 Batch의 정답을 갖고 있음\n",
        "3. 문장과 정답을 불러와서 필요한 데이터 형태로 변환\n",
        "4. 모델에 문장을 넣어서 결과를 출력\n",
        "5. 출력된 겨로가와 정답을 비교해서 Loss를 구함"
      ]
    },
    {
      "cell_type": "markdown",
      "id": "4453165a",
      "metadata": {
        "id": "4453165a"
      },
      "source": [
        "### [모델 평가 함수 정의]"
      ]
    },
    {
      "cell_type": "code",
      "execution_count": 27,
      "id": "9a088124",
      "metadata": {
        "id": "9a088124"
      },
      "outputs": [],
      "source": [
        "def evaluate(model, valid_loader, optimizer, criterion, device):\n",
        "    model.eval() # 1\n",
        "    epoch_loss = 0\n",
        "    \n",
        "    with torch.no_grad(): # 2\n",
        "        for _, batch in enumerate(valid_loader):\n",
        "            text = batch.text\n",
        "            label = batch.label.type(torch.FloatTensor)\n",
        "            text = text.to(device)\n",
        "            label = label.to(device)\n",
        "            output = model(text).flatten()\n",
        "            loss = criterion(output, label)\n",
        "            epoch_loss += loss.item()\n",
        "\n",
        "    return epoch_loss / len(valid_loader)"
      ]
    },
    {
      "cell_type": "markdown",
      "id": "9ce20a61",
      "metadata": {
        "id": "9ce20a61"
      },
      "source": [
        "1. Dropout과 같이 훈련과 평가의 동작이 다른 모듈들은 각 목적에 맞게 변화를 주어야 함. 여기서는 평가를 하기 위해 model.eval()를 먼저 선언\n",
        "2. torch에서는 기본적으로 Forward를 할 때 자동으로 Gradient를 계산. 하지만 평가를 진행할 때는 Gradient를 계산할 필요가 없음."
      ]
    },
    {
      "cell_type": "markdown",
      "id": "f16a1300",
      "metadata": {
        "id": "f16a1300"
      },
      "source": [
        "### [HyperParameter 선언]"
      ]
    },
    {
      "cell_type": "code",
      "execution_count": 28,
      "id": "26ae085f",
      "metadata": {
        "id": "26ae085f"
      },
      "outputs": [],
      "source": [
        "PAD_IDX = TEXT.vocab.stoi[TEXT.pad_token]\n",
        "N_EPOCHS = 20\n",
        "\n",
        "lstm_classifier = LSTMClassifier(\n",
        "    num_embeddings=len(TEXT.vocab),\n",
        "    embedding_dim=100,\n",
        "    hidden_size=200,\n",
        "    num_layers=4,\n",
        "    pad_idx=PAD_IDX,\n",
        ")\n",
        "if torch.cuda.is_available():\n",
        "    device = \"cuda:0\"\n",
        "else:\n",
        "    device = \"cpu\"\n",
        "_ = lstm_classifier.to(device)\n",
        "\n",
        "optimizer = torch.optim.Adam(lstm_classifier.parameters())\n",
        "bce_loss_fn = nn.BCELoss()"
      ]
    },
    {
      "cell_type": "markdown",
      "id": "bd989a9a",
      "metadata": {
        "id": "bd989a9a"
      },
      "source": [
        "### [모델 학습]"
      ]
    },
    {
      "cell_type": "code",
      "execution_count": 29,
      "id": "41077b8e",
      "metadata": {
        "colab": {
          "base_uri": "https://localhost:8080/"
        },
        "id": "41077b8e",
        "outputId": "9491e139-6391-4fb3-c650-5ca1a838af4f"
      },
      "outputs": [
        {
          "output_type": "stream",
          "name": "stdout",
          "text": [
            "Epoch: 01\n",
            "\tTrain Loss: 0.52810\n",
            "\t Val. Loss: 0.75326\n",
            "Epoch: 02\n",
            "\tTrain Loss: 0.49924\n",
            "\t Val. Loss: 0.56588\n",
            "Epoch: 03\n",
            "\tTrain Loss: 0.47923\n",
            "\t Val. Loss: 0.54770\n",
            "Epoch: 04\n",
            "\tTrain Loss: 0.44219\n",
            "\t Val. Loss: 0.54381\n",
            "Epoch: 05\n",
            "\tTrain Loss: 0.43113\n",
            "\t Val. Loss: 0.54783\n",
            "Epoch: 06\n",
            "\tTrain Loss: 0.41869\n",
            "\t Val. Loss: 0.55497\n",
            "Epoch: 07\n",
            "\tTrain Loss: 0.43133\n",
            "\t Val. Loss: 0.55407\n",
            "Epoch: 08\n",
            "\tTrain Loss: 0.41844\n",
            "\t Val. Loss: 0.53829\n",
            "Epoch: 09\n",
            "\tTrain Loss: 0.43900\n",
            "\t Val. Loss: 0.54035\n",
            "Epoch: 10\n",
            "\tTrain Loss: 0.42366\n",
            "\t Val. Loss: 0.53843\n",
            "Epoch: 11\n",
            "\tTrain Loss: 0.43774\n",
            "\t Val. Loss: 0.54793\n",
            "Epoch: 12\n",
            "\tTrain Loss: 0.45102\n",
            "\t Val. Loss: 0.53778\n",
            "Epoch: 13\n",
            "\tTrain Loss: 0.43867\n",
            "\t Val. Loss: 0.54942\n",
            "Epoch: 14\n",
            "\tTrain Loss: 0.42296\n",
            "\t Val. Loss: 0.56581\n",
            "Epoch: 15\n",
            "\tTrain Loss: 0.44112\n",
            "\t Val. Loss: 0.55550\n",
            "Epoch: 16\n",
            "\tTrain Loss: 0.42192\n",
            "\t Val. Loss: 0.54795\n",
            "Epoch: 17\n",
            "\tTrain Loss: 0.45172\n",
            "\t Val. Loss: 0.54969\n",
            "Epoch: 18\n",
            "\tTrain Loss: 0.44443\n",
            "\t Val. Loss: 0.55901\n",
            "Epoch: 19\n",
            "\tTrain Loss: 0.42402\n",
            "\t Val. Loss: 0.54568\n",
            "Epoch: 20\n",
            "\tTrain Loss: 0.44879\n",
            "\t Val. Loss: 0.54934\n"
          ]
        }
      ],
      "source": [
        "for epoch in range(N_EPOCHS):\n",
        "    train_loss = train(\n",
        "        lstm_classifier,\n",
        "        sat_train_iterator,\n",
        "        optimizer,\n",
        "        bce_loss_fn,\n",
        "        device = device\n",
        "    )\n",
        "    valid_loss = evaluate(\n",
        "        lstm_classifier,\n",
        "        sat_valid_iterator,\n",
        "        optimizer,\n",
        "        criterion = bce_loss_fn,\n",
        "        device = device\n",
        "    )\n",
        "    print(f\"Epoch: {epoch+1:02}\")\n",
        "    print(f\"\\tTrain Loss: {train_loss:.5f}\")\n",
        "    print(f\"\\t Val. Loss: {valid_loss:.5f}\")"
      ]
    },
    {
      "cell_type": "markdown",
      "id": "4be914d0",
      "metadata": {
        "id": "4be914d0"
      },
      "source": [
        "### [모델 저장]"
      ]
    },
    {
      "cell_type": "code",
      "execution_count": 30,
      "id": "41bd344a",
      "metadata": {
        "id": "41bd344a"
      },
      "outputs": [],
      "source": [
        "with open(\"baseline_model.dill\", \"wb\") as f:\n",
        "    model = {\n",
        "        \"TEXT\": TEXT,\n",
        "        \"LABEL\": LABEL,\n",
        "        \"classifier\": lstm_classifier\n",
        "    }\n",
        "    dill.dump(model, f)"
      ]
    },
    {
      "cell_type": "markdown",
      "id": "b9258c7f",
      "metadata": {
        "id": "b9258c7f"
      },
      "source": [
        "## > Test <  "
      ]
    },
    {
      "cell_type": "markdown",
      "id": "a5efb1a2",
      "metadata": {
        "id": "a5efb1a2"
      },
      "source": [
        "모델이 얼마나 잘 맞히는지 판단하기 위해 **Area Under Receiver Operating Characteristic(AUROC)**를 이용"
      ]
    },
    {
      "cell_type": "markdown",
      "id": "bb1735f6",
      "metadata": {
        "id": "bb1735f6"
      },
      "source": [
        "### [AUROC]  \n",
        "\n",
        "Output의 크기가 2라면 모델의 성능지표로써 정확도(Accuracy)를 사용하면 됨. 하지만 Output 크기가 1일 때는 정확도가 Threshold에 의해서 변하게 됨.  \n",
        "예를 들어 아래와 같은 예측값과 정답이 있다고 가정해 보겠음"
      ]
    },
    {
      "cell_type": "markdown",
      "id": "ded5e147",
      "metadata": {
        "id": "ded5e147"
      },
      "source": [
        "![image.png](attachment:image.png)"
      ]
    },
    {
      "cell_type": "markdown",
      "id": "bc4b638e",
      "metadata": {
        "id": "bc4b638e"
      },
      "source": [
        "확률이 0.5가 넘을 경우 문법적으로 맞는 문장, 넘지 않을 경우 문법적으로 틀린 문장이라고 가정. 그러면 이 모델의 예측값은 아래와 같이 바뀌게 됨"
      ]
    },
    {
      "cell_type": "markdown",
      "id": "2ceab451",
      "metadata": {
        "id": "2ceab451"
      },
      "source": [
        "![image.png](attachment:image.png)"
      ]
    },
    {
      "cell_type": "markdown",
      "id": "a4978178",
      "metadata": {
        "id": "a4978178"
      },
      "source": [
        "정확도가 66%인 모델이 됨. 그런데 확률을 0.5 대신 0.52로 변경하면 정확도가 100%인 모델이 됨.  \n",
        "이처럼 Threshold에 의해 정확도가 변하기 때문에 정확도를 신뢰하기 어려움. Threshold에 의해 변하는 값을 보완하기 위한 평가 척도가 AUROC임"
      ]
    },
    {
      "cell_type": "markdown",
      "id": "5029a096",
      "metadata": {
        "id": "5029a096"
      },
      "source": [
        "### [테스트 함수 정의]"
      ]
    },
    {
      "cell_type": "code",
      "execution_count": 31,
      "id": "590d2758",
      "metadata": {
        "id": "590d2758"
      },
      "outputs": [],
      "source": [
        "def test(model, test_loader, device):\n",
        "    model.eval()\n",
        "    with torch.no_grad():\n",
        "        y_real = []\n",
        "        y_pred = []\n",
        "        \n",
        "        for batch in test_loader:\n",
        "            text = batch.text\n",
        "            label = batch.label.type(torch.FloatTensor)\n",
        "            text = text.to(device)\n",
        "            \n",
        "            output = model(text).flatten().cpu()\n",
        "            \n",
        "            y_real += [label] # 1\n",
        "            y_pred += [output]\n",
        "            \n",
        "        y_real = torch.cat(y_real) # 2\n",
        "        y_pred = torch.cat(y_pred)\n",
        "        \n",
        "    fpr, tpr, _ = roc_curve(y_real, y_pred) # 3\n",
        "    auroc = auc(fpr, tpr)\n",
        "    \n",
        "    return auroc"
      ]
    },
    {
      "cell_type": "markdown",
      "id": "042ca861",
      "metadata": {
        "id": "042ca861"
      },
      "source": [
        "1. Test 결과를 보기 위해 각 Batch의 예측값을 List에 모음\n",
        "2. 모인 예측값들을 합쳐줌\n",
        "3. 예측값과 정답을 이용해 AUROC를 계산"
      ]
    },
    {
      "cell_type": "markdown",
      "id": "ecf51e9f",
      "metadata": {
        "id": "ecf51e9f"
      },
      "source": [
        "### [모델 성능 확인]"
      ]
    },
    {
      "cell_type": "code",
      "execution_count": 32,
      "id": "68fa4174",
      "metadata": {
        "colab": {
          "base_uri": "https://localhost:8080/"
        },
        "id": "68fa4174",
        "outputId": "69f8a9ff-9480-43d7-d47d-6bee26e26aac"
      },
      "outputs": [
        {
          "output_type": "stream",
          "name": "stdout",
          "text": [
            "SAT Dataset Test AUROC: 0.65385\n"
          ]
        }
      ],
      "source": [
        "_ = lstm_classifier.cpu()\n",
        "test_auroc = test(\n",
        "    lstm_classifier, # 1\n",
        "    sat_test_iterator, # 2\n",
        "    \"cpu\"\n",
        ")\n",
        "\n",
        "print(f\"SAT Dataset Test AUROC: {test_auroc:.5f}\")"
      ]
    },
    {
      "cell_type": "markdown",
      "id": "505bd80f",
      "metadata": {
        "id": "505bd80f"
      },
      "source": [
        "1. 학습이 끝난 모델을 입력.\n",
        "2. 수능 Test 데이터를 입력해 결과를 확인."
      ]
    },
    {
      "cell_type": "markdown",
      "id": "252a3ad9",
      "metadata": {
        "id": "252a3ad9"
      },
      "source": [
        "일반적으로 AUROC의 기준값을 0.5로 보는데, 이 0.5라는 숫자는 동전을 던지는 확률과 같음. 그런데 이 모델은 0.57로 동전을 던지는 것보다 약간 더 좋은 상태임. 성능이 낮은 이유를 생각해보면 크게 두 가지\n",
        "  \n",
        "1. 데이터가 부족함\n",
        "2. 모델의 성능이 문제를 풀기에 부족함  "
      ]
    },
    {
      "cell_type": "markdown",
      "id": "6cc2542c",
      "metadata": {
        "id": "6cc2542c"
      },
      "source": [
        "# 성능 높이기"
      ]
    },
    {
      "cell_type": "markdown",
      "id": "3fdbeda3",
      "metadata": {
        "id": "3fdbeda3"
      },
      "source": [
        "## > 추가 데이터 이용 <"
      ]
    },
    {
      "cell_type": "markdown",
      "id": "987b024b",
      "metadata": {
        "id": "987b024b"
      },
      "source": [
        "부족한 데이터 모음 -> 수능 문제는 추가적으로 구하기 어려움  \n",
        "그래서 추가적인 데이터를 구하기 ㄷ위해 공개된 데이터 셋을 활용  \n",
        "Corpus of Linguistically Acceptable(CoLA) 데이터셋을 이용.  \n",
        "CoLa데이터셋: 문장이 주어지면 그 문장이 문법적으로 받아들일 수 있는지를 풀고자 하는 문제들  \n",
        "\n",
        "Train 데이터에 추가해서 학습 시키면 될 것 같은데?  \n",
        "데이터 크기 차이 때문에 무리, CoLA가 1:10 비율로 훨신 더 많음 -> 편향된 결과!  \n",
        "\n",
        "따라서 이 데이터는 Pre-Trained Model에 사용하고자 함."
      ]
    },
    {
      "cell_type": "markdown",
      "id": "8b8f5bbf",
      "metadata": {
        "id": "8b8f5bbf"
      },
      "source": [
        "### [사전 학습 데이터 불러오기]"
      ]
    },
    {
      "cell_type": "code",
      "execution_count": 42,
      "id": "91b1b2e2",
      "metadata": {
        "id": "91b1b2e2"
      },
      "outputs": [],
      "source": [
        "TEXT = Field(\n",
        "    sequential=True,\n",
        "    use_vocab=True,\n",
        "    tokenize=word_tokenize,\n",
        "    lower=True,\n",
        "    batch_first=True,\n",
        ")\n",
        "LABEL = Field(\n",
        "    sequential=False,\n",
        "    use_vocab=False,\n",
        "    batch_first=True,\n",
        ")\n",
        "cola_train_data, cola_valid_data, cola_test_data = \\\n",
        "    TabularDataset.splits(\n",
        "        path=DATA_PATH,\n",
        "        train=\"cola_train.tsv\", # 1\n",
        "        validation=\"cola_valid.tsv\",\n",
        "        test=\"cola_test.tsv\",\n",
        "        format=\"tsv\",\n",
        "        fields=[(\"text\", TEXT), (\"label\", LABEL)],\n",
        "        skip_header=1,\n",
        ")\n",
        "TEXT.build_vocab(cola_train_data, min_freq=2) # 2\n",
        "cola_train_iterator, cola_valid_iterator, cola_test_iterator = \\\n",
        "    BucketIterator.splits(\n",
        "        (cola_train_data, cola_valid_data, cola_test_data),\n",
        "        batch_size=32,\n",
        "        device=None,\n",
        "        sort=False,\n",
        ")"
      ]
    },
    {
      "cell_type": "markdown",
      "source": [
        "1. CoLA 데이터의 파일명을 입력\n",
        "2. 사전 학습을 할 때 중요한 점은 사전 학습 때 이용한 모델의 단어장을 유지하는 것. 예를 들어서 A 모델에서 Hi라는 단어는 1번 토큰인데 B 모델에서는 2번 토큰이라면 같은 단어지만 토큰이 달라지기에 모델의 성능이 보장되지 않음. 그러면 사전 학습을 한 의미가 없어지게 됨. 그래서 CoLA 데이터로 만든 단어장을 계속 사용함."
      ],
      "metadata": {
        "id": "npLIZ3PZaTFu"
      },
      "id": "npLIZ3PZaTFu"
    },
    {
      "cell_type": "markdown",
      "source": [
        ""
      ],
      "metadata": {
        "id": "tzu-JIxiarjR"
      },
      "id": "tzu-JIxiarjR"
    },
    {
      "cell_type": "markdown",
      "source": [
        "### [추가 학습 데이터 불러오기]"
      ],
      "metadata": {
        "id": "9s81sX4park5"
      },
      "id": "9s81sX4park5"
    },
    {
      "cell_type": "code",
      "execution_count": 43,
      "id": "6243589e",
      "metadata": {
        "id": "6243589e"
      },
      "outputs": [],
      "source": [
        "sat_train_data, sat_valid_data, sat_test_data = \\\n",
        "    TabularDataset.splits(\n",
        "        path=\"/content/drive/MyDrive/GitHub/MachineLearning/PythorchDeepLearningProject/딥러닝을 이용한 수능 영어 풀기/data/processed\",\n",
        "        train=\"sat_train.tsv\",\n",
        "        validation=\"sat_valid.tsv\",\n",
        "        test=\"sat_test.tsv\",\n",
        "        format=\"tsv\",\n",
        "        # CoLA 데이터에서 만든 Field를 이용함\n",
        "        fields=[(\"text\", TEXT), (\"label\", LABEL)],\n",
        "        skip_header=1,\n",
        "    )\n",
        "sat_train_iterator, sat_valid_iterator, sat_test_iterator = \\\n",
        "    BucketIterator.splits(\n",
        "        (sat_train_data, sat_valid_data, sat_test_data),\n",
        "        batch_size=8,\n",
        "        device=None,\n",
        "        sort=False,\n",
        "    )"
      ]
    },
    {
      "cell_type": "markdown",
      "source": [
        "### [모델 사전 학습]"
      ],
      "metadata": {
        "id": "dsIN9JYTa4it"
      },
      "id": "dsIN9JYTa4it"
    },
    {
      "cell_type": "code",
      "source": [
        "import copy"
      ],
      "metadata": {
        "id": "4XtxL5v4bHZX"
      },
      "id": "4XtxL5v4bHZX",
      "execution_count": 44,
      "outputs": []
    },
    {
      "cell_type": "code",
      "source": [
        "PAD_IDX = TEXT.vocab.stoi[TEXT.pad_token]\n",
        "N_EPOCHS = 20\n",
        "\n",
        "lstm_classifier = LSTMClassifier(\n",
        "    num_embeddings=len(TEXT.vocab),\n",
        "    embedding_dim=100,\n",
        "    hidden_size=200,\n",
        "    num_layers=4,\n",
        "    pad_idx=PAD_IDX,\n",
        ")\n",
        "if torch.cuda.is_available():\n",
        "    device = \"cuda:0\"\n",
        "else:\n",
        "    device = \"cpu\"\n",
        "_ = lstm_classifier.to(device)\n",
        "\n",
        "optimizer = torch.optim.Adam(lstm_classifier.parameters())\n",
        "bce_loss_fn = nn.BCELoss()\n",
        "\n",
        "for epoch in range(N_EPOCHS):\n",
        "    train_loss = train(\n",
        "        lstm_classifier,\n",
        "        cola_train_iterator, # 1\n",
        "        optimizer,\n",
        "        bce_loss_fn,\n",
        "        device = device\n",
        "    )\n",
        "    valid_loss = evaluate(\n",
        "        lstm_classifier,\n",
        "        cola_valid_iterator,\n",
        "        optimizer,\n",
        "        criterion = bce_loss_fn,\n",
        "        device = device\n",
        "    )\n",
        "    print(f\"Epoch: {epoch+1:02}\")\n",
        "    print(f\"\\tTrain Loss: {train_loss:.5f}\")\n",
        "    print(f\"\\t Val. Loss: {valid_loss:.5f}\")\n",
        "    \n",
        "before_tuning_lstm_classifier = copy.deepcopy(lstm_classifier) # 2"
      ],
      "metadata": {
        "colab": {
          "base_uri": "https://localhost:8080/"
        },
        "id": "-_A37zrMZC9q",
        "outputId": "e7c3d953-e2de-403c-aedd-e820618c43a7"
      },
      "id": "-_A37zrMZC9q",
      "execution_count": 45,
      "outputs": [
        {
          "output_type": "stream",
          "name": "stdout",
          "text": [
            "Epoch: 01\n",
            "\tTrain Loss: 0.61746\n",
            "\t Val. Loss: 0.61655\n",
            "Epoch: 02\n",
            "\tTrain Loss: 0.60973\n",
            "\t Val. Loss: 0.61895\n",
            "Epoch: 03\n",
            "\tTrain Loss: 0.61121\n",
            "\t Val. Loss: 0.61763\n",
            "Epoch: 04\n",
            "\tTrain Loss: 0.61313\n",
            "\t Val. Loss: 0.61741\n",
            "Epoch: 05\n",
            "\tTrain Loss: 0.61068\n",
            "\t Val. Loss: 0.61721\n",
            "Epoch: 06\n",
            "\tTrain Loss: 0.60957\n",
            "\t Val. Loss: 0.61823\n",
            "Epoch: 07\n",
            "\tTrain Loss: 0.60979\n",
            "\t Val. Loss: 0.61789\n",
            "Epoch: 08\n",
            "\tTrain Loss: 0.60860\n",
            "\t Val. Loss: 1.13145\n",
            "Epoch: 09\n",
            "\tTrain Loss: 0.66196\n",
            "\t Val. Loss: 0.61916\n",
            "Epoch: 10\n",
            "\tTrain Loss: 0.60897\n",
            "\t Val. Loss: 0.61793\n",
            "Epoch: 11\n",
            "\tTrain Loss: 0.60954\n",
            "\t Val. Loss: 0.61798\n",
            "Epoch: 12\n",
            "\tTrain Loss: 0.60748\n",
            "\t Val. Loss: 0.62458\n",
            "Epoch: 13\n",
            "\tTrain Loss: 0.60966\n",
            "\t Val. Loss: 0.61862\n",
            "Epoch: 14\n",
            "\tTrain Loss: 0.60858\n",
            "\t Val. Loss: 0.61818\n",
            "Epoch: 15\n",
            "\tTrain Loss: 0.60917\n",
            "\t Val. Loss: 0.61784\n",
            "Epoch: 16\n",
            "\tTrain Loss: 0.60822\n",
            "\t Val. Loss: 0.62398\n",
            "Epoch: 17\n",
            "\tTrain Loss: 0.60888\n",
            "\t Val. Loss: 0.61784\n",
            "Epoch: 18\n",
            "\tTrain Loss: 0.60896\n",
            "\t Val. Loss: 0.61762\n",
            "Epoch: 19\n",
            "\tTrain Loss: 0.60826\n",
            "\t Val. Loss: 0.61785\n",
            "Epoch: 20\n",
            "\tTrain Loss: 0.60798\n",
            "\t Val. Loss: 0.61769\n"
          ]
        }
      ]
    },
    {
      "cell_type": "markdown",
      "source": [
        "1. 우선 CoLA 데이터를 이용해 모델을 학습시킴\n",
        "2. 사전 학습한 모델과 추가 학습한 모델의 성능을 비교하기 뒤해 사전 학습한 모델을 따로 저장함"
      ],
      "metadata": {
        "id": "X3nh1pvDbSaW"
      },
      "id": "X3nh1pvDbSaW"
    },
    {
      "cell_type": "markdown",
      "source": [
        "### [모델 추가 학습]"
      ],
      "metadata": {
        "id": "ged2I2lpjuD4"
      },
      "id": "ged2I2lpjuD4"
    },
    {
      "cell_type": "code",
      "source": [
        "PAD_IDX = TEXT.vocab.stoi[TEXT.pad_token]\n",
        "N_EPOCHS = 20\n",
        "\n",
        "for epoch in range(N_EPOCHS):\n",
        "    train_loss = train(\n",
        "        lstm_classifier,\n",
        "        sat_train_iterator, # 1\n",
        "        optimizer,\n",
        "        bce_loss_fn,\n",
        "        device = device\n",
        "    )\n",
        "    valid_loss = evaluate(\n",
        "        lstm_classifier,\n",
        "        sat_valid_iterator,\n",
        "        optimizer,\n",
        "        criterion = bce_loss_fn,\n",
        "        device = device\n",
        "    )\n",
        "    print(f\"Epoch: {epoch+1:02}\")\n",
        "    print(f\"\\tTrain Loss: {train_loss:.5f}\")\n",
        "    print(f\"\\t Val. Loss: {valid_loss:.5f}\")"
      ],
      "metadata": {
        "colab": {
          "base_uri": "https://localhost:8080/"
        },
        "id": "fiMQ-esNbKvD",
        "outputId": "02a240c2-0459-41eb-becd-c302ec0a779b"
      },
      "id": "fiMQ-esNbKvD",
      "execution_count": 46,
      "outputs": [
        {
          "output_type": "stream",
          "name": "stdout",
          "text": [
            "Epoch: 01\n",
            "\tTrain Loss: 0.48008\n",
            "\t Val. Loss: 0.54234\n",
            "Epoch: 02\n",
            "\tTrain Loss: 0.42457\n",
            "\t Val. Loss: 0.54918\n",
            "Epoch: 03\n",
            "\tTrain Loss: 0.43765\n",
            "\t Val. Loss: 0.57004\n",
            "Epoch: 04\n",
            "\tTrain Loss: 0.42127\n",
            "\t Val. Loss: 0.55709\n",
            "Epoch: 05\n",
            "\tTrain Loss: 0.43061\n",
            "\t Val. Loss: 0.54731\n",
            "Epoch: 06\n",
            "\tTrain Loss: 0.42019\n",
            "\t Val. Loss: 0.54505\n",
            "Epoch: 07\n",
            "\tTrain Loss: 0.42279\n",
            "\t Val. Loss: 0.55209\n",
            "Epoch: 08\n",
            "\tTrain Loss: 0.41821\n",
            "\t Val. Loss: 0.53325\n",
            "Epoch: 09\n",
            "\tTrain Loss: 0.41011\n",
            "\t Val. Loss: 0.53175\n",
            "Epoch: 10\n",
            "\tTrain Loss: 0.43449\n",
            "\t Val. Loss: 0.52914\n",
            "Epoch: 11\n",
            "\tTrain Loss: 0.41807\n",
            "\t Val. Loss: 0.53971\n",
            "Epoch: 12\n",
            "\tTrain Loss: 0.43889\n",
            "\t Val. Loss: 0.53872\n",
            "Epoch: 13\n",
            "\tTrain Loss: 0.43417\n",
            "\t Val. Loss: 0.54313\n",
            "Epoch: 14\n",
            "\tTrain Loss: 0.43446\n",
            "\t Val. Loss: 0.55600\n",
            "Epoch: 15\n",
            "\tTrain Loss: 0.41754\n",
            "\t Val. Loss: 0.55470\n",
            "Epoch: 16\n",
            "\tTrain Loss: 0.41708\n",
            "\t Val. Loss: 0.53066\n",
            "Epoch: 17\n",
            "\tTrain Loss: 0.42023\n",
            "\t Val. Loss: 0.52184\n",
            "Epoch: 18\n",
            "\tTrain Loss: 0.41415\n",
            "\t Val. Loss: 0.52925\n",
            "Epoch: 19\n",
            "\tTrain Loss: 0.41509\n",
            "\t Val. Loss: 0.52434\n",
            "Epoch: 20\n",
            "\tTrain Loss: 0.42287\n",
            "\t Val. Loss: 0.52351\n"
          ]
        }
      ]
    },
    {
      "cell_type": "markdown",
      "source": [
        "1. 수능 데이터를 이용해 다시 모델을 학습 시킴"
      ],
      "metadata": {
        "id": "R69u05_Oj5kP"
      },
      "id": "R69u05_Oj5kP"
    },
    {
      "cell_type": "markdown",
      "source": [
        "### [모델 성능 비교]"
      ],
      "metadata": {
        "id": "amyYXl2pkHao"
      },
      "id": "amyYXl2pkHao"
    },
    {
      "cell_type": "code",
      "source": [
        "_ = before_tuning_lstm_classifier.cpu()\n",
        "lstm_sat_test_auroc = test(\n",
        "    before_tuning_lstm_classifier, sat_test_iterator, \"cpu\"\n",
        ")\n",
        "_ = lstm_classifier.cpu()\n",
        "lstm_turned_test_auroc = test(\n",
        "    lstm_classifier, sat_test_iterator, \"cpu\"\n",
        ")\n",
        "print(f\"Before fine-tuning SAT Dataset Test AuROC: {lstm_sat_test_auroc:.5f}\")\n",
        "print(f\"After fine-tuning SAT Dataset Test AuROC: {lstm_turned_test_auroc:.5f}\")"
      ],
      "metadata": {
        "colab": {
          "base_uri": "https://localhost:8080/"
        },
        "id": "NoR34sslj9nI",
        "outputId": "ed90e774-7453-4376-a686-2f6bff070b79"
      },
      "id": "NoR34sslj9nI",
      "execution_count": 50,
      "outputs": [
        {
          "output_type": "stream",
          "name": "stdout",
          "text": [
            "Before fine-tuning SAT Dataset Test AuROC: 0.50000\n",
            "After fine-tuning SAT Dataset Test AuROC: 0.80769\n"
          ]
        }
      ]
    },
    {
      "cell_type": "markdown",
      "source": [
        "좀... 결과가 이상함 책과 같이 before, after 비슷하게 나와야 하는데(모델이 충분히 데이터를 학습하지 못했기 때문) before은 정확히 0.5고 전이학습후 점수가 너무 좋음"
      ],
      "metadata": {
        "id": "i69IaxSIlmpY"
      },
      "id": "i69IaxSIlmpY"
    },
    {
      "cell_type": "markdown",
      "source": [
        "### [모델 저장]"
      ],
      "metadata": {
        "id": "vrnrJX43knCo"
      },
      "id": "vrnrJX43knCo"
    },
    {
      "cell_type": "code",
      "source": [
        "with open(\"before_tuning_model.dill\", \"wb\") as f:\n",
        "    model = {\n",
        "        \"TEXT\": TEXT,\n",
        "        \"LABEL\": LABEL,\n",
        "        \"classifier\": before_tuning_lstm_classifier\n",
        "    }\n",
        "    dill.dump(model, f)\n",
        "    \n",
        "_ = lstm_classifier.cpu()\n",
        "with open(\"after_tuning_model.dill\", \"wb\") as f:\n",
        "    model = {\n",
        "        \"TEXT\": TEXT,\n",
        "        \"LABEL\": LABEL,\n",
        "        \"classifier\": lstm_classifier\n",
        "    }\n",
        "    dill.dump(model, f)"
      ],
      "metadata": {
        "id": "fKnFCy1NkOsh"
      },
      "id": "fKnFCy1NkOsh",
      "execution_count": 48,
      "outputs": []
    },
    {
      "cell_type": "markdown",
      "source": [
        "## > 심화 모델 < "
      ],
      "metadata": {
        "id": "TgpVzL-7nfoK"
      },
      "id": "TgpVzL-7nfoK"
    },
    {
      "cell_type": "markdown",
      "source": [
        "앞서 사용했던 모델은 LSTM의 가장 마지막 결과만 이용했음. LSTM은 앞에 있던 정보를 뒤로 전달할 수 있기 때문에 이전 단어의 결과도 이용할 수 있음. 하지만 LSTM구조상 앞선 정보를 저장한다 해도 계속해서 뒤로 넘어가는 과정에서 정보의 손실이 일어남  \n",
        "\n",
        "그러면 마지막 결과 만이 아닌 LSTM 전체 결과를 이용하는 것은 어떨까?  \n",
        "![image.png](data:image/png;base64,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)  \n",
        "그림은 LSTM의 전체 결과를 이용하는 모델인데. LSTM의 전체 겨로가를 사용하려면 문장의 길이를 고정해야함. 왜냐하면 Fully Connected Layer는 고정된 크기의 Input만 처리할 수 있기 때문임. 그러면 짧은 문장은 무의미한 Padding을 가지며 긴 문장은 뒷부분의 정보를 잃게 됨.  \n",
        "이러한 문제를 해결하기 위해서 Max Pooling을 통해 가장 유의미한 결과만을 추출함. 그리고 유의미한 결과만 Fully Connected Layer에 통과 시켜 분류하도록 함"
      ],
      "metadata": {
        "id": "o1WCa1cwp8mZ"
      },
      "id": "o1WCa1cwp8mZ"
    },
    {
      "cell_type": "markdown",
      "source": [
        "### [모델 정의]"
      ],
      "metadata": {
        "id": "mSq2XL9w3Plm"
      },
      "id": "mSq2XL9w3Plm"
    },
    {
      "cell_type": "code",
      "source": [
        "class LSTMPoolingClassifier(nn.Module):\n",
        "    def __init__(self, num_embeddings, embedding_dim, hidden_size, num_layers, pad_idx):\n",
        "        super().__init__()\n",
        "        self.embed_layer = nn.Embedding(\n",
        "            num_embeddings=num_embeddings,\n",
        "            embedding_dim=embedding_dim,\n",
        "            padding_idx=pad_idx\n",
        "        )\n",
        "        self.lstm_layer = nn.LSTM(\n",
        "            input_size=embedding_dim,\n",
        "            hidden_size=hidden_size,\n",
        "            num_layers=num_layers,\n",
        "            bidirectional=True,\n",
        "            dropout=0.5,\n",
        "            batch_first=True\n",
        "        )\n",
        "        self.last_layer = nn.Sequential(\n",
        "            nn.Linear(2 * hidden_size, 1),\n",
        "            nn.Dropout(p=0.5),\n",
        "            nn.Sigmoid()\n",
        "        )\n",
        "        \n",
        "    def forward(self, x):\n",
        "        x = self.embed_layer(x) # 1\n",
        "        output, _ = self.lstm_layer(x) # 2\n",
        "        pool = nn.functional.max_pool1d(output.transpose(1, 2), x.shape[1]) # 3\n",
        "        pool = pool.transpose(1, 2).squeeze() # 4\n",
        "        output = self.last_layer(pool) # 5\n",
        "        return output.squeeze()"
      ],
      "metadata": {
        "id": "WU48R8XKkq1Y"
      },
      "id": "WU48R8XKkq1Y",
      "execution_count": 49,
      "outputs": []
    },
    {
      "cell_type": "markdown",
      "source": [
        "1. Token으로 들어온 데이터를 Embedding하여 값으로 변환\n",
        "2. 변환된 값을 LSTM에 넣음\n",
        "3. LSTM의 결과를 Max Pooling해줌.\n",
        "4. Max Pooling 결과를 Fully Connected Layer에 넣기 위해 Shape를 맞춤\n",
        "5. Fully Connected Layer에 넣어서 결과를 반환"
      ],
      "metadata": {
        "id": "o2IIaiKLvRgj"
      },
      "id": "o2IIaiKLvRgj"
    },
    {
      "cell_type": "markdown",
      "source": [
        "### [모델 사전 학습]"
      ],
      "metadata": {
        "id": "Mbh3ugFm3See"
      },
      "id": "Mbh3ugFm3See"
    },
    {
      "cell_type": "code",
      "source": [
        "PAD_IDX = TEXT.vocab.stoi[TEXT.pad_token]\n",
        "N_EPOCHS = 5\n",
        "\n",
        "lstm_pool_classifier = LSTMPoolingClassifier(\n",
        "    num_embeddings=len(TEXT.vocab),\n",
        "    embedding_dim=100,\n",
        "    hidden_size=200,\n",
        "    num_layers=4,\n",
        "    pad_idx=PAD_IDX,\n",
        ")\n",
        "if torch.cuda.is_available():\n",
        "    device = \"cuda:0\"\n",
        "else:\n",
        "    device = \"cpu\"\n",
        "_ = lstm_classifier.to(device)\n",
        "\n",
        "optimizer = torch.optim.Adam(lstm_pool_classifier.parameters())\n",
        "bce_loss_fn = nn.BCELoss()\n",
        "\n",
        "for epoch in range(N_EPOCHS):\n",
        "    train_loss = train(\n",
        "        lstm_pool_classifier,\n",
        "        cola_train_iterator, # 1\n",
        "        optimizer,\n",
        "        bce_loss_fn,\n",
        "        device = device\n",
        "    )\n",
        "    valid_loss = evaluate(\n",
        "        lstm_pool_classifier,\n",
        "        cola_valid_iterator,\n",
        "        optimizer,\n",
        "        bce_loss_fn,\n",
        "        device = device\n",
        "    )\n",
        "    print(f\"Epoch: {epoch+1:02}\")\n",
        "    print(f\"\\tTrain Loss: {train_loss:.5f}\")\n",
        "    print(f\"\\t Val. Loss: {valid_loss:.5f}\")\n",
        "    \n",
        "before_tuning_lstm_pool_classifier = copy.deepcopy(lstm_pool_classifier) # 2"
      ],
      "metadata": {
        "colab": {
          "base_uri": "https://localhost:8080/"
        },
        "id": "sG73g05-vQye",
        "outputId": "62597ca3-70b6-4a91-e641-80900f4b6115"
      },
      "id": "sG73g05-vQye",
      "execution_count": 54,
      "outputs": [
        {
          "output_type": "stream",
          "name": "stdout",
          "text": [
            "Epoch: 01\n",
            "\tTrain Loss: 0.65311\n",
            "\t Val. Loss: 0.63526\n",
            "Epoch: 02\n",
            "\tTrain Loss: 0.64995\n",
            "\t Val. Loss: 0.63394\n",
            "Epoch: 03\n",
            "\tTrain Loss: 0.64476\n",
            "\t Val. Loss: 0.61933\n",
            "Epoch: 04\n",
            "\tTrain Loss: 0.63588\n",
            "\t Val. Loss: 0.62962\n",
            "Epoch: 05\n",
            "\tTrain Loss: 0.62622\n",
            "\t Val. Loss: 0.64526\n"
          ]
        }
      ]
    },
    {
      "cell_type": "markdown",
      "source": [
        "1. 모델을 CoLA 데이터를 이용해 학습시킴\n",
        "2. 성능 비교를 위해 모델을 따로 저장"
      ],
      "metadata": {
        "id": "kkubKBCj2YVc"
      },
      "id": "kkubKBCj2YVc"
    },
    {
      "cell_type": "markdown",
      "source": [
        "### [모델 추가 학습]"
      ],
      "metadata": {
        "id": "L-etzlx_2q0S"
      },
      "id": "L-etzlx_2q0S"
    },
    {
      "cell_type": "code",
      "source": [
        "PAD_IDX = TEXT.vocab.stoi[TEXT.pad_token]\n",
        "N_EPOCHS = 20\n",
        "\n",
        "for epoch in range(N_EPOCHS):\n",
        "    train_loss = train(\n",
        "        lstm_pool_classifier, # 1\n",
        "        sat_train_iterator,  # 2\n",
        "        optimizer,\n",
        "        bce_loss_fn,\n",
        "        device = device\n",
        "    )\n",
        "    valid_loss = evaluate(\n",
        "        lstm_pool_classifier,\n",
        "        sat_valid_iterator,\n",
        "        optimizer,\n",
        "        criterion = bce_loss_fn,\n",
        "        device = device\n",
        "    )\n",
        "    print(f\"Epoch: {epoch+1:02}\")\n",
        "    print(f\"\\tTrain Loss: {train_loss:.5f}\")\n",
        "    print(f\"\\t Val. Loss: {valid_loss:.5f}\")"
      ],
      "metadata": {
        "colab": {
          "base_uri": "https://localhost:8080/"
        },
        "id": "9aovhdkT2v09",
        "outputId": "afa79c02-7c06-4690-cdd4-e7db1f7ba5b8"
      },
      "id": "9aovhdkT2v09",
      "execution_count": 56,
      "outputs": [
        {
          "output_type": "stream",
          "name": "stdout",
          "text": [
            "Epoch: 01\n",
            "\tTrain Loss: 0.52045\n",
            "\t Val. Loss: 0.97347\n",
            "Epoch: 02\n",
            "\tTrain Loss: 0.57219\n",
            "\t Val. Loss: 0.68110\n",
            "Epoch: 03\n",
            "\tTrain Loss: 0.50925\n",
            "\t Val. Loss: 0.55846\n",
            "Epoch: 04\n",
            "\tTrain Loss: 0.49125\n",
            "\t Val. Loss: 0.58697\n",
            "Epoch: 05\n",
            "\tTrain Loss: 0.47125\n",
            "\t Val. Loss: 0.60643\n",
            "Epoch: 06\n",
            "\tTrain Loss: 0.54872\n",
            "\t Val. Loss: 0.64211\n",
            "Epoch: 07\n",
            "\tTrain Loss: 0.53455\n",
            "\t Val. Loss: 0.60383\n",
            "Epoch: 08\n",
            "\tTrain Loss: 0.49043\n",
            "\t Val. Loss: 0.63658\n",
            "Epoch: 09\n",
            "\tTrain Loss: 0.52246\n",
            "\t Val. Loss: 0.63095\n",
            "Epoch: 10\n",
            "\tTrain Loss: 0.47126\n",
            "\t Val. Loss: 0.64552\n",
            "Epoch: 11\n",
            "\tTrain Loss: 0.58202\n",
            "\t Val. Loss: 0.62108\n",
            "Epoch: 12\n",
            "\tTrain Loss: 0.48384\n",
            "\t Val. Loss: 0.64862\n",
            "Epoch: 13\n",
            "\tTrain Loss: 0.60374\n",
            "\t Val. Loss: 0.62372\n",
            "Epoch: 14\n",
            "\tTrain Loss: 0.52191\n",
            "\t Val. Loss: 0.57076\n",
            "Epoch: 15\n",
            "\tTrain Loss: 0.49960\n",
            "\t Val. Loss: 0.64068\n",
            "Epoch: 16\n",
            "\tTrain Loss: 0.60247\n",
            "\t Val. Loss: 0.61487\n",
            "Epoch: 17\n",
            "\tTrain Loss: 0.45049\n",
            "\t Val. Loss: 0.67486\n",
            "Epoch: 18\n",
            "\tTrain Loss: 0.48031\n",
            "\t Val. Loss: 0.70072\n",
            "Epoch: 19\n",
            "\tTrain Loss: 0.52855\n",
            "\t Val. Loss: 0.73142\n",
            "Epoch: 20\n",
            "\tTrain Loss: 0.48734\n",
            "\t Val. Loss: 0.69800\n"
          ]
        }
      ]
    },
    {
      "cell_type": "markdown",
      "source": [
        "1. 앞서 학습한 모델을 입력함.\n",
        "2. 데이터는 수능 데이터를 이용함."
      ],
      "metadata": {
        "id": "EI__yCHY355J"
      },
      "id": "EI__yCHY355J"
    },
    {
      "cell_type": "markdown",
      "source": [
        "### [성능 비교]"
      ],
      "metadata": {
        "id": "_5d4uq4N4CJC"
      },
      "id": "_5d4uq4N4CJC"
    },
    {
      "cell_type": "code",
      "source": [
        "_ = before_tuning_lstm_pool_classifier.cpu()\n",
        "_ = lstm_pool_classifier.cpu()\n",
        "pool_sat_test_auroc = test(\n",
        "    before_tuning_lstm_pool_classifier, sat_test_iterator, \"cpu\"\n",
        ")\n",
        "pool_turned_test_auroc = test(\n",
        "    lstm_pool_classifier, sat_test_iterator, \"cpu\"\n",
        ")\n",
        "print(f\"Before fine-tuning SAT Dataset Test AuROC: {pool_sat_test_auroc:.5f}\")\n",
        "print(f\"After fine-tuning SAT Dataset Test AuROC: {pool_turned_test_auroc:.5f}\")"
      ],
      "metadata": {
        "colab": {
          "base_uri": "https://localhost:8080/"
        },
        "id": "9U9gS7Ea4g_G",
        "outputId": "69db7cbb-b694-4886-bdd7-920c450ef98c"
      },
      "id": "9U9gS7Ea4g_G",
      "execution_count": 57,
      "outputs": [
        {
          "output_type": "stream",
          "name": "stdout",
          "text": [
            "Before fine-tuning SAT Dataset Test AuROC: 0.42308\n",
            "After fine-tuning SAT Dataset Test AuROC: 0.30769\n"
          ]
        }
      ]
    },
    {
      "cell_type": "markdown",
      "source": [
        "음..... 잘 모르겠다.."
      ],
      "metadata": {
        "id": "W_JrnMhhIIH_"
      },
      "id": "W_JrnMhhIIH_"
    },
    {
      "cell_type": "markdown",
      "source": [
        "### [모델 저장]"
      ],
      "metadata": {
        "id": "7G78Jprt4jPX"
      },
      "id": "7G78Jprt4jPX"
    },
    {
      "cell_type": "code",
      "source": [
        "with open(\"advanced_before_tuning_model.dill\", \"wb\") as f:\n",
        "    model = {\n",
        "        \"TEXT\": TEXT,\n",
        "        \"LABEL\": LABEL,\n",
        "        \"classifier\": before_tuning_lstm_pool_classifier\n",
        "    }\n",
        "    dill.dump(model, f)\n",
        "    \n",
        "_ = lstm_classifier.cpu()\n",
        "with open(\"advanced_after_tuning_model.dill\", \"wb\") as f:\n",
        "    model = {\n",
        "        \"TEXT\": TEXT,\n",
        "        \"LABEL\": LABEL,\n",
        "        \"classifier\": lstm_pool_classifier\n",
        "    }\n",
        "    dill.dump(model, f)"
      ],
      "metadata": {
        "id": "U1xtrodN4lvb"
      },
      "id": "U1xtrodN4lvb",
      "execution_count": 58,
      "outputs": []
    },
    {
      "cell_type": "markdown",
      "source": [
        "# 데모"
      ],
      "metadata": {
        "id": "3zQzBiRp5AY-"
      },
      "id": "3zQzBiRp5AY-"
    },
    {
      "cell_type": "markdown",
      "source": [
        "### [성능 비교 함수 정의]"
      ],
      "metadata": {
        "id": "ldKuqFOO5DN5"
      },
      "id": "ldKuqFOO5DN5"
    },
    {
      "cell_type": "code",
      "source": [
        "def test(model_path):\n",
        "    with open(model_path, \"rb\") as f: # 1\n",
        "        model = dill.load(f)\n",
        "        \n",
        "    sat_test_data = TabularDataset( # 2\n",
        "        path=f\"{DATA_PATH}/sat_test.tsv\",\n",
        "        format=\"tsv\",\n",
        "        fields=[ # 3\n",
        "            (\"text\", model[\"TEXT\"]),\n",
        "            (\"label\", model[\"LABEL\"])\n",
        "        ],\n",
        "        skip_header=1\n",
        "    )\n",
        "    \n",
        "    sat_test_iterator= BucketIterator( # 4\n",
        "        sat_test_data,\n",
        "        batch_size=8,\n",
        "        device=None,\n",
        "        sort=False,\n",
        "        shuffle=False\n",
        "    )\n",
        "    classifier = model[\"classifier\"] # 5\n",
        "    \n",
        "    with torch.no_grad():\n",
        "        y_real = []\n",
        "        y_pred = []\n",
        "        classifier.eval()\n",
        "        for batch in sat_test_iterator:\n",
        "            text = batch.text\n",
        "            label = batch.label.type(torch.FloatTensor)\n",
        "            \n",
        "            output = classifier(text).flatten().cpu()\n",
        "            \n",
        "            y_real += [label]\n",
        "            y_pred += [output]\n",
        "            \n",
        "        y_real = torch.cat(y_real)\n",
        "        y_pred = torch.cat(y_pred)\n",
        "        \n",
        "    fpr, tpr, _ = roc_curve(y_real, y_pred)\n",
        "    auroc = auc(fpr, tpr)\n",
        "    \n",
        "    return auroc.round(5)"
      ],
      "metadata": {
        "id": "b_JVpJmS5MbA"
      },
      "id": "b_JVpJmS5MbA",
      "execution_count": 59,
      "outputs": []
    },
    {
      "cell_type": "markdown",
      "source": [
        "1. 주어진 파일 이름으로 저장한 모델을 불러옴.\n",
        "2. 수능 Test 데이터셋을 불러옴. 앞에서 Train, Validation, Test를 부를 때와는 달리 Test만을 불러옴. 이때는 path에 폴더 결로 대신 불러올 파일명을 입력\n",
        "3. Field는 각 모델별로 정의한 Field를 사용.\n",
        "4. 불러온 데이터로 Data Loader를 생성함.\n",
        "5. 저장한 모델을 불러옴"
      ],
      "metadata": {
        "id": "IdbUi8bq5c-p"
      },
      "id": "IdbUi8bq5c-p"
    },
    {
      "cell_type": "markdown",
      "source": [
        "### [성능 비교]"
      ],
      "metadata": {
        "id": "3RleyCUZ7Qfn"
      },
      "id": "3RleyCUZ7Qfn"
    },
    {
      "cell_type": "code",
      "source": [
        "model_list = [ # 1\n",
        "    \"baseline_model.dill\",\n",
        "    \"before_tuning_model.dill\",\n",
        "    \"after_tuning_model.dill\",\n",
        "    \"advanced_before_tuning_model.dill\",\n",
        "    \"advanced_after_tuning_model.dill\",\n",
        "]\n",
        "\n",
        "test_auroc = []\n",
        "for file_name in model_list:\n",
        "    model_name = file_name.replace(\".dill\", \"\") # 2\n",
        "    auroc = test(file_name) # 3\n",
        "    test_auroc += [(model_name, auroc)] # 4\n",
        "    \n",
        "test_auroc = sorted(test_auroc, key=lambda x: x[1], reverse=True) # 5\n",
        "for rank, (model_name, auroc) in enumerate(test_auroc):\n",
        "    print(f\"Rank {rank+1} - {model_name:30} - Test AUROC: {auroc:.5f}\")"
      ],
      "metadata": {
        "colab": {
          "base_uri": "https://localhost:8080/"
        },
        "id": "wx0KMje57xNz",
        "outputId": "dba6e3fd-2c2b-4a03-c562-572fc3165e91"
      },
      "id": "wx0KMje57xNz",
      "execution_count": 60,
      "outputs": [
        {
          "output_type": "stream",
          "name": "stdout",
          "text": [
            "Rank 1 - after_tuning_model             - Test AUROC: 0.80769\n",
            "Rank 2 - baseline_model                 - Test AUROC: 0.65385\n",
            "Rank 3 - before_tuning_model            - Test AUROC: 0.50000\n",
            "Rank 4 - advanced_before_tuning_model   - Test AUROC: 0.42308\n",
            "Rank 5 - advanced_after_tuning_model    - Test AUROC: 0.30769\n"
          ]
        }
      ]
    },
    {
      "cell_type": "markdown",
      "source": [
        "1. 모델들을 저장한 파일명.\n",
        "2. 파일 이름의 .dill 부분을 지우고 모델 이름으로  \n",
        "![image.png](data:image/png;base64,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)  \n",
        "원래 이렇게 나와야 함... 정확도가 왜 이렇게 하자가 있는지는... 잘 모르겠다.. 파이토치를 더 공부해보고 봐야 할듯"
      ],
      "metadata": {
        "id": "fe159Rm78BLv"
      },
      "id": "fe159Rm78BLv"
    },
    {
      "cell_type": "code",
      "source": [
        "def predict_problem(model_path, problem):\n",
        "    with open(model_path, \"rb\") as f:\n",
        "        model = dill.load(f)\n",
        "    TEXT = model[\"TEXT\"]\n",
        "    classifier = model[\"classifier\"]\n",
        "    \n",
        "    problem = list(\n",
        "        map(lambda x: x.replace(\"[\", \"\").replace(\"]\", \"\"), problem))\n",
        "    tokenized_sentences = [\n",
        "        word_tokenize(sentence) for sentence in problem\n",
        "    ]\n",
        "    sentences = []\n",
        "    for tokenized_sentence in tokenized_sentences:\n",
        "        sentences.append(\n",
        "        [TEXT.vocab.stoi[word] for word in tokenized_sentence])\n",
        "        \n",
        "    with torch.no_grad():\n",
        "        classifier.eval()\n",
        "        predict = []\n",
        "        for sentence in sentences:\n",
        "            sentence = torch.LongTensor([sentence])\n",
        "            predict += [classifier(sentence).item()]\n",
        "    return predict"
      ],
      "metadata": {
        "id": "xfeSnaN-PBC0"
      },
      "id": "xfeSnaN-PBC0",
      "execution_count": 61,
      "outputs": []
    },
    {
      "cell_type": "code",
      "source": [
        "import pandas as pd"
      ],
      "metadata": {
        "id": "nnv2mlJYSDQ9"
      },
      "id": "nnv2mlJYSDQ9",
      "execution_count": 63,
      "outputs": []
    },
    {
      "cell_type": "code",
      "source": [
        "def predict_problem_with_models(model_list, problem):\n",
        "    scores = {}\n",
        "    for file_name in model_list:\n",
        "        model_name = file_name.replace(\".dill\", \"\")\n",
        "        score = predict_problem(file_name, problem)\n",
        "        scores[model_name] = score\n",
        "        \n",
        "    score_df = pd.DataFrame(scores).T\n",
        "    score_df.colums = [f\"answer_{i}_score\" for i in range(1, 6)]\n",
        "    \n",
        "    selected_answer = pd.Series(\n",
        "        np.argmin(score_df.values, 1) + 1,\n",
        "        index=score_df.index,\n",
        "                name=\"selected_answer\")\n",
        "        \n",
        "    return pd.concat([selected_answer, score_df], 1)"
      ],
      "metadata": {
        "id": "a-D8ni69R9sr"
      },
      "id": "a-D8ni69R9sr",
      "execution_count": 64,
      "outputs": []
    },
    {
      "cell_type": "code",
      "source": [
        "problem_1 = [\n",
        "    \"Competitive activities can be more than just performance showcases which the best is recognized and the rest are overlooked.\",\n",
        "    \"The provision of timely, constructive feedback to participants on performance is an asset that some competitions and contests offer.\",\n",
        "    \"The provision of that type of feedback can be interpreted as shifting the emphasis to demonstrating superior performance but not necessarily excellence.\",\n",
        "    \"The emphasis on superiority is what we typically see as fostering a detrimental effect of competition.\",\n",
        "    \"Information about performance can be very helpful, not only to the participant who does not win or place but also to those who do.\",\n",
        "]\n",
        "problem_1_label = [0, 1, 1, 1, 1]"
      ],
      "metadata": {
        "id": "1x23AUxNR-w9"
      },
      "id": "1x23AUxNR-w9",
      "execution_count": 65,
      "outputs": []
    },
    {
      "cell_type": "code",
      "source": [
        "selected_answer = predict_problem_with_models(model_list, problem_1)\n",
        "selected_answer = selected_answer.loc[map(lambda x:x[0], test_auroc)]"
      ],
      "metadata": {
        "colab": {
          "base_uri": "https://localhost:8080/"
        },
        "id": "i1jhWRyxSIkw",
        "outputId": "208728ee-642e-4e3a-b66c-6e6938dc792c"
      },
      "id": "i1jhWRyxSIkw",
      "execution_count": 66,
      "outputs": [
        {
          "output_type": "stream",
          "name": "stderr",
          "text": [
            "/usr/local/lib/python3.7/dist-packages/ipykernel_launcher.py:9: UserWarning: Pandas doesn't allow columns to be created via a new attribute name - see https://pandas.pydata.org/pandas-docs/stable/indexing.html#attribute-access\n",
            "  if __name__ == '__main__':\n"
          ]
        }
      ]
    },
    {
      "cell_type": "code",
      "source": [
        "selected_answer"
      ],
      "metadata": {
        "colab": {
          "base_uri": "https://localhost:8080/",
          "height": 206
        },
        "id": "vFjJAao2SgV1",
        "outputId": "2a4b549f-be91-45cf-ffba-a8cb93c973ba"
      },
      "id": "vFjJAao2SgV1",
      "execution_count": 68,
      "outputs": [
        {
          "output_type": "execute_result",
          "data": {
            "text/html": [
              "\n",
              "  <div id=\"df-681de384-0273-4302-8d36-e8fbea4cb9b5\">\n",
              "    <div class=\"colab-df-container\">\n",
              "      <div>\n",
              "<style scoped>\n",
              "    .dataframe tbody tr th:only-of-type {\n",
              "        vertical-align: middle;\n",
              "    }\n",
              "\n",
              "    .dataframe tbody tr th {\n",
              "        vertical-align: top;\n",
              "    }\n",
              "\n",
              "    .dataframe thead th {\n",
              "        text-align: right;\n",
              "    }\n",
              "</style>\n",
              "<table border=\"1\" class=\"dataframe\">\n",
              "  <thead>\n",
              "    <tr style=\"text-align: right;\">\n",
              "      <th></th>\n",
              "      <th>selected_answer</th>\n",
              "      <th>0</th>\n",
              "      <th>1</th>\n",
              "      <th>2</th>\n",
              "      <th>3</th>\n",
              "      <th>4</th>\n",
              "    </tr>\n",
              "  </thead>\n",
              "  <tbody>\n",
              "    <tr>\n",
              "      <th>after_tuning_model</th>\n",
              "      <td>1</td>\n",
              "      <td>0.754075</td>\n",
              "      <td>0.754075</td>\n",
              "      <td>0.754075</td>\n",
              "      <td>0.754075</td>\n",
              "      <td>0.754075</td>\n",
              "    </tr>\n",
              "    <tr>\n",
              "      <th>baseline_model</th>\n",
              "      <td>1</td>\n",
              "      <td>0.720173</td>\n",
              "      <td>0.720173</td>\n",
              "      <td>0.720173</td>\n",
              "      <td>0.720173</td>\n",
              "      <td>0.720173</td>\n",
              "    </tr>\n",
              "    <tr>\n",
              "      <th>before_tuning_model</th>\n",
              "      <td>1</td>\n",
              "      <td>0.659765</td>\n",
              "      <td>0.659765</td>\n",
              "      <td>0.659765</td>\n",
              "      <td>0.659765</td>\n",
              "      <td>0.659765</td>\n",
              "    </tr>\n",
              "    <tr>\n",
              "      <th>advanced_before_tuning_model</th>\n",
              "      <td>5</td>\n",
              "      <td>0.667697</td>\n",
              "      <td>0.673392</td>\n",
              "      <td>0.674006</td>\n",
              "      <td>0.669728</td>\n",
              "      <td>0.657545</td>\n",
              "    </tr>\n",
              "    <tr>\n",
              "      <th>advanced_after_tuning_model</th>\n",
              "      <td>5</td>\n",
              "      <td>0.767129</td>\n",
              "      <td>0.767037</td>\n",
              "      <td>0.766921</td>\n",
              "      <td>0.767504</td>\n",
              "      <td>0.766793</td>\n",
              "    </tr>\n",
              "  </tbody>\n",
              "</table>\n",
              "</div>\n",
              "      <button class=\"colab-df-convert\" onclick=\"convertToInteractive('df-681de384-0273-4302-8d36-e8fbea4cb9b5')\"\n",
              "              title=\"Convert this dataframe to an interactive table.\"\n",
              "              style=\"display:none;\">\n",
              "        \n",
              "  <svg xmlns=\"http://www.w3.org/2000/svg\" height=\"24px\"viewBox=\"0 0 24 24\"\n",
              "       width=\"24px\">\n",
              "    <path d=\"M0 0h24v24H0V0z\" fill=\"none\"/>\n",
              "    <path d=\"M18.56 5.44l.94 2.06.94-2.06 2.06-.94-2.06-.94-.94-2.06-.94 2.06-2.06.94zm-11 1L8.5 8.5l.94-2.06 2.06-.94-2.06-.94L8.5 2.5l-.94 2.06-2.06.94zm10 10l.94 2.06.94-2.06 2.06-.94-2.06-.94-.94-2.06-.94 2.06-2.06.94z\"/><path d=\"M17.41 7.96l-1.37-1.37c-.4-.4-.92-.59-1.43-.59-.52 0-1.04.2-1.43.59L10.3 9.45l-7.72 7.72c-.78.78-.78 2.05 0 2.83L4 21.41c.39.39.9.59 1.41.59.51 0 1.02-.2 1.41-.59l7.78-7.78 2.81-2.81c.8-.78.8-2.07 0-2.86zM5.41 20L4 18.59l7.72-7.72 1.47 1.35L5.41 20z\"/>\n",
              "  </svg>\n",
              "      </button>\n",
              "      \n",
              "  <style>\n",
              "    .colab-df-container {\n",
              "      display:flex;\n",
              "      flex-wrap:wrap;\n",
              "      gap: 12px;\n",
              "    }\n",
              "\n",
              "    .colab-df-convert {\n",
              "      background-color: #E8F0FE;\n",
              "      border: none;\n",
              "      border-radius: 50%;\n",
              "      cursor: pointer;\n",
              "      display: none;\n",
              "      fill: #1967D2;\n",
              "      height: 32px;\n",
              "      padding: 0 0 0 0;\n",
              "      width: 32px;\n",
              "    }\n",
              "\n",
              "    .colab-df-convert:hover {\n",
              "      background-color: #E2EBFA;\n",
              "      box-shadow: 0px 1px 2px rgba(60, 64, 67, 0.3), 0px 1px 3px 1px rgba(60, 64, 67, 0.15);\n",
              "      fill: #174EA6;\n",
              "    }\n",
              "\n",
              "    [theme=dark] .colab-df-convert {\n",
              "      background-color: #3B4455;\n",
              "      fill: #D2E3FC;\n",
              "    }\n",
              "\n",
              "    [theme=dark] .colab-df-convert:hover {\n",
              "      background-color: #434B5C;\n",
              "      box-shadow: 0px 1px 3px 1px rgba(0, 0, 0, 0.15);\n",
              "      filter: drop-shadow(0px 1px 2px rgba(0, 0, 0, 0.3));\n",
              "      fill: #FFFFFF;\n",
              "    }\n",
              "  </style>\n",
              "\n",
              "      <script>\n",
              "        const buttonEl =\n",
              "          document.querySelector('#df-681de384-0273-4302-8d36-e8fbea4cb9b5 button.colab-df-convert');\n",
              "        buttonEl.style.display =\n",
              "          google.colab.kernel.accessAllowed ? 'block' : 'none';\n",
              "\n",
              "        async function convertToInteractive(key) {\n",
              "          const element = document.querySelector('#df-681de384-0273-4302-8d36-e8fbea4cb9b5');\n",
              "          const dataTable =\n",
              "            await google.colab.kernel.invokeFunction('convertToInteractive',\n",
              "                                                     [key], {});\n",
              "          if (!dataTable) return;\n",
              "\n",
              "          const docLinkHtml = 'Like what you see? Visit the ' +\n",
              "            '<a target=\"_blank\" href=https://colab.research.google.com/notebooks/data_table.ipynb>data table notebook</a>'\n",
              "            + ' to learn more about interactive tables.';\n",
              "          element.innerHTML = '';\n",
              "          dataTable['output_type'] = 'display_data';\n",
              "          await google.colab.output.renderOutput(dataTable, element);\n",
              "          const docLink = document.createElement('div');\n",
              "          docLink.innerHTML = docLinkHtml;\n",
              "          element.appendChild(docLink);\n",
              "        }\n",
              "      </script>\n",
              "    </div>\n",
              "  </div>\n",
              "  "
            ],
            "text/plain": [
              "                              selected_answer         0  ...         3         4\n",
              "after_tuning_model                          1  0.754075  ...  0.754075  0.754075\n",
              "baseline_model                              1  0.720173  ...  0.720173  0.720173\n",
              "before_tuning_model                         1  0.659765  ...  0.659765  0.659765\n",
              "advanced_before_tuning_model                5  0.667697  ...  0.669728  0.657545\n",
              "advanced_after_tuning_model                 5  0.767129  ...  0.767504  0.766793\n",
              "\n",
              "[5 rows x 6 columns]"
            ]
          },
          "metadata": {},
          "execution_count": 68
        }
      ]
    },
    {
      "cell_type": "code",
      "source": [
        "selected_answer"
      ],
      "metadata": {
        "colab": {
          "base_uri": "https://localhost:8080/",
          "height": 206
        },
        "id": "dUka69gESJ3r",
        "outputId": "5afdfde7-520a-4eb7-b7d4-7040083eb218"
      },
      "id": "dUka69gESJ3r",
      "execution_count": 67,
      "outputs": [
        {
          "output_type": "execute_result",
          "data": {
            "text/html": [
              "\n",
              "  <div id=\"df-69bbccbf-7c36-4c07-b3dc-d27af06b0213\">\n",
              "    <div class=\"colab-df-container\">\n",
              "      <div>\n",
              "<style scoped>\n",
              "    .dataframe tbody tr th:only-of-type {\n",
              "        vertical-align: middle;\n",
              "    }\n",
              "\n",
              "    .dataframe tbody tr th {\n",
              "        vertical-align: top;\n",
              "    }\n",
              "\n",
              "    .dataframe thead th {\n",
              "        text-align: right;\n",
              "    }\n",
              "</style>\n",
              "<table border=\"1\" class=\"dataframe\">\n",
              "  <thead>\n",
              "    <tr style=\"text-align: right;\">\n",
              "      <th></th>\n",
              "      <th>selected_answer</th>\n",
              "      <th>0</th>\n",
              "      <th>1</th>\n",
              "      <th>2</th>\n",
              "      <th>3</th>\n",
              "      <th>4</th>\n",
              "    </tr>\n",
              "  </thead>\n",
              "  <tbody>\n",
              "    <tr>\n",
              "      <th>after_tuning_model</th>\n",
              "      <td>1</td>\n",
              "      <td>0.754075</td>\n",
              "      <td>0.754075</td>\n",
              "      <td>0.754075</td>\n",
              "      <td>0.754075</td>\n",
              "      <td>0.754075</td>\n",
              "    </tr>\n",
              "    <tr>\n",
              "      <th>baseline_model</th>\n",
              "      <td>1</td>\n",
              "      <td>0.720173</td>\n",
              "      <td>0.720173</td>\n",
              "      <td>0.720173</td>\n",
              "      <td>0.720173</td>\n",
              "      <td>0.720173</td>\n",
              "    </tr>\n",
              "    <tr>\n",
              "      <th>before_tuning_model</th>\n",
              "      <td>1</td>\n",
              "      <td>0.659765</td>\n",
              "      <td>0.659765</td>\n",
              "      <td>0.659765</td>\n",
              "      <td>0.659765</td>\n",
              "      <td>0.659765</td>\n",
              "    </tr>\n",
              "    <tr>\n",
              "      <th>advanced_before_tuning_model</th>\n",
              "      <td>5</td>\n",
              "      <td>0.667697</td>\n",
              "      <td>0.673392</td>\n",
              "      <td>0.674006</td>\n",
              "      <td>0.669728</td>\n",
              "      <td>0.657545</td>\n",
              "    </tr>\n",
              "    <tr>\n",
              "      <th>advanced_after_tuning_model</th>\n",
              "      <td>5</td>\n",
              "      <td>0.767129</td>\n",
              "      <td>0.767037</td>\n",
              "      <td>0.766921</td>\n",
              "      <td>0.767504</td>\n",
              "      <td>0.766793</td>\n",
              "    </tr>\n",
              "  </tbody>\n",
              "</table>\n",
              "</div>\n",
              "      <button class=\"colab-df-convert\" onclick=\"convertToInteractive('df-69bbccbf-7c36-4c07-b3dc-d27af06b0213')\"\n",
              "              title=\"Convert this dataframe to an interactive table.\"\n",
              "              style=\"display:none;\">\n",
              "        \n",
              "  <svg xmlns=\"http://www.w3.org/2000/svg\" height=\"24px\"viewBox=\"0 0 24 24\"\n",
              "       width=\"24px\">\n",
              "    <path d=\"M0 0h24v24H0V0z\" fill=\"none\"/>\n",
              "    <path d=\"M18.56 5.44l.94 2.06.94-2.06 2.06-.94-2.06-.94-.94-2.06-.94 2.06-2.06.94zm-11 1L8.5 8.5l.94-2.06 2.06-.94-2.06-.94L8.5 2.5l-.94 2.06-2.06.94zm10 10l.94 2.06.94-2.06 2.06-.94-2.06-.94-.94-2.06-.94 2.06-2.06.94z\"/><path d=\"M17.41 7.96l-1.37-1.37c-.4-.4-.92-.59-1.43-.59-.52 0-1.04.2-1.43.59L10.3 9.45l-7.72 7.72c-.78.78-.78 2.05 0 2.83L4 21.41c.39.39.9.59 1.41.59.51 0 1.02-.2 1.41-.59l7.78-7.78 2.81-2.81c.8-.78.8-2.07 0-2.86zM5.41 20L4 18.59l7.72-7.72 1.47 1.35L5.41 20z\"/>\n",
              "  </svg>\n",
              "      </button>\n",
              "      \n",
              "  <style>\n",
              "    .colab-df-container {\n",
              "      display:flex;\n",
              "      flex-wrap:wrap;\n",
              "      gap: 12px;\n",
              "    }\n",
              "\n",
              "    .colab-df-convert {\n",
              "      background-color: #E8F0FE;\n",
              "      border: none;\n",
              "      border-radius: 50%;\n",
              "      cursor: pointer;\n",
              "      display: none;\n",
              "      fill: #1967D2;\n",
              "      height: 32px;\n",
              "      padding: 0 0 0 0;\n",
              "      width: 32px;\n",
              "    }\n",
              "\n",
              "    .colab-df-convert:hover {\n",
              "      background-color: #E2EBFA;\n",
              "      box-shadow: 0px 1px 2px rgba(60, 64, 67, 0.3), 0px 1px 3px 1px rgba(60, 64, 67, 0.15);\n",
              "      fill: #174EA6;\n",
              "    }\n",
              "\n",
              "    [theme=dark] .colab-df-convert {\n",
              "      background-color: #3B4455;\n",
              "      fill: #D2E3FC;\n",
              "    }\n",
              "\n",
              "    [theme=dark] .colab-df-convert:hover {\n",
              "      background-color: #434B5C;\n",
              "      box-shadow: 0px 1px 3px 1px rgba(0, 0, 0, 0.15);\n",
              "      filter: drop-shadow(0px 1px 2px rgba(0, 0, 0, 0.3));\n",
              "      fill: #FFFFFF;\n",
              "    }\n",
              "  </style>\n",
              "\n",
              "      <script>\n",
              "        const buttonEl =\n",
              "          document.querySelector('#df-69bbccbf-7c36-4c07-b3dc-d27af06b0213 button.colab-df-convert');\n",
              "        buttonEl.style.display =\n",
              "          google.colab.kernel.accessAllowed ? 'block' : 'none';\n",
              "\n",
              "        async function convertToInteractive(key) {\n",
              "          const element = document.querySelector('#df-69bbccbf-7c36-4c07-b3dc-d27af06b0213');\n",
              "          const dataTable =\n",
              "            await google.colab.kernel.invokeFunction('convertToInteractive',\n",
              "                                                     [key], {});\n",
              "          if (!dataTable) return;\n",
              "\n",
              "          const docLinkHtml = 'Like what you see? Visit the ' +\n",
              "            '<a target=\"_blank\" href=https://colab.research.google.com/notebooks/data_table.ipynb>data table notebook</a>'\n",
              "            + ' to learn more about interactive tables.';\n",
              "          element.innerHTML = '';\n",
              "          dataTable['output_type'] = 'display_data';\n",
              "          await google.colab.output.renderOutput(dataTable, element);\n",
              "          const docLink = document.createElement('div');\n",
              "          docLink.innerHTML = docLinkHtml;\n",
              "          element.appendChild(docLink);\n",
              "        }\n",
              "      </script>\n",
              "    </div>\n",
              "  </div>\n",
              "  "
            ],
            "text/plain": [
              "                              selected_answer         0  ...         3         4\n",
              "after_tuning_model                          1  0.754075  ...  0.754075  0.754075\n",
              "baseline_model                              1  0.720173  ...  0.720173  0.720173\n",
              "before_tuning_model                         1  0.659765  ...  0.659765  0.659765\n",
              "advanced_before_tuning_model                5  0.667697  ...  0.669728  0.657545\n",
              "advanced_after_tuning_model                 5  0.767129  ...  0.767504  0.766793\n",
              "\n",
              "[5 rows x 6 columns]"
            ]
          },
          "metadata": {},
          "execution_count": 67
        }
      ]
    },
    {
      "cell_type": "markdown",
      "source": [
        "문제는 예측 성공"
      ],
      "metadata": {
        "id": "YBnCEhbYSq-a"
      },
      "id": "YBnCEhbYSq-a"
    },
    {
      "cell_type": "code",
      "source": [
        ""
      ],
      "metadata": {
        "id": "Ze-8tTY3Stev"
      },
      "id": "Ze-8tTY3Stev",
      "execution_count": null,
      "outputs": []
    }
  ],
  "metadata": {
    "kernelspec": {
      "display_name": "PythorchDeepLearningProject",
      "language": "python",
      "name": "book"
    },
    "language_info": {
      "codemirror_mode": {
        "name": "ipython",
        "version": 3
      },
      "file_extension": ".py",
      "mimetype": "text/x-python",
      "name": "python",
      "nbconvert_exporter": "python",
      "pygments_lexer": "ipython3",
      "version": "3.7.11"
    },
    "colab": {
      "name": "Source.ipynb",
      "provenance": [],
      "collapsed_sections": []
    }
  },
  "nbformat": 4,
  "nbformat_minor": 5
}