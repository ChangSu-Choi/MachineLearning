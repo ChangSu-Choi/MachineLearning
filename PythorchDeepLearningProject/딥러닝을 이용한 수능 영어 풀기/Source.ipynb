{
 "cells": [
  {
   "cell_type": "markdown",
   "id": "478749c7",
   "metadata": {},
   "source": [
    "### [모듈 불러오기]"
   ]
  },
  {
   "cell_type": "code",
   "execution_count": 38,
   "id": "7f4f0a50",
   "metadata": {},
   "outputs": [
    {
     "name": "stderr",
     "output_type": "stream",
     "text": [
      "[nltk_data] Downloading package punkt to\n",
      "[nltk_data]     C:\\Users\\choic\\AppData\\Roaming\\nltk_data...\n",
      "[nltk_data]   Package punkt is already up-to-date!\n"
     ]
    }
   ],
   "source": [
    "import dill\n",
    "import time\n",
    "import random\n",
    "import numpy as np\n",
    "from sklearn.metrics import roc_curve, auc\n",
    "\n",
    "import nltk\n",
    "\n",
    "nltk.download(\"punkt\")\n",
    "from nltk.tokenize import word_tokenize\n",
    "\n",
    "import torch\n",
    "import torch.nn as nn\n",
    "\n",
    "from torchtext.data import Field\n",
    "from torchtext.data import TabularDataset\n",
    "from torchtext.data import BucketIterator\n",
    "from torchtext.data import Iterator\n"
   ]
  },
  {
   "cell_type": "code",
   "execution_count": 35,
   "id": "1098e07d",
   "metadata": {},
   "outputs": [],
   "source": [
    "RANDOM_SEED = 2020\n",
    "torch.manual_seed(RANDOM_SEED)\n",
    "torch.backends.cudnn.deterministic = True\n",
    "torch.backends.cudnn.benchmark = False\n",
    "np.random.seed(RANDOM_SEED)\n",
    "random.seed(RANDOM_SEED)\n",
    "\n",
    "DATA_PATH = \"data/processed/\""
   ]
  },
  {
   "cell_type": "code",
   "execution_count": 2,
   "id": "eff9232d",
   "metadata": {},
   "outputs": [
    {
     "name": "stdout",
     "output_type": "stream",
     "text": [
      "1.7.1+cpu\n"
     ]
    }
   ],
   "source": [
    "print(torch.__version__)"
   ]
  },
  {
   "cell_type": "markdown",
   "id": "e54a2055",
   "metadata": {},
   "source": [
    "### [모델 클래스 정의하기]"
   ]
  },
  {
   "cell_type": "code",
   "execution_count": 3,
   "id": "9c845d98",
   "metadata": {},
   "outputs": [],
   "source": [
    "class LSTMClassifier(nn.Module):\n",
    "    def __init__(\n",
    "        self, num_embeddings, embedding_dim, hidden_size, num_layers, pad_idx\n",
    "    ):\n",
    "        super().__init__()\n",
    "        self.embed_layer = nn.Embedding(\n",
    "        # 생성할 Embedding Layer의 크기를 정해줌, 보통은 단어장의 크기\n",
    "        num_embeddings=num_embeddings,\n",
    "        embedding_dim=embedding_dim,\n",
    "        # 자연어 처리에서 배치별로 문장의 크기를 맞추기 위해서 짧은 문장에 Padding을 붙여서 길이를 맞춤\n",
    "        # 그런데 이 Padding은 특별한 의미를 갖고 있지 않음\n",
    "        # 학습에서 제외하기 위해 Padding이 단어장에서 어떤 숫자를 갖고 있는지 알려줌으로써 학습되지 않게 함.\n",
    "        padding_idx=pad_idx\n",
    "        )\n",
    "        self.lstm_layer = nn.LSTM(\n",
    "            input_size=embedding_dim,\n",
    "            hidden_size=hidden_size,\n",
    "            num_layers=num_layers,\n",
    "            bidirectional=True,\n",
    "            dropout=0.5\n",
    "        )\n",
    "        self.last_layer = nn.Sequential(\n",
    "            nn.Linear(hidden_size * 2, hidden_size),\n",
    "            nn.Dropout(0.5),\n",
    "            nn.LeakyReLU(),\n",
    "            # 마지막 Output 크기를 1로 줌 (맞는지 아닌지 점수가 가장 낮은 문장이 문법적으로 맞지 않다고 판단)\n",
    "            nn.Linear(hidden_size, 1),\n",
    "            nn.Sigmoid()\n",
    "        )"
   ]
  },
  {
   "cell_type": "markdown",
   "id": "e42f808e",
   "metadata": {},
   "source": [
    "### [모델 파이프라인 정의]"
   ]
  },
  {
   "cell_type": "code",
   "execution_count": 4,
   "id": "a5be056e",
   "metadata": {},
   "outputs": [],
   "source": [
    "def forward(self, x):\n",
    "    # 이 모델은 숫자로 이루어진 토큰을 Input으로 받는다고 가정\n",
    "    # 그렇기에 우선 들어온 Input 값을 Embedding 값으로 변환시켜 주어야 함\n",
    "    embed_x = self.embed_layer(x)\n",
    "    # LSTM은 Output, (Hidden State, Cell State)를 반환 함, 이 중 State 값들은 사용하지 않으므로 반환 받지 않음\n",
    "    output, (_, _) = self.lstm_layer(embed_x)\n",
    "    # LSTM의 Output은 (배치 크기, 문장 길이, Output Size)라는 Size를 갖고 있음. 가장 마지막 단어의 결과 값만 사용\n",
    "    last_output = output[:, -1, :]\n",
    "    # 문장의 마지막 단어의 Output을 Fully Connected Layer에 통과시켜 확률값을 계산\n",
    "    last_ouput = self.last_layer(last_output)\n",
    "    return last_output"
   ]
  },
  {
   "cell_type": "markdown",
   "id": "9ad2ee09",
   "metadata": {},
   "source": [
    "## >데이터셋 불러오기<"
   ]
  },
  {
   "cell_type": "markdown",
   "id": "124e3960",
   "metadata": {},
   "source": [
    "**파일에서 필요한 Field 선언하기**  \n",
    "1 TEXT = Field(...)  \n",
    "2 LABEL = Field(...)  \n",
    "**데이터 불러오기**  \n",
    "3 dataset = TabularDataset  \n",
    "**불러온 데이터로 단어장 만들기**  \n",
    "4 TEXT.build_vocab(dataset)  \n",
    "**Data Loader 만들기**  \n",
    "5 data_loadet = BucketIterator(dataset, ..)"
   ]
  },
  {
   "attachments": {
    "image.png": {
     "image/png": "[encoded data removed]"
    }
   },
   "cell_type": "markdown",
   "id": "072b4d04",
   "metadata": {},
   "source": [
    "![image.png](attachment:image.png)  \n",
    "문장은 TEXT, 정답은 LABEL로 각각의 Field를 정의"
   ]
  },
  {
   "cell_type": "markdown",
   "id": "c8124bb3",
   "metadata": {},
   "source": [
    "### [문장 필드 정의]"
   ]
  },
  {
   "cell_type": "code",
   "execution_count": 5,
   "id": "bcb84a99",
   "metadata": {},
   "outputs": [
    {
     "name": "stderr",
     "output_type": "stream",
     "text": [
      "C:\\Users\\choic\\anaconda3\\envs\\book\\lib\\site-packages\\torchtext\\data\\field.py:150: UserWarning: Field class will be retired soon and moved to torchtext.legacy. Please see the most recent release notes for further information.\n",
      "  warnings.warn('{} class will be retired soon and moved to torchtext.legacy. Please see the most recent release notes for further information.'.format(self.__class__.__name__), UserWarning)\n"
     ]
    }
   ],
   "source": [
    "TEXT = Field(\n",
    "    sequential=True, # 1\n",
    "    use_vocab=True, # 2\n",
    "    tokenize=word_tokenize, # 3\n",
    "    lower=True, # 4\n",
    "    batch_first=True # 5\n",
    ")"
   ]
  },
  {
   "cell_type": "markdown",
   "id": "6b999c7e",
   "metadata": {},
   "source": [
    "1. TEXT는 문장이 들어오는 Field. Sequential=True로 설정해서 이 필드에는 문장이 들어온다는 것을 알려줌\n",
    "2. 단어를 숫자로 변환시켜주는 단어장을 만들기 위해 이 필드를 이용함\n",
    "3. 불러온 문장을 토크나이징 할 함수를 입력. nltk의 word_tokenize를 이용 할 것임. word_tokenize는 영어로 이루어진 문장을 토큰화시킬 때 가장 기본적으로 사용됨.\n",
    "4. 대소문자를 구분할지 말지를 설정하는 부분. 따로 대명사를 처리하지 않을 것이기에 모두 소문자로 처리\n",
    "5. 자연어를 처리하는 모듈별로 지원하는 데이터의 형태가 다름. 크게 다음 두가지 형태가 있음.\n",
    "- (배치, 문장)\n",
    "- (문장, 배치)  \n",
    "이 중 첫 번째의 방식이 필요하기에 True를 줌"
   ]
  },
  {
   "cell_type": "markdown",
   "id": "ef7f7d32",
   "metadata": {},
   "source": [
    "### [정답 필드 정의]"
   ]
  },
  {
   "cell_type": "code",
   "execution_count": 6,
   "id": "16d7e485",
   "metadata": {},
   "outputs": [],
   "source": [
    "LABEL = Field(\n",
    "    sequential=False, # 1\n",
    "    use_vocab=False, # 2\n",
    "    batch_first=True,\n",
    ")"
   ]
  },
  {
   "cell_type": "markdown",
   "id": "b360d49e",
   "metadata": {},
   "source": [
    "1. 앞에서는 문장이 들어오기 때문에 True를 주었지만 이 열은 정답이 있는 열이기에 False를 줌\n",
    "2. 또한 이 Field에서는 따로 단어장을 생성하지 않기에 False를 줌"
   ]
  },
  {
   "cell_type": "markdown",
   "id": "2ada077b",
   "metadata": {},
   "source": [
    "### [데이터 불러오기]"
   ]
  },
  {
   "cell_type": "code",
   "execution_count": 7,
   "id": "4dcc77ab",
   "metadata": {},
   "outputs": [
    {
     "name": "stderr",
     "output_type": "stream",
     "text": [
      "C:\\Users\\choic\\anaconda3\\envs\\book\\lib\\site-packages\\torchtext\\data\\example.py:68: UserWarning: Example class will be retired soon and moved to torchtext.legacy. Please see the most recent release notes for further information.\n",
      "  warnings.warn('Example class will be retired soon and moved to torchtext.legacy. Please see the most recent release notes for further information.', UserWarning)\n",
      "C:\\Users\\choic\\anaconda3\\envs\\book\\lib\\site-packages\\torchtext\\data\\example.py:78: UserWarning: Example class will be retired soon and moved to torchtext.legacy. Please see the most recent release notes for further information.\n",
      "  warnings.warn('Example class will be retired soon and moved to torchtext.legacy. Please see the most recent release notes for further information.', UserWarning)\n"
     ]
    }
   ],
   "source": [
    "sat_train_data, sat_valid_data, sat_test_data = \\\n",
    "    TabularDataset.splits(\n",
    "    path='data/processed', # 1\n",
    "    train='sat_train.tsv', # 2\n",
    "    validation='sat_valid.tsv',\n",
    "    test = 'sat_test.tsv',\n",
    "    format = 'tsv', # 3\n",
    "    fields = [('text', TEXT), ('label', LABEL)], # 4\n",
    "    skip_header = 1, # 5\n",
    ")\n",
    "TEXT.build_vocab(sat_train_data, min_freq=2) # 6"
   ]
  },
  {
   "cell_type": "markdown",
   "id": "b8c30135",
   "metadata": {},
   "source": [
    "1. 데이터가 들어 있는 폴더의 경로를 입력\n",
    "2. 각각 Train, Validation, Test의 파일명을 입력\n",
    "3. 데이터의 파일 포맷 형태를 줍니다. 사용할 데이터는 Tap separated value의 데이터이기에 tsv를 입력\n",
    "4. 앞에서 정의한 Field를 입력해주는 부분. 입력할 때 실제 데이터의 컬럼 순서로 입력해주어야함. 그리고 Field의 이름과 Field를 묶음. 예를 들어 (\"text\", TEXT)라면 이 데이터는 첫 번째 컬럼에 문장이 있고 그 컬럼명을 text로 하겠다는 뜻\n",
    "5. 데이터의 첫 번째 열에는 원래의 컬럼명이 들어 있음. 데이터로 사용되지 않기 때문에 따로 불러오지 않도록 해야함. 그렇기에 1을 주어서 첫 번째 열을 생략하도록 함.\n",
    "6. 마지막으로 불러온 데이터 중 훈련 데이터를 이용해 TEXT의 단어장을 생성함\n",
    "\n",
    "불러온 데이터로 Data Loader를 만들어야 하는데 일반적인 Data Loader은  \n",
    "랜덤하게 추출 -> 각 문장을 정해진 길이에 맞추기 -> Tensor로 변환  \n",
    "\n",
    "정해진 길이에 맞추기 : torchtext.BucketIterator 이용"
   ]
  },
  {
   "cell_type": "markdown",
   "id": "249925d2",
   "metadata": {},
   "source": [
    "### [Data Loader 정의]"
   ]
  },
  {
   "cell_type": "code",
   "execution_count": 25,
   "id": "93023997",
   "metadata": {},
   "outputs": [
    {
     "name": "stderr",
     "output_type": "stream",
     "text": [
      "C:\\Users\\choic\\anaconda3\\envs\\book\\lib\\site-packages\\torchtext\\data\\iterator.py:48: UserWarning: BucketIterator class will be retired soon and moved to torchtext.legacy. Please see the most recent release notes for further information.\n",
      "  warnings.warn('{} class will be retired soon and moved to torchtext.legacy. Please see the most recent release notes for further information.'.format(self.__class__.__name__), UserWarning)\n"
     ]
    }
   ],
   "source": [
    "sat_train_iterator, sat_valid_iterator, sat_test_iterator = BucketIterator.splits(\n",
    "    (sat_train_data, sat_valid_data, sat_test_data),\n",
    "    batch_size=8,\n",
    "    device=None,\n",
    "    sort=False,\n",
    ")\n"
   ]
  },
  {
   "cell_type": "markdown",
   "id": "382df1cd",
   "metadata": {},
   "source": [
    "1. 앞에서 불러온 데이터들을 묶어서 입력해줌\n",
    "2. Data Loader에서 각 배치별 크기를 의미"
   ]
  },
  {
   "cell_type": "markdown",
   "id": "27682175",
   "metadata": {},
   "source": [
    "## >학습<  \n",
    "  \n",
    "1. Data Loader에서 배치 불러오기\n",
    "2. 배치를 모델에 넣어서 데이터 형태 맞추기\n",
    "3. 배치를 모델에 넣어서 예측값 얻기\n",
    "4. 정답과 예측값을 비교해서 Loss 계산하기\n",
    "5. Loss를 이용해 모델 학습시키기"
   ]
  },
  {
   "cell_type": "markdown",
   "id": "31a00283",
   "metadata": {},
   "source": [
    "### [모델 학습 함수 정의]"
   ]
  },
  {
   "cell_type": "code",
   "execution_count": 29,
   "id": "f374bf7f",
   "metadata": {},
   "outputs": [],
   "source": [
    "def train(model: nn.Module, iterator: Iterator, optimizer: torch.optim.Optimizer, criterion: nn.Module, device: str):\n",
    "    model.train()\n",
    "    epoch_loss = 0\n",
    "    for _, batch in enumerate(iterator): # 1\n",
    "        optimizer.zero_grad()\n",
    "        text = batch.text # 2\n",
    "        if text.shape[0] > 1:\n",
    "            label = batch.label.type(torch.FloatTensor) # 3\n",
    "            text = text.to(device)\n",
    "            label = label.to(device)\n",
    "            output = model(text).flatten() # 4\n",
    "            loss = criterion(output, label) # 5\n",
    "            loss.backward()\n",
    "            optimizer.step()\n",
    "            epoch_loss += loss.item()\n",
    "    \n",
    "    return epoch_loss / len(iterator)"
   ]
  },
  {
   "cell_type": "markdown",
   "id": "29fb8a3e",
   "metadata": {},
   "source": [
    "1. 입력 받은 Data Loader를 호출해 Batch를 부르는 코드\n",
    "2. Batch는 두 개의 Attribute를 갖고 있음. 앞서 데이터를 불러올 때 준 fields=[(\"text\", TEXT), (\"label\", LABEL)]에서 앞의 단어들. 여기서 text는 batch의 문장, label은 Batch의 정답을 갖고 있음\n",
    "3. 문장과 정답을 불러와서 필요한 데이터 형태로 변환\n",
    "4. 모델에 문장을 넣어서 결과를 출력\n",
    "5. 출력된 겨로가와 정답을 비교해서 Loss를 구함"
   ]
  },
  {
   "cell_type": "markdown",
   "id": "4453165a",
   "metadata": {},
   "source": [
    "### [모델 평가 함수 정의]"
   ]
  },
  {
   "cell_type": "code",
   "execution_count": 31,
   "id": "9a088124",
   "metadata": {},
   "outputs": [],
   "source": [
    "def evaluate(model: nn.Module, iterator: Iterator, criterion: nn.Module, device: str):\n",
    "    model.eval() # 1\n",
    "    epoch_loss = 0\n",
    "\n",
    "    with torch.no_grad(): # 2\n",
    "        for _, batch in enumerate(iterator):\n",
    "            text = batch.text\n",
    "            label = batch.label.type(torch.FloatTensor)\n",
    "            text = text.to(device)\n",
    "            label = label.to(device)\n",
    "            output = model(text).flatten()\n",
    "            loss = criterion(output, label)\n",
    "            epoch_loss += loss.item()\n",
    "\n",
    "    return epoch_loss / len(iterator)"
   ]
  },
  {
   "cell_type": "markdown",
   "id": "9ce20a61",
   "metadata": {},
   "source": [
    "1. Dropout과 같이 훈련과 평가의 동작이 다른 모듈들은 각 목적에 맞게 변화를 주어야 함. 여기서는 평가를 하기 위해 model.eval()를 먼저 선언\n",
    "2. torch에서는 기본적으로 Forward를 할 때 자동으로 Gradient를 계산. 하지만 평가를 진행할 때는 Gradient를 계산할 필요가 없음."
   ]
  },
  {
   "cell_type": "code",
   "execution_count": 32,
   "id": "d8e4b6f3",
   "metadata": {},
   "outputs": [],
   "source": [
    "\n",
    "def test(model: nn.Module, iterator: Iterator, device: str):\n",
    "    model.eval()\n",
    "    with torch.no_grad():\n",
    "        y_real = []\n",
    "        y_pred = []\n",
    "        for batch in iterator:\n",
    "            text = batch.text\n",
    "            label = batch.label.type(torch.FloatTensor)\n",
    "            text = text.to(device)\n",
    "            output = model(text).flatten().cpu()\n",
    "            y_real += [label]\n",
    "            y_pred += [output]\n",
    "        y_real = torch.cat(y_real)\n",
    "        y_pred = torch.cat(y_pred)\n",
    "\n",
    "    fpr, tpr, _ = roc_curve(y_real, y_pred)\n",
    "    auroc = auc(fpr, tpr)\n",
    "\n",
    "    return auroc\n",
    "\n",
    "\n",
    "def epoch_time(start_time: int, end_time: int):\n",
    "    elapsed_time = end_time - start_time\n",
    "    elapsed_mins = int(elapsed_time / 60)\n",
    "    elapsed_secs = int(elapsed_time - (elapsed_mins * 60))\n",
    "    return elapsed_mins, elapsed_secs"
   ]
  },
  {
   "cell_type": "markdown",
   "id": "f16a1300",
   "metadata": {},
   "source": [
    "### [HyperParameter 선언]"
   ]
  },
  {
   "cell_type": "code",
   "execution_count": 21,
   "id": "26ae085f",
   "metadata": {},
   "outputs": [],
   "source": [
    "PAD_IDX = TEXT.vocab.stoi[TEXT.pad_token]\n",
    "N_EPOCHS = 20\n",
    "\n",
    "lstm_classifier = LSTMClassifier(\n",
    "    num_embeddings=len(TEXT.vocab),\n",
    "    embedding_dim=100,\n",
    "    hidden_size=200,\n",
    "    num_layers=4,\n",
    "    pad_idx=PAD_IDX,\n",
    ")\n",
    "if torch.cuda.is_available():\n",
    "    device = \"cuda:0\"\n",
    "else:\n",
    "    device = \"cpu\"\n",
    "_ = lstm_classifier.to(device)\n",
    "\n",
    "optimizer = torch.optim.Adam(lstm_classifier.parameters())\n",
    "bce_loss_fn = nn.BCELoss()"
   ]
  },
  {
   "cell_type": "markdown",
   "id": "bd989a9a",
   "metadata": {},
   "source": [
    "### [모델 학습]"
   ]
  },
  {
   "cell_type": "code",
   "execution_count": 37,
   "id": "41077b8e",
   "metadata": {},
   "outputs": [
    {
     "ename": "NotImplementedError",
     "evalue": "",
     "output_type": "error",
     "traceback": [
      "\u001b[1;31m---------------------------------------------------------------------------\u001b[0m",
      "\u001b[1;31mNotImplementedError\u001b[0m                       Traceback (most recent call last)",
      "\u001b[1;32m~\\AppData\\Local\\Temp/ipykernel_11712/1939790937.py\u001b[0m in \u001b[0;36m<module>\u001b[1;34m\u001b[0m\n\u001b[0;32m      3\u001b[0m     \u001b[0mstart_time\u001b[0m \u001b[1;33m=\u001b[0m \u001b[0mtime\u001b[0m\u001b[1;33m.\u001b[0m\u001b[0mtime\u001b[0m\u001b[1;33m(\u001b[0m\u001b[1;33m)\u001b[0m\u001b[1;33m\u001b[0m\u001b[1;33m\u001b[0m\u001b[0m\n\u001b[0;32m      4\u001b[0m \u001b[1;33m\u001b[0m\u001b[0m\n\u001b[1;32m----> 5\u001b[1;33m     \u001b[0mtrain_loss\u001b[0m \u001b[1;33m=\u001b[0m \u001b[0mtrain\u001b[0m\u001b[1;33m(\u001b[0m\u001b[0mlstm_classifier\u001b[0m\u001b[1;33m,\u001b[0m \u001b[0msat_train_iterator\u001b[0m\u001b[1;33m,\u001b[0m \u001b[0moptimizer\u001b[0m\u001b[1;33m,\u001b[0m \u001b[0mbce_loss_fn\u001b[0m\u001b[1;33m,\u001b[0m \u001b[0mdevice\u001b[0m\u001b[1;33m)\u001b[0m\u001b[1;33m\u001b[0m\u001b[1;33m\u001b[0m\u001b[0m\n\u001b[0m\u001b[0;32m      6\u001b[0m     \u001b[0mvalid_loss\u001b[0m \u001b[1;33m=\u001b[0m \u001b[0mevaluate\u001b[0m\u001b[1;33m(\u001b[0m\u001b[0mlstm_classifier\u001b[0m\u001b[1;33m,\u001b[0m \u001b[0msat_valid_iterator\u001b[0m\u001b[1;33m,\u001b[0m \u001b[0mbce_loss_fn\u001b[0m\u001b[1;33m,\u001b[0m \u001b[0mdevice\u001b[0m\u001b[1;33m)\u001b[0m\u001b[1;33m\u001b[0m\u001b[1;33m\u001b[0m\u001b[0m\n\u001b[0;32m      7\u001b[0m \u001b[1;33m\u001b[0m\u001b[0m\n",
      "\u001b[1;32m~\\AppData\\Local\\Temp/ipykernel_11712/1180825097.py\u001b[0m in \u001b[0;36mtrain\u001b[1;34m(model, iterator, optimizer, criterion, device)\u001b[0m\n\u001b[0;32m      9\u001b[0m             \u001b[0mtext\u001b[0m \u001b[1;33m=\u001b[0m \u001b[0mtext\u001b[0m\u001b[1;33m.\u001b[0m\u001b[0mto\u001b[0m\u001b[1;33m(\u001b[0m\u001b[0mdevice\u001b[0m\u001b[1;33m)\u001b[0m\u001b[1;33m\u001b[0m\u001b[1;33m\u001b[0m\u001b[0m\n\u001b[0;32m     10\u001b[0m             \u001b[0mlabel\u001b[0m \u001b[1;33m=\u001b[0m \u001b[0mlabel\u001b[0m\u001b[1;33m.\u001b[0m\u001b[0mto\u001b[0m\u001b[1;33m(\u001b[0m\u001b[0mdevice\u001b[0m\u001b[1;33m)\u001b[0m\u001b[1;33m\u001b[0m\u001b[1;33m\u001b[0m\u001b[0m\n\u001b[1;32m---> 11\u001b[1;33m             \u001b[0moutput\u001b[0m \u001b[1;33m=\u001b[0m \u001b[0mmodel\u001b[0m\u001b[1;33m(\u001b[0m\u001b[0mtext\u001b[0m\u001b[1;33m)\u001b[0m\u001b[1;33m.\u001b[0m\u001b[0mflatten\u001b[0m\u001b[1;33m(\u001b[0m\u001b[1;33m)\u001b[0m \u001b[1;31m# 4\u001b[0m\u001b[1;33m\u001b[0m\u001b[1;33m\u001b[0m\u001b[0m\n\u001b[0m\u001b[0;32m     12\u001b[0m             \u001b[0mloss\u001b[0m \u001b[1;33m=\u001b[0m \u001b[0mcriterion\u001b[0m\u001b[1;33m(\u001b[0m\u001b[0moutput\u001b[0m\u001b[1;33m,\u001b[0m \u001b[0mlabel\u001b[0m\u001b[1;33m)\u001b[0m \u001b[1;31m# 5\u001b[0m\u001b[1;33m\u001b[0m\u001b[1;33m\u001b[0m\u001b[0m\n\u001b[0;32m     13\u001b[0m             \u001b[0mloss\u001b[0m\u001b[1;33m.\u001b[0m\u001b[0mbackward\u001b[0m\u001b[1;33m(\u001b[0m\u001b[1;33m)\u001b[0m\u001b[1;33m\u001b[0m\u001b[1;33m\u001b[0m\u001b[0m\n",
      "\u001b[1;32m~\\anaconda3\\envs\\book\\lib\\site-packages\\torch\\nn\\modules\\module.py\u001b[0m in \u001b[0;36m_call_impl\u001b[1;34m(self, *input, **kwargs)\u001b[0m\n\u001b[0;32m    725\u001b[0m             \u001b[0mresult\u001b[0m \u001b[1;33m=\u001b[0m \u001b[0mself\u001b[0m\u001b[1;33m.\u001b[0m\u001b[0m_slow_forward\u001b[0m\u001b[1;33m(\u001b[0m\u001b[1;33m*\u001b[0m\u001b[0minput\u001b[0m\u001b[1;33m,\u001b[0m \u001b[1;33m**\u001b[0m\u001b[0mkwargs\u001b[0m\u001b[1;33m)\u001b[0m\u001b[1;33m\u001b[0m\u001b[1;33m\u001b[0m\u001b[0m\n\u001b[0;32m    726\u001b[0m         \u001b[1;32melse\u001b[0m\u001b[1;33m:\u001b[0m\u001b[1;33m\u001b[0m\u001b[1;33m\u001b[0m\u001b[0m\n\u001b[1;32m--> 727\u001b[1;33m             \u001b[0mresult\u001b[0m \u001b[1;33m=\u001b[0m \u001b[0mself\u001b[0m\u001b[1;33m.\u001b[0m\u001b[0mforward\u001b[0m\u001b[1;33m(\u001b[0m\u001b[1;33m*\u001b[0m\u001b[0minput\u001b[0m\u001b[1;33m,\u001b[0m \u001b[1;33m**\u001b[0m\u001b[0mkwargs\u001b[0m\u001b[1;33m)\u001b[0m\u001b[1;33m\u001b[0m\u001b[1;33m\u001b[0m\u001b[0m\n\u001b[0m\u001b[0;32m    728\u001b[0m         for hook in itertools.chain(\n\u001b[0;32m    729\u001b[0m                 \u001b[0m_global_forward_hooks\u001b[0m\u001b[1;33m.\u001b[0m\u001b[0mvalues\u001b[0m\u001b[1;33m(\u001b[0m\u001b[1;33m)\u001b[0m\u001b[1;33m,\u001b[0m\u001b[1;33m\u001b[0m\u001b[1;33m\u001b[0m\u001b[0m\n",
      "\u001b[1;32m~\\anaconda3\\envs\\book\\lib\\site-packages\\torch\\nn\\modules\\module.py\u001b[0m in \u001b[0;36m_forward_unimplemented\u001b[1;34m(self, *input)\u001b[0m\n\u001b[0;32m    173\u001b[0m         \u001b[0mregistered\u001b[0m \u001b[0mhooks\u001b[0m \u001b[1;32mwhile\u001b[0m \u001b[0mthe\u001b[0m \u001b[0mlatter\u001b[0m \u001b[0msilently\u001b[0m \u001b[0mignores\u001b[0m \u001b[0mthem\u001b[0m\u001b[1;33m.\u001b[0m\u001b[1;33m\u001b[0m\u001b[1;33m\u001b[0m\u001b[0m\n\u001b[0;32m    174\u001b[0m     \"\"\"\n\u001b[1;32m--> 175\u001b[1;33m     \u001b[1;32mraise\u001b[0m \u001b[0mNotImplementedError\u001b[0m\u001b[1;33m\u001b[0m\u001b[1;33m\u001b[0m\u001b[0m\n\u001b[0m\u001b[0;32m    176\u001b[0m \u001b[1;33m\u001b[0m\u001b[0m\n\u001b[0;32m    177\u001b[0m \u001b[1;33m\u001b[0m\u001b[0m\n",
      "\u001b[1;31mNotImplementedError\u001b[0m: "
     ]
    }
   ],
   "source": [
    "for epoch in range(N_EPOCHS):\n",
    "\n",
    "    start_time = time.time()\n",
    "\n",
    "    train_loss = train(lstm_classifier, sat_train_iterator, optimizer, bce_loss_fn, device)\n",
    "    valid_loss = evaluate(lstm_classifier, sat_valid_iterator, bce_loss_fn, device)\n",
    "\n",
    "    end_time = time.time()\n",
    "\n",
    "    epoch_mins, epoch_secs = epoch_time(start_time, end_time)\n",
    "\n",
    "    print(f\"Epoch: {epoch+1:02} | Time: {epoch_mins}m {epoch_secs}s\")\n",
    "    print(f\"\\tTrain Loss: {train_loss:.5f}\")\n",
    "    print(f\"\\t Val. Loss: {valid_loss:.5f}\")"
   ]
  },
  {
   "cell_type": "code",
   "execution_count": null,
   "id": "4a70f397",
   "metadata": {},
   "outputs": [],
   "source": []
  }
 ],
 "metadata": {
  "kernelspec": {
   "display_name": "PythorchDeepLearningProject",
   "language": "python",
   "name": "book"
  },
  "language_info": {
   "codemirror_mode": {
    "name": "ipython",
    "version": 3
   },
   "file_extension": ".py",
   "mimetype": "text/x-python",
   "name": "python",
   "nbconvert_exporter": "python",
   "pygments_lexer": "ipython3",
   "version": "3.7.11"
  }
 },
 "nbformat": 4,
 "nbformat_minor": 5
}
