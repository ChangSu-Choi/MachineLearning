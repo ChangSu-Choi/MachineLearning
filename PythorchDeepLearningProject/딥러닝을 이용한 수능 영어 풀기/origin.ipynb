{
 "cells": [
  {
   "cell_type": "code",
   "execution_count": 1,
   "id": "f6dc398d",
   "metadata": {},
   "outputs": [
    {
     "name": "stderr",
     "output_type": "stream",
     "text": [
      "[nltk_data] Downloading package punkt to\n",
      "[nltk_data]     C:\\Users\\choic\\AppData\\Roaming\\nltk_data...\n",
      "[nltk_data]   Package punkt is already up-to-date!\n"
     ]
    }
   ],
   "source": [
    "import dill\n",
    "import time\n",
    "import random\n",
    "import numpy as np\n",
    "from sklearn.metrics import roc_curve, auc\n",
    "\n",
    "import nltk\n",
    "\n",
    "nltk.download(\"punkt\")\n",
    "from nltk.tokenize import word_tokenize\n",
    "\n",
    "import torch\n",
    "import torch.nn as nn\n",
    "\n",
    "from torchtext.data import Field\n",
    "from torchtext.data import TabularDataset\n",
    "from torchtext.data import BucketIterator\n",
    "from torchtext.data import Iterator"
   ]
  },
  {
   "cell_type": "code",
   "execution_count": 5,
   "id": "9915e2f2",
   "metadata": {},
   "outputs": [],
   "source": [
    "RANDOM_SEED = 2020\n",
    "torch.manual_seed(RANDOM_SEED)\n",
    "torch.backends.cudnn.deterministic = True\n",
    "torch.backends.cudnn.benchmark = False\n",
    "np.random.seed(RANDOM_SEED)\n",
    "random.seed(RANDOM_SEED)\n",
    "\n",
    "DATA_PATH = \"data/processed/\""
   ]
  },
  {
   "cell_type": "markdown",
   "id": "5e5b8858",
   "metadata": {},
   "source": [
    "## 데이터 불러오기\n",
    "- `torchtext.Field`를 이용해 각각의 필드를 정의해줍니다."
   ]
  },
  {
   "cell_type": "code",
   "execution_count": 6,
   "id": "75d9ded4",
   "metadata": {},
   "outputs": [],
   "source": [
    "TEXT = Field(\n",
    "    sequential=True,\n",
    "    use_vocab=True,\n",
    "    tokenize=word_tokenize,\n",
    "    lower=True,\n",
    "    batch_first=True,\n",
    ")\n",
    "LABEL = Field(\n",
    "    sequential=False,\n",
    "    use_vocab=False,\n",
    "    batch_first=True,\n",
    ")"
   ]
  },
  {
   "cell_type": "markdown",
   "id": "e9429609",
   "metadata": {},
   "source": [
    "수능 데이터를 불러오는 코드입니다."
   ]
  },
  {
   "cell_type": "code",
   "execution_count": 8,
   "id": "66145a40",
   "metadata": {},
   "outputs": [],
   "source": [
    "sat_train_data, sat_valid_data, sat_test_data = TabularDataset.splits(\n",
    "    path=DATA_PATH,\n",
    "    train=\"sat_train.tsv\",\n",
    "    validation=\"sat_valid.tsv\",\n",
    "    test=\"sat_test.tsv\",\n",
    "    format=\"tsv\",\n",
    "    fields=[(\"text\", TEXT), (\"label\", LABEL)],\n",
    "    skip_header=1,\n",
    ")\n",
    "\n",
    "sat_train_iterator, sat_valid_iterator, sat_test_iterator = BucketIterator.splits(\n",
    "    (sat_train_data, sat_valid_data, sat_test_data),\n",
    "    batch_size=8,\n",
    "    device=None,\n",
    "    sort=False,\n",
    ")\n",
    "\n",
    "TEXT.build_vocab(sat_train_data, min_freq=2)"
   ]
  },
  {
   "cell_type": "markdown",
   "id": "0f24cbd0",
   "metadata": {
    "id": "NaBRroeFkRF8"
   },
   "source": [
    "## LSTM Classifier"
   ]
  },
  {
   "cell_type": "code",
   "execution_count": 9,
   "id": "2fed23b7",
   "metadata": {},
   "outputs": [],
   "source": [
    "class LSTMClassifier(nn.Module):\n",
    "    def __init__(self, num_embeddings, embedding_dim, hidden_size, num_layers, pad_idx):\n",
    "        super().__init__()\n",
    "        self.embed_layer = nn.Embedding(\n",
    "            num_embeddings=num_embeddings,\n",
    "            embedding_dim=embedding_dim,\n",
    "            padding_idx=pad_idx\n",
    "        )\n",
    "        self.lstm_layer = nn.LSTM(\n",
    "            input_size=embedding_dim,\n",
    "            hidden_size=hidden_size,\n",
    "            num_layers=num_layers,\n",
    "            bidirectional=True,\n",
    "            dropout=0.5\n",
    "        )\n",
    "        self.last_layer = nn.Sequential(\n",
    "            nn.Linear(hidden_size * 2, hidden_size),\n",
    "            nn.Dropout(0.5),\n",
    "            nn.LeakyReLU(),\n",
    "            nn.Linear(hidden_size, 1),\n",
    "            nn.Sigmoid(),\n",
    "        )\n",
    "\n",
    "    def forward(self, x):\n",
    "        embed_x = self.embed_layer(x)\n",
    "        output, (_, _) = self.lstm_layer(embed_x)\n",
    "        last_output = output[:, -1, :]\n",
    "        last_output = self.last_layer(last_output)\n",
    "        return last_output"
   ]
  },
  {
   "cell_type": "markdown",
   "id": "25697525",
   "metadata": {},
   "source": [
    "Train, Evaluate, Test 를 정의합니다."
   ]
  },
  {
   "cell_type": "code",
   "execution_count": 10,
   "id": "b75a5e1d",
   "metadata": {},
   "outputs": [],
   "source": [
    "def train(model: nn.Module, iterator: Iterator, optimizer: torch.optim.Optimizer, criterion: nn.Module, device: str):\n",
    "    model.train()\n",
    "    epoch_loss = 0\n",
    "\n",
    "    for _, batch in enumerate(iterator):\n",
    "        optimizer.zero_grad()\n",
    "\n",
    "        text = batch.text\n",
    "        if text.shape[0] > 1:\n",
    "            label = batch.label.type(torch.FloatTensor)\n",
    "            text = text.to(device)\n",
    "            label = label.to(device)\n",
    "            output = model(text).flatten()\n",
    "            loss = criterion(output, label)\n",
    "            loss.backward()\n",
    "            optimizer.step()\n",
    "            epoch_loss += loss.item()\n",
    "\n",
    "    return epoch_loss / len(iterator)\n",
    "\n",
    "\n",
    "def evaluate(model: nn.Module, iterator: Iterator, criterion: nn.Module, device: str):\n",
    "    model.eval()\n",
    "    epoch_loss = 0\n",
    "\n",
    "    with torch.no_grad():\n",
    "        for _, batch in enumerate(iterator):\n",
    "            text = batch.text\n",
    "            label = batch.label.type(torch.FloatTensor)\n",
    "            text = text.to(device)\n",
    "            label = label.to(device)\n",
    "            output = model(text).flatten()\n",
    "            loss = criterion(output, label)\n",
    "            epoch_loss += loss.item()\n",
    "\n",
    "    return epoch_loss / len(iterator)\n",
    "\n",
    "\n",
    "def test(model: nn.Module, iterator: Iterator, device: str):\n",
    "    model.eval()\n",
    "    with torch.no_grad():\n",
    "        y_real = []\n",
    "        y_pred = []\n",
    "        for batch in iterator:\n",
    "            text = batch.text\n",
    "            label = batch.label.type(torch.FloatTensor)\n",
    "            text = text.to(device)\n",
    "            output = model(text).flatten().cpu()\n",
    "            y_real += [label]\n",
    "            y_pred += [output]\n",
    "        y_real = torch.cat(y_real)\n",
    "        y_pred = torch.cat(y_pred)\n",
    "\n",
    "    fpr, tpr, _ = roc_curve(y_real, y_pred)\n",
    "    auroc = auc(fpr, tpr)\n",
    "\n",
    "    return auroc\n",
    "\n",
    "\n",
    "def epoch_time(start_time: int, end_time: int):\n",
    "    elapsed_time = end_time - start_time\n",
    "    elapsed_mins = int(elapsed_time / 60)\n",
    "    elapsed_secs = int(elapsed_time - (elapsed_mins * 60))\n",
    "    return elapsed_mins, elapsed_secs"
   ]
  },
  {
   "cell_type": "markdown",
   "id": "8d6dd382",
   "metadata": {},
   "source": [
    "## 모델 학습하기"
   ]
  },
  {
   "cell_type": "code",
   "execution_count": 11,
   "id": "ffb833c9",
   "metadata": {},
   "outputs": [
    {
     "name": "stderr",
     "output_type": "stream",
     "text": [
      "C:\\Users\\choic\\anaconda3\\envs\\book\\lib\\site-packages\\torchtext\\data\\batch.py:23: UserWarning: Batch class will be retired soon and moved to torchtext.legacy. Please see the most recent release notes for further information.\n",
      "  warnings.warn('{} class will be retired soon and moved to torchtext.legacy. Please see the most recent release notes for further information.'.format(self.__class__.__name__), UserWarning)\n"
     ]
    },
    {
     "name": "stdout",
     "output_type": "stream",
     "text": [
      "Epoch: 01 | Time: 0m 2s\n",
      "\tTrain Loss: 0.53348\n",
      "\t Val. Loss: 0.75698\n",
      "Epoch: 02 | Time: 0m 2s\n",
      "\tTrain Loss: 0.52014\n",
      "\t Val. Loss: 0.56375\n",
      "Epoch: 03 | Time: 0m 2s\n",
      "\tTrain Loss: 0.47775\n",
      "\t Val. Loss: 0.55127\n",
      "Epoch: 04 | Time: 0m 2s\n",
      "\tTrain Loss: 0.44323\n",
      "\t Val. Loss: 0.54704\n",
      "Epoch: 05 | Time: 0m 2s\n",
      "\tTrain Loss: 0.42197\n",
      "\t Val. Loss: 0.55199\n",
      "Epoch: 06 | Time: 0m 2s\n",
      "\tTrain Loss: 0.41107\n",
      "\t Val. Loss: 0.56374\n",
      "Epoch: 07 | Time: 0m 2s\n",
      "\tTrain Loss: 0.42162\n",
      "\t Val. Loss: 0.56400\n",
      "Epoch: 08 | Time: 0m 2s\n",
      "\tTrain Loss: 0.43142\n",
      "\t Val. Loss: 0.53967\n",
      "Epoch: 09 | Time: 0m 2s\n",
      "\tTrain Loss: 0.46181\n",
      "\t Val. Loss: 0.54005\n",
      "Epoch: 10 | Time: 0m 2s\n",
      "\tTrain Loss: 0.43902\n",
      "\t Val. Loss: 0.54140\n",
      "Epoch: 11 | Time: 0m 2s\n",
      "\tTrain Loss: 0.45546\n",
      "\t Val. Loss: 0.54697\n",
      "Epoch: 12 | Time: 0m 2s\n",
      "\tTrain Loss: 0.45420\n",
      "\t Val. Loss: 0.54316\n",
      "Epoch: 13 | Time: 0m 2s\n",
      "\tTrain Loss: 0.41215\n",
      "\t Val. Loss: 0.56632\n",
      "Epoch: 14 | Time: 0m 2s\n",
      "\tTrain Loss: 0.41748\n",
      "\t Val. Loss: 0.60505\n",
      "Epoch: 15 | Time: 0m 2s\n",
      "\tTrain Loss: 0.44161\n",
      "\t Val. Loss: 0.57962\n",
      "Epoch: 16 | Time: 0m 2s\n",
      "\tTrain Loss: 0.43434\n",
      "\t Val. Loss: 0.55206\n",
      "Epoch: 17 | Time: 0m 2s\n",
      "\tTrain Loss: 0.46020\n",
      "\t Val. Loss: 0.54843\n",
      "Epoch: 18 | Time: 0m 2s\n",
      "\tTrain Loss: 0.42365\n",
      "\t Val. Loss: 0.56666\n",
      "Epoch: 19 | Time: 0m 2s\n",
      "\tTrain Loss: 0.43033\n",
      "\t Val. Loss: 0.54686\n",
      "Epoch: 20 | Time: 0m 2s\n",
      "\tTrain Loss: 0.41675\n",
      "\t Val. Loss: 0.56571\n"
     ]
    }
   ],
   "source": [
    "PAD_IDX = TEXT.vocab.stoi[TEXT.pad_token]\n",
    "N_EPOCHS = 20\n",
    "\n",
    "lstm_classifier = LSTMClassifier(\n",
    "    num_embeddings=len(TEXT.vocab),\n",
    "    embedding_dim=100,\n",
    "    hidden_size=200,\n",
    "    num_layers=4,\n",
    "    pad_idx=PAD_IDX,\n",
    ")\n",
    "if torch.cuda.is_available():\n",
    "    device = \"cuda:0\"\n",
    "else:\n",
    "    device = \"cpu\"\n",
    "_ = lstm_classifier.to(device)\n",
    "\n",
    "optimizer = torch.optim.Adam(lstm_classifier.parameters())\n",
    "bce_loss_fn = nn.BCELoss()\n",
    "\n",
    "for epoch in range(N_EPOCHS):\n",
    "\n",
    "    start_time = time.time()\n",
    "\n",
    "    train_loss = train(lstm_classifier, sat_train_iterator, optimizer, bce_loss_fn, device)\n",
    "    valid_loss = evaluate(lstm_classifier, sat_valid_iterator, bce_loss_fn, device)\n",
    "\n",
    "    end_time = time.time()\n",
    "\n",
    "    epoch_mins, epoch_secs = epoch_time(start_time, end_time)\n",
    "\n",
    "    print(f\"Epoch: {epoch+1:02} | Time: {epoch_mins}m {epoch_secs}s\")\n",
    "    print(f\"\\tTrain Loss: {train_loss:.5f}\")\n",
    "    print(f\"\\t Val. Loss: {valid_loss:.5f}\")"
   ]
  },
  {
   "cell_type": "code",
   "execution_count": 12,
   "id": "0c0cf4e3",
   "metadata": {},
   "outputs": [
    {
     "name": "stdout",
     "output_type": "stream",
     "text": [
      "SAT Dataset Test AUROC: 0.57692\n"
     ]
    }
   ],
   "source": [
    "_ = lstm_classifier.cpu()\n",
    "test_auroc = test(lstm_classifier, sat_test_iterator, \"cpu\")\n",
    "\n",
    "print(f\"SAT Dataset Test AUROC: {test_auroc:.5f}\")"
   ]
  },
  {
   "cell_type": "code",
   "execution_count": 13,
   "id": "0380b994",
   "metadata": {},
   "outputs": [],
   "source": [
    "with open(\"baseline_model.dill\", \"wb\") as f:\n",
    "    model = {\n",
    "        \"TEXT\": TEXT,\n",
    "        \"LABEL\": LABEL,\n",
    "        \"classifier\": lstm_classifier\n",
    "    }\n",
    "    dill.dump(model, f)"
   ]
  },
  {
   "cell_type": "markdown",
   "id": "3faae8ec",
   "metadata": {},
   "source": [
    "### [테스트 함수 정의]"
   ]
  },
  {
   "cell_type": "code",
   "execution_count": null,
   "id": "9b480c36",
   "metadata": {},
   "outputs": [],
   "source": [
    "def test(model, test_loader, device):\n",
    "    model.eval()\n",
    "    with torch.no_grad():\n",
    "        y_real = []\n",
    "        y_pred = []\n",
    "        \n",
    "        for batch"
   ]
  }
 ],
 "metadata": {
  "kernelspec": {
   "display_name": "PythorchDeepLearningProject",
   "language": "python",
   "name": "book"
  },
  "language_info": {
   "codemirror_mode": {
    "name": "ipython",
    "version": 3
   },
   "file_extension": ".py",
   "mimetype": "text/x-python",
   "name": "python",
   "nbconvert_exporter": "python",
   "pygments_lexer": "ipython3",
   "version": "3.7.11"
  }
 },
 "nbformat": 4,
 "nbformat_minor": 5
}
