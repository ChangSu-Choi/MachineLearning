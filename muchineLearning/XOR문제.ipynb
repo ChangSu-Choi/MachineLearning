{
  "nbformat": 4,
  "nbformat_minor": 0,
  "metadata": {
    "colab": {
      "name": "XOR문제.ipynb",
      "provenance": []
    },
    "kernelspec": {
      "name": "python3",
      "display_name": "Python 3"
    },
    "language_info": {
      "name": "python"
    }
  },
  "cells": [
    {
      "cell_type": "code",
      "metadata": {
        "id": "t5lBzlYPyAi_"
      },
      "source": [
        "import numpy as np\n",
        "\n",
        "# sigmoid 함수\n",
        "def sigmoid(x):\n",
        "    return 1 / (1+np.exp(-x))\n",
        "\n",
        "# 수치미분 함수\n",
        "def numerical_derivative(f, x):\n",
        "    delta_x = 1e-4 # 0.0001\n",
        "    grad = np.zeros_like(x)\n",
        "    \n",
        "    it = np.nditer(x, flags=['multi_index'], op_flags=['readwrite'])\n",
        "    \n",
        "    while not it.finished:\n",
        "        idx = it.multi_index        \n",
        "        tmp_val = x[idx]\n",
        "        x[idx] = float(tmp_val) + delta_x\n",
        "        fx1 = f(x) # f(x+delta_x)\n",
        "        \n",
        "        x[idx] = tmp_val - delta_x \n",
        "        fx2 = f(x) # f(x-delta_x)\n",
        "        grad[idx] = (fx1 - fx2) / (2*delta_x)\n",
        "        \n",
        "        x[idx] = tmp_val \n",
        "        it.iternext()   \n",
        "        \n",
        "    return grad"
      ],
      "execution_count": 1,
      "outputs": []
    },
    {
      "cell_type": "code",
      "metadata": {
        "id": "zyCIo2OwyM07"
      },
      "source": [
        "# LogicGate Class\n",
        "\n",
        "class LogicGate:\n",
        "    \n",
        "    def __init__(self, gate_name, xdata, tdata):  # xdata, tdata => numpy.array(...)\n",
        "        \n",
        "        self.name = gate_name\n",
        "        \n",
        "        # 입력 데이터, 정답 데이터 초기화\n",
        "        self.__xdata = xdata.reshape(4,2)\n",
        "        self.__tdata = tdata.reshape(4,1)\n",
        "        \n",
        "        # 가중치 W, 바이어스 b 초기화\n",
        "        self.__W = np.random.rand(2,1)  # weight, 2 X 1 matrix\n",
        "        self.__b = np.random.rand(1)\n",
        "                        \n",
        "        # 학습률 learning rate 초기화\n",
        "        self.__learning_rate = 1e-2\n",
        "        \n",
        "    # 손실함수\n",
        "    def __loss_func(self):\n",
        "        \n",
        "        delta = 1e-7    # log 무한대 발산 방지\n",
        "    \n",
        "        z = np.dot(self.__xdata, self.__W) + self.__b\n",
        "        y = sigmoid(z)\n",
        "    \n",
        "        # cross-entropy \n",
        "        return  -np.sum( self.__tdata*np.log(y + delta) + (1-self.__tdata)*np.log((1 - y)+delta ) )      \n",
        "    \n",
        "    # 손실 값 계산\n",
        "    def error_val(self):\n",
        "        \n",
        "        delta = 1e-7    # log 무한대 발산 방지\n",
        "    \n",
        "        z = np.dot(self.__xdata, self.__W) + self.__b\n",
        "        y = sigmoid(z)\n",
        "    \n",
        "        # cross-entropy \n",
        "        return  -np.sum( self.__tdata*np.log(y + delta) + (1-self.__tdata)*np.log((1 - y)+delta ) )\n",
        "\n",
        "    # 수치미분을 이용하여 손실함수가 최소가 될때 까지 학습하는 함수\n",
        "    def train(self):\n",
        "        \n",
        "        f = lambda x : self.__loss_func()\n",
        "        \n",
        "        print(\"Initial error value = \", self.error_val())\n",
        "        \n",
        "        for step in  range(8001):\n",
        "            \n",
        "            self.__W -= self.__learning_rate * numerical_derivative(f, self.__W)\n",
        "    \n",
        "            self.__b -= self.__learning_rate * numerical_derivative(f, self.__b)\n",
        "    \n",
        "            if (step % 400 == 0):\n",
        "                print(\"step = \", step, \"error value = \", self.error_val())\n",
        "                \n",
        "                \n",
        "    # 미래 값 예측 함수\n",
        "    def predict(self, input_data):\n",
        "        \n",
        "        z = np.dot(input_data, self.__W) + self.__b\n",
        "        y = sigmoid(z)\n",
        "    \n",
        "        if y > 0.5:\n",
        "            result = 1  # True\n",
        "        else:\n",
        "            result = 0  # False\n",
        "    \n",
        "        return y, result"
      ],
      "execution_count": 2,
      "outputs": []
    },
    {
      "cell_type": "code",
      "metadata": {
        "colab": {
          "base_uri": "https://localhost:8080/"
        },
        "id": "2dkRFqEBySWJ",
        "outputId": "478a8524-b9a1-416c-f47e-99107b61060d"
      },
      "source": [
        "xdata = np.array([ [0, 0], [0, 1], [1, 0], [1, 1] ])\n",
        "tdata = np.array([0, 0, 0, 1])\n",
        "\n",
        "AND_obj = LogicGate(\"AND_GATE\", xdata, tdata)\n",
        "\n",
        "AND_obj.train()"
      ],
      "execution_count": 3,
      "outputs": [
        {
          "output_type": "stream",
          "text": [
            "Initial error value =  4.437286980011385\n",
            "step =  0 error value =  4.381251519919812\n",
            "step =  400 error value =  1.5027662391822085\n",
            "step =  800 error value =  1.1249319866828245\n",
            "step =  1200 error value =  0.9076476778046181\n",
            "step =  1600 error value =  0.7632002699460401\n",
            "step =  2000 error value =  0.6589446886345554\n",
            "step =  2400 error value =  0.579682922801541\n",
            "step =  2800 error value =  0.5172171577053636\n",
            "step =  3200 error value =  0.466661723747527\n",
            "step =  3600 error value =  0.4248918681706313\n",
            "step =  4000 error value =  0.38980202603808933\n",
            "step =  4400 error value =  0.35991540052457666\n",
            "step =  4800 error value =  0.33416274844155236\n",
            "step =  5200 error value =  0.31174958086381066\n",
            "step =  5600 error value =  0.29207266114889063\n",
            "step =  6000 error value =  0.2746654734342244\n",
            "step =  6400 error value =  0.25916146937016926\n",
            "step =  6800 error value =  0.2452686268753752\n",
            "step =  7200 error value =  0.23275143089105876\n",
            "step =  7600 error value =  0.2214178539259637\n",
            "step =  8000 error value =  0.21110978275870645\n"
          ],
          "name": "stdout"
        }
      ]
    },
    {
      "cell_type": "code",
      "metadata": {
        "colab": {
          "base_uri": "https://localhost:8080/"
        },
        "id": "W1_5VkaAyThx",
        "outputId": "4995b4b6-f437-4629-9af3-0ab323b56c24"
      },
      "source": [
        "# AND Gate prediction\n",
        "print(AND_obj.name, \"\\n\")\n",
        "\n",
        "test_data = np.array([ [0, 0], [0, 1], [1, 0], [1, 1] ])\n",
        "\n",
        "for input_data in test_data:\n",
        "    (sigmoid_val, logical_val) = AND_obj.predict(input_data) \n",
        "    print(input_data, \" = \", logical_val, \"\\n\")"
      ],
      "execution_count": 4,
      "outputs": [
        {
          "output_type": "stream",
          "text": [
            "AND_GATE \n",
            "\n",
            "[0 0]  =  0 \n",
            "\n",
            "[0 1]  =  0 \n",
            "\n",
            "[1 0]  =  0 \n",
            "\n",
            "[1 1]  =  1 \n",
            "\n"
          ],
          "name": "stdout"
        }
      ]
    },
    {
      "cell_type": "code",
      "metadata": {
        "colab": {
          "base_uri": "https://localhost:8080/"
        },
        "id": "3cuIYQWZyUvh",
        "outputId": "b27c14f8-693b-4c93-d9c1-5dd0dd49c403"
      },
      "source": [
        "xdata = np.array([ [0, 0], [0, 1], [1, 0], [1, 1] ])\n",
        "tdata = np.array([0, 1, 1, 1])\n",
        "\n",
        "OR_obj = LogicGate(\"OR_GATE\", xdata, tdata)\n",
        "\n",
        "OR_obj.train()"
      ],
      "execution_count": 5,
      "outputs": [
        {
          "output_type": "stream",
          "text": [
            "Initial error value =  1.818955694526082\n",
            "step =  0 error value =  1.8154236253485467\n",
            "step =  400 error value =  1.1315447092827455\n",
            "step =  800 error value =  0.8159266900262853\n",
            "step =  1200 error value =  0.6318674297540047\n",
            "step =  1600 error value =  0.5124575380089008\n",
            "step =  2000 error value =  0.4292460092879923\n",
            "step =  2400 error value =  0.3682333239519381\n",
            "step =  2800 error value =  0.32175324359970014\n",
            "step =  3200 error value =  0.28526878367942493\n",
            "step =  3600 error value =  0.2559320469154221\n",
            "step =  4000 error value =  0.23187033285649883\n",
            "step =  4400 error value =  0.21180473530144878\n",
            "step =  4800 error value =  0.19483392665864957\n",
            "step =  5200 error value =  0.18030551339981574\n",
            "step =  5600 error value =  0.16773634087340897\n",
            "step =  6000 error value =  0.1567613970809028\n",
            "step =  6400 error value =  0.14710006696495395\n",
            "step =  6800 error value =  0.13853326118003442\n",
            "step =  7200 error value =  0.13088755723035403\n",
            "step =  7600 error value =  0.12402397759178117\n",
            "step =  8000 error value =  0.11782990346979796\n"
          ],
          "name": "stdout"
        }
      ]
    },
    {
      "cell_type": "code",
      "metadata": {
        "colab": {
          "base_uri": "https://localhost:8080/"
        },
        "id": "sLZD_q5lyV6R",
        "outputId": "d8b006b6-50b3-419c-c772-e617fcc70677"
      },
      "source": [
        "# OR Gate prediction\n",
        "print(OR_obj.name, \"\\n\")\n",
        "\n",
        "test_data = np.array([ [0, 0], [0, 1], [1, 0], [1, 1] ])\n",
        "\n",
        "for input_data in test_data:\n",
        "    (sigmoid_val, logical_val) = OR_obj.predict(input_data) \n",
        "    print(input_data, \" = \", logical_val, \"\\n\")"
      ],
      "execution_count": 6,
      "outputs": [
        {
          "output_type": "stream",
          "text": [
            "OR_GATE \n",
            "\n",
            "[0 0]  =  0 \n",
            "\n",
            "[0 1]  =  1 \n",
            "\n",
            "[1 0]  =  1 \n",
            "\n",
            "[1 1]  =  1 \n",
            "\n"
          ],
          "name": "stdout"
        }
      ]
    },
    {
      "cell_type": "code",
      "metadata": {
        "colab": {
          "base_uri": "https://localhost:8080/"
        },
        "id": "cT2YFSf7yXGB",
        "outputId": "3174b97c-c72f-42e9-d50e-3837cb63017b"
      },
      "source": [
        "xdata = np.array([ [0, 0], [0, 1], [1, 0], [1, 1] ])\n",
        "tdata = np.array([1, 1, 1, 0])\n",
        "\n",
        "NAND_obj = LogicGate(\"NAND_GATE\", xdata, tdata)\n",
        "\n",
        "NAND_obj.train()"
      ],
      "execution_count": 7,
      "outputs": [
        {
          "output_type": "stream",
          "text": [
            "Initial error value =  2.7535383052820865\n",
            "step =  0 error value =  2.7456428131474877\n",
            "step =  400 error value =  1.5797588576930757\n",
            "step =  800 error value =  1.164381092999317\n",
            "step =  1200 error value =  0.9322710047381159\n",
            "step =  1600 error value =  0.7803142476821533\n",
            "step =  2000 error value =  0.6716357555323507\n",
            "step =  2400 error value =  0.5895084231281702\n",
            "step =  2800 error value =  0.525062961896252\n",
            "step =  3200 error value =  0.4730755495029013\n",
            "step =  3600 error value =  0.4302334693680685\n",
            "step =  4000 error value =  0.3943187330695397\n",
            "step =  4400 error value =  0.3637834288794768\n",
            "step =  4800 error value =  0.33751130524758355\n",
            "step =  5200 error value =  0.31467567816730324\n",
            "step =  5600 error value =  0.294650607516547\n",
            "step =  6000 error value =  0.27695316952708016\n",
            "step =  6400 error value =  0.2612047066605234\n",
            "step =  6800 error value =  0.2471040964692065\n",
            "step =  7200 error value =  0.234408875077174\n",
            "step =  7600 error value =  0.22292163378604285\n",
            "step =  8000 error value =  0.21248003937777055\n"
          ],
          "name": "stdout"
        }
      ]
    },
    {
      "cell_type": "code",
      "metadata": {
        "colab": {
          "base_uri": "https://localhost:8080/"
        },
        "id": "MTjb0ahoyYP5",
        "outputId": "b52710f4-43be-427f-ed51-8bcca08d0758"
      },
      "source": [
        "# NAND Gate prediction\n",
        "print(NAND_obj.name, \"\\n\")\n",
        "\n",
        "test_data = np.array([ [0, 0], [0, 1], [1, 0], [1, 1] ])\n",
        "\n",
        "for input_data in test_data:\n",
        "    (sigmoid_val, logical_val) = NAND_obj.predict(input_data) \n",
        "    print(input_data, \" = \", logical_val, \"\\n\")"
      ],
      "execution_count": 8,
      "outputs": [
        {
          "output_type": "stream",
          "text": [
            "NAND_GATE \n",
            "\n",
            "[0 0]  =  1 \n",
            "\n",
            "[0 1]  =  1 \n",
            "\n",
            "[1 0]  =  1 \n",
            "\n",
            "[1 1]  =  0 \n",
            "\n"
          ],
          "name": "stdout"
        }
      ]
    },
    {
      "cell_type": "code",
      "metadata": {
        "colab": {
          "base_uri": "https://localhost:8080/"
        },
        "id": "R2pjkVG1yZdh",
        "outputId": "eabc11ba-c9e6-472e-f424-026365371642"
      },
      "source": [
        "xdata = np.array([ [0, 0], [0, 1], [1, 0], [1, 1] ])\n",
        "tdata = np.array([0, 1, 1, 0])\n",
        "\n",
        "\n",
        "XOR_obj = LogicGate(\"XOR_GATE\", xdata, tdata)\n",
        "\n",
        "# XOR Gate 를 보면, 손실함수 값이 2.7 근처에서 더 이상 감소하지 않는것을 볼수 있음\n",
        "XOR_obj.train()"
      ],
      "execution_count": 9,
      "outputs": [
        {
          "output_type": "stream",
          "text": [
            "Initial error value =  3.4560768728519644\n",
            "step =  0 error value =  3.438705911167605\n",
            "step =  400 error value =  2.7741994530286744\n",
            "step =  800 error value =  2.7728135261469395\n",
            "step =  1200 error value =  2.772620713196108\n",
            "step =  1600 error value =  2.772593010052608\n",
            "step =  2000 error value =  2.7725887964462723\n",
            "step =  2400 error value =  2.772588093358856\n",
            "step =  2800 error value =  2.7725879603911947\n",
            "step =  3200 error value =  2.7725879316559037\n",
            "step =  3600 error value =  2.7725879247200007\n",
            "step =  4000 error value =  2.7725879229173302\n",
            "step =  4400 error value =  2.7725879224284347\n",
            "step =  4800 error value =  2.7725879222928427\n",
            "step =  5200 error value =  2.772587922254815\n",
            "step =  5600 error value =  2.772587922244091\n",
            "step =  6000 error value =  2.7725879222410588\n",
            "step =  6400 error value =  2.7725879222402003\n",
            "step =  6800 error value =  2.7725879222399574\n",
            "step =  7200 error value =  2.772587922239889\n",
            "step =  7600 error value =  2.77258792223987\n",
            "step =  8000 error value =  2.7725879222398633\n"
          ],
          "name": "stdout"
        }
      ]
    },
    {
      "cell_type": "code",
      "metadata": {
        "colab": {
          "base_uri": "https://localhost:8080/"
        },
        "id": "f_hY5oOJyatp",
        "outputId": "8e7aaeb5-7804-4bf8-b97e-3b98dab9d7c7"
      },
      "source": [
        "# XOR Gate prediction => 예측이 되지 않음\n",
        "print(XOR_obj.name, \"\\n\")\n",
        "\n",
        "test_data = np.array([ [0, 0], [0, 1], [1, 0], [1, 1] ])\n",
        "\n",
        "for input_data in test_data:\n",
        "    (sigmoid_val, logical_val) = XOR_obj.predict(input_data) \n",
        "    print(input_data, \" = \", logical_val, \"\\n\")"
      ],
      "execution_count": 10,
      "outputs": [
        {
          "output_type": "stream",
          "text": [
            "XOR_GATE \n",
            "\n",
            "[0 0]  =  0 \n",
            "\n",
            "[0 1]  =  0 \n",
            "\n",
            "[1 0]  =  0 \n",
            "\n",
            "[1 1]  =  1 \n",
            "\n"
          ],
          "name": "stdout"
        }
      ]
    },
    {
      "cell_type": "code",
      "metadata": {
        "colab": {
          "base_uri": "https://localhost:8080/"
        },
        "id": "uj0dXPPlyb_J",
        "outputId": "dba3420b-f403-48a1-8fbd-5597600fae4d"
      },
      "source": [
        "# XOR 을 NAND + OR => AND 조합으로 계산함\n",
        "input_data = np.array([ [0, 0], [0, 1], [1, 0], [1, 1] ])\n",
        "\n",
        "s1 = []    # NAND 출력\n",
        "s2 = []    # OR 출력\n",
        "\n",
        "new_input_data = []  # AND 입력\n",
        "final_output = []    # AND 출력\n",
        "\n",
        "for index in range(len(input_data)):\n",
        "    \n",
        "    s1 = NAND_obj.predict(input_data[index])  # NAND 출력\n",
        "    s2 = OR_obj.predict(input_data[index])    # OR 출력\n",
        "    \n",
        "    new_input_data.append(s1[-1])    # AND 입력\n",
        "    new_input_data.append(s2[-1])    # AND 입력\n",
        "    \n",
        "    (sigmoid_val, logical_val) = AND_obj.predict(np.array(new_input_data))\n",
        "    \n",
        "    final_output.append(logical_val)    # AND 출력, 즉 XOR 출력    \n",
        "    new_input_data = []    # AND 입력 초기화\n",
        "\n",
        "\n",
        "for index in range(len(input_data)):    \n",
        "    print(input_data[index], \" = \", final_output[index], end='')\n",
        "    print(\"\\n\")"
      ],
      "execution_count": 11,
      "outputs": [
        {
          "output_type": "stream",
          "text": [
            "[0 0]  =  0\n",
            "\n",
            "[0 1]  =  1\n",
            "\n",
            "[1 0]  =  1\n",
            "\n",
            "[1 1]  =  0\n",
            "\n"
          ],
          "name": "stdout"
        }
      ]
    }
  ]
}