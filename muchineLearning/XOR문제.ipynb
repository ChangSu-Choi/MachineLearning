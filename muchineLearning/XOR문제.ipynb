{
 "metadata": {
  "language_info": {
   "codemirror_mode": {
    "name": "ipython",
    "version": 3
   },
   "file_extension": ".py",
   "mimetype": "text/x-python",
   "name": "python",
   "nbconvert_exporter": "python",
   "pygments_lexer": "ipython3",
   "version": "3.9.4"
  },
  "orig_nbformat": 4,
  "kernelspec": {
   "name": "python3",
   "display_name": "Python 3.9.4 64-bit"
  },
  "interpreter": {
   "hash": "619a4b6c9039552e865d920db4ed48b8fb1911bc7fec15c9e538ffdfa22766ca"
  }
 },
 "nbformat": 4,
 "nbformat_minor": 2,
 "cells": [
  {
   "cell_type": "code",
   "execution_count": 1,
   "metadata": {},
   "outputs": [],
   "source": [
    "\n",
    "import numpy as np\n",
    "\n",
    "# sigmoid 함수\n",
    "def sigmoid(x):\n",
    "    return 1 / (1+np.exp(-x))\n",
    "\n",
    "# 수치미분 함수\n",
    "def numerical_derivative(f, x):\n",
    "    delta_x = 1e-4 # 0.0001\n",
    "    grad = np.zeros_like(x)\n",
    "    \n",
    "    it = np.nditer(x, flags=['multi_index'], op_flags=['readwrite'])\n",
    "    \n",
    "    while not it.finished:\n",
    "        idx = it.multi_index        \n",
    "        tmp_val = x[idx]\n",
    "        x[idx] = float(tmp_val) + delta_x\n",
    "        fx1 = f(x) # f(x+delta_x)\n",
    "        \n",
    "        x[idx] = tmp_val - delta_x \n",
    "        fx2 = f(x) # f(x-delta_x)\n",
    "        grad[idx] = (fx1 - fx2) / (2*delta_x)\n",
    "        \n",
    "        x[idx] = tmp_val \n",
    "        it.iternext()   \n",
    "        \n",
    "    return grad"
   ]
  },
  {
   "cell_type": "code",
   "execution_count": 2,
   "metadata": {},
   "outputs": [],
   "source": [
    "# LogicGate Class\n",
    "\n",
    "class LogicGate:\n",
    "    \n",
    "    def __init__(self, gate_name, xdata, tdata):  # xdata, tdata => numpy.array(...)\n",
    "        \n",
    "        self.name = gate_name\n",
    "        \n",
    "        # 입력 데이터, 정답 데이터 초기화\n",
    "        self.__xdata = xdata.reshape(4,2)\n",
    "        self.__tdata = tdata.reshape(4,1)\n",
    "        \n",
    "        # 가중치 W, 바이어스 b 초기화\n",
    "        self.__W = np.random.rand(2,1)  # weight, 2 X 1 matrix\n",
    "        self.__b = np.random.rand(1)\n",
    "                        \n",
    "        # 학습률 learning rate 초기화\n",
    "        self.__learning_rate = 1e-2\n",
    "        \n",
    "    # 손실함수\n",
    "    def __loss_func(self):\n",
    "        \n",
    "        delta = 1e-7    # log 무한대 발산 방지\n",
    "    \n",
    "        z = np.dot(self.__xdata, self.__W) + self.__b\n",
    "        y = sigmoid(z)\n",
    "    \n",
    "        # cross-entropy \n",
    "        return  -np.sum( self.__tdata*np.log(y + delta) + (1-self.__tdata)*np.log((1 - y)+delta ) )      \n",
    "    \n",
    "    # 손실 값 계산\n",
    "    def error_val(self):\n",
    "        \n",
    "        delta = 1e-7    # log 무한대 발산 방지\n",
    "    \n",
    "        z = np.dot(self.__xdata, self.__W) + self.__b\n",
    "        y = sigmoid(z)\n",
    "    \n",
    "        # cross-entropy \n",
    "        return  -np.sum( self.__tdata*np.log(y + delta) + (1-self.__tdata)*np.log((1 - y)+delta ) )\n",
    "\n",
    "    # 수치미분을 이용하여 손실함수가 최소가 될때 까지 학습하는 함수\n",
    "    def train(self):\n",
    "        \n",
    "        f = lambda x : self.__loss_func()\n",
    "        \n",
    "        print(\"Initial error value = \", self.error_val())\n",
    "        \n",
    "        for step in  range(8001):\n",
    "            \n",
    "            self.__W -= self.__learning_rate * numerical_derivative(f, self.__W)\n",
    "    \n",
    "            self.__b -= self.__learning_rate * numerical_derivative(f, self.__b)\n",
    "    \n",
    "            if (step % 400 == 0):\n",
    "                print(\"step = \", step, \"error value = \", self.error_val())\n",
    "                \n",
    "                \n",
    "    # 미래 값 예측 함수\n",
    "    def predict(self, input_data):\n",
    "        \n",
    "        z = np.dot(input_data, self.__W) + self.__b\n",
    "        y = sigmoid(z)\n",
    "    \n",
    "        if y > 0.5:\n",
    "            result = 1  # True\n",
    "        else:\n",
    "            result = 0  # False\n",
    "    \n",
    "        return y, result"
   ]
  },
  {
   "cell_type": "code",
   "execution_count": 3,
   "metadata": {},
   "outputs": [
    {
     "output_type": "stream",
     "name": "stdout",
     "text": [
      "Initial error value =  4.127863721320842\n",
      "step =  0 error value =  4.0837883324167255\n",
      "step =  400 error value =  1.6340919284569873\n",
      "step =  800 error value =  1.1912082824252086\n",
      "step =  1200 error value =  0.9486970266302797\n",
      "step =  1600 error value =  0.7916135202327527\n",
      "step =  2000 error value =  0.6799624182690969\n",
      "step =  2400 error value =  0.5959276941284588\n",
      "step =  2800 error value =  0.5301730001715154\n",
      "step =  3200 error value =  0.47724296840800284\n",
      "step =  3600 error value =  0.4336975660403783\n",
      "step =  4000 error value =  0.3972432501516935\n",
      "step =  4400 error value =  0.36628459768218\n",
      "step =  4800 error value =  0.33967409586427477\n",
      "step =  5200 error value =  0.31656373002692184\n",
      "step =  5600 error value =  0.2963125641499428\n",
      "step =  6000 error value =  0.27842686491257973\n",
      "step =  6400 error value =  0.2625200149353164\n",
      "step =  6800 error value =  0.24828492129680527\n",
      "step =  7200 error value =  0.2354745689606395\n",
      "step =  7600 error value =  0.22388803010456426\n",
      "step =  8000 error value =  0.21336021551349293\n"
     ]
    }
   ],
   "source": [
    "xdata = np.array([ [0, 0], [0, 1], [1, 0], [1, 1] ])\n",
    "tdata = np.array([0, 0, 0, 1])\n",
    "\n",
    "AND_obj = LogicGate(\"AND_GATE\", xdata, tdata)\n",
    "\n",
    "AND_obj.train()"
   ]
  },
  {
   "cell_type": "code",
   "execution_count": 4,
   "metadata": {},
   "outputs": [
    {
     "output_type": "stream",
     "name": "stdout",
     "text": [
      "AND_GATE \n\n[0 0]  =  0 \n\n[0 1]  =  0 \n\n[1 0]  =  0 \n\n[1 1]  =  1 \n\n"
     ]
    }
   ],
   "source": [
    "# AND Gate prediction\n",
    "print(AND_obj.name, \"\\n\")\n",
    "\n",
    "test_data = np.array([ [0, 0], [0, 1], [1, 0], [1, 1] ])\n",
    "\n",
    "for input_data in test_data:\n",
    "    (sigmoid_val, logical_val) = AND_obj.predict(input_data) \n",
    "    print(input_data, \" = \", logical_val, \"\\n\")"
   ]
  },
  {
   "cell_type": "code",
   "execution_count": 5,
   "metadata": {},
   "outputs": [
    {
     "output_type": "stream",
     "name": "stdout",
     "text": [
      "Initial error value =  1.7637557308826406\n",
      "step =  0 error value =  1.7612476347011745\n",
      "step =  400 error value =  1.1268245716018874\n",
      "step =  800 error value =  0.8133412059681394\n",
      "step =  1200 error value =  0.6302711916913505\n",
      "step =  1600 error value =  0.5113822356803689\n",
      "step =  2000 error value =  0.42847633043348227\n",
      "step =  2400 error value =  0.36765744889807683\n",
      "step =  2800 error value =  0.32130751726907864\n",
      "step =  3200 error value =  0.2849144024641978\n",
      "step =  3600 error value =  0.25564407172106024\n",
      "step =  4000 error value =  0.23163204320850264\n",
      "step =  4400 error value =  0.21160452507569913\n",
      "step =  4800 error value =  0.19466350203197835\n",
      "step =  5200 error value =  0.1801587989241132\n",
      "step =  5600 error value =  0.16760878998408144\n",
      "step =  6000 error value =  0.15664954332973788\n",
      "step =  6400 error value =  0.14700122368807536\n",
      "step =  6800 error value =  0.13844531554237274\n",
      "step =  7200 error value =  0.1308088259103701\n",
      "step =  7600 error value =  0.12395310369572546\n",
      "step =  8000 error value =  0.11776578161532449\n"
     ]
    }
   ],
   "source": [
    "xdata = np.array([ [0, 0], [0, 1], [1, 0], [1, 1] ])\n",
    "tdata = np.array([0, 1, 1, 1])\n",
    "\n",
    "OR_obj = LogicGate(\"OR_GATE\", xdata, tdata)\n",
    "\n",
    "OR_obj.train()"
   ]
  },
  {
   "cell_type": "code",
   "execution_count": 6,
   "metadata": {},
   "outputs": [
    {
     "output_type": "stream",
     "name": "stdout",
     "text": [
      "OR_GATE \n\n[0 0]  =  0 \n\n[0 1]  =  1 \n\n[1 0]  =  1 \n\n[1 1]  =  1 \n\n"
     ]
    }
   ],
   "source": [
    "# OR Gate prediction\n",
    "print(OR_obj.name, \"\\n\")\n",
    "\n",
    "test_data = np.array([ [0, 0], [0, 1], [1, 0], [1, 1] ])\n",
    "\n",
    "for input_data in test_data:\n",
    "    (sigmoid_val, logical_val) = OR_obj.predict(input_data) \n",
    "    print(input_data, \" = \", logical_val, \"\\n\")"
   ]
  },
  {
   "cell_type": "code",
   "execution_count": 7,
   "metadata": {},
   "outputs": [
    {
     "output_type": "stream",
     "name": "stdout",
     "text": [
      "Initial error value =  3.034403177033295\n",
      "step =  0 error value =  3.028438482562759\n",
      "step =  400 error value =  1.726650029016315\n",
      "step =  800 error value =  1.2355444145612235\n",
      "step =  1200 error value =  0.9754080174396436\n",
      "step =  1600 error value =  0.809815056115287\n",
      "step =  2000 error value =  0.6932944690584883\n",
      "step =  2400 error value =  0.6061625603348553\n",
      "step =  2800 error value =  0.5382950851359916\n",
      "step =  3200 error value =  0.4838508425305181\n",
      "step =  3600 error value =  0.43917960769713243\n",
      "step =  4000 error value =  0.4018639894715992\n",
      "step =  4400 error value =  0.37023112051625423\n",
      "step =  4800 error value =  0.34308276055477455\n",
      "step =  5200 error value =  0.3195364088894653\n",
      "step =  5600 error value =  0.29892695937900243\n",
      "step =  6000 error value =  0.28074330129123504\n",
      "step =  6400 error value =  0.2645860495918335\n",
      "step =  6800 error value =  0.25013855328553214\n",
      "step =  7200 error value =  0.23714652389665936\n",
      "step =  7600 error value =  0.22540341806718692\n",
      "step =  8000 error value =  0.21473975477534102\n"
     ]
    }
   ],
   "source": [
    "xdata = np.array([ [0, 0], [0, 1], [1, 0], [1, 1] ])\n",
    "tdata = np.array([1, 1, 1, 0])\n",
    "\n",
    "NAND_obj = LogicGate(\"NAND_GATE\", xdata, tdata)\n",
    "\n",
    "NAND_obj.train()"
   ]
  },
  {
   "cell_type": "code",
   "execution_count": 8,
   "metadata": {},
   "outputs": [
    {
     "output_type": "stream",
     "name": "stdout",
     "text": [
      "NAND_GATE \n\n[0 0]  =  1 \n\n[0 1]  =  1 \n\n[1 0]  =  1 \n\n[1 1]  =  0 \n\n"
     ]
    }
   ],
   "source": [
    "# NAND Gate prediction\n",
    "print(NAND_obj.name, \"\\n\")\n",
    "\n",
    "test_data = np.array([ [0, 0], [0, 1], [1, 0], [1, 1] ])\n",
    "\n",
    "for input_data in test_data:\n",
    "    (sigmoid_val, logical_val) = NAND_obj.predict(input_data) \n",
    "    print(input_data, \" = \", logical_val, \"\\n\")"
   ]
  },
  {
   "cell_type": "code",
   "execution_count": 9,
   "metadata": {},
   "outputs": [
    {
     "output_type": "stream",
     "name": "stdout",
     "text": [
      "Initial error value =  2.8252909821420853\n",
      "step =  0 error value =  2.823747345538308\n",
      "step =  400 error value =  2.7734229845583576\n",
      "step =  800 error value =  2.7728230455252687\n",
      "step =  1200 error value =  2.77265435508477\n",
      "step =  1600 error value =  2.772606722609355\n",
      "step =  2000 error value =  2.7725932468525016\n",
      "step =  2400 error value =  2.772589430834194\n",
      "step =  2800 error value =  2.7725883497387276\n",
      "step =  3200 error value =  2.7725880433930286\n",
      "step =  3600 error value =  2.772587956576073\n",
      "step =  4000 error value =  2.7725879319713322\n",
      "step =  4400 error value =  2.772587924997952\n",
      "step =  4800 error value =  2.7725879230215624\n",
      "step =  5200 error value =  2.7725879224614123\n",
      "step =  5600 error value =  2.7725879223026535\n",
      "step =  6000 error value =  2.7725879222576584\n",
      "step =  6400 error value =  2.772587922244905\n",
      "step =  6800 error value =  2.772587922241291\n",
      "step =  7200 error value =  2.7725879222402665\n",
      "step =  7600 error value =  2.7725879222399765\n",
      "step =  8000 error value =  2.772587922239894\n"
     ]
    }
   ],
   "source": [
    "xdata = np.array([ [0, 0], [0, 1], [1, 0], [1, 1] ])\n",
    "tdata = np.array([0, 1, 1, 0])\n",
    "\n",
    "\n",
    "XOR_obj = LogicGate(\"XOR_GATE\", xdata, tdata)\n",
    "\n",
    "# XOR Gate 를 보면, 손실함수 값이 2.7 근처에서 더 이상 감소하지 않는것을 볼수 있음\n",
    "XOR_obj.train()"
   ]
  },
  {
   "cell_type": "code",
   "execution_count": 10,
   "metadata": {},
   "outputs": [
    {
     "output_type": "stream",
     "name": "stdout",
     "text": [
      "XOR_GATE \n\n[0 0]  =  0 \n\n[0 1]  =  0 \n\n[1 0]  =  0 \n\n[1 1]  =  1 \n\n"
     ]
    }
   ],
   "source": [
    "# XOR Gate prediction => 예측이 되지 않음\n",
    "print(XOR_obj.name, \"\\n\")\n",
    "\n",
    "test_data = np.array([ [0, 0], [0, 1], [1, 0], [1, 1] ])\n",
    "\n",
    "for input_data in test_data:\n",
    "    (sigmoid_val, logical_val) = XOR_obj.predict(input_data) \n",
    "    print(input_data, \" = \", logical_val, \"\\n\")"
   ]
  },
  {
   "cell_type": "code",
   "execution_count": 11,
   "metadata": {},
   "outputs": [
    {
     "output_type": "stream",
     "name": "stdout",
     "text": [
      "[0 0]  =  0\n\n[0 1]  =  1\n\n[1 0]  =  1\n\n[1 1]  =  0\n\n"
     ]
    }
   ],
   "source": [
    "# XOR 을 NAND + OR => AND 조합으로 계산함\n",
    "input_data = np.array([ [0, 0], [0, 1], [1, 0], [1, 1] ])\n",
    "\n",
    "s1 = []    # NAND 출력\n",
    "s2 = []    # OR 출력\n",
    "\n",
    "new_input_data = []  # AND 입력\n",
    "final_output = []    # AND 출력\n",
    "\n",
    "for index in range(len(input_data)):\n",
    "    \n",
    "    s1 = NAND_obj.predict(input_data[index])  # NAND 출력\n",
    "    s2 = OR_obj.predict(input_data[index])    # OR 출력\n",
    "    \n",
    "    new_input_data.append(s1[-1])    # AND 입력\n",
    "    new_input_data.append(s2[-1])    # AND 입력\n",
    "    \n",
    "    (sigmoid_val, logical_val) = AND_obj.predict(np.array(new_input_data))\n",
    "    \n",
    "    final_output.append(logical_val)    # AND 출력, 즉 XOR 출력    \n",
    "    new_input_data = []    # AND 입력 초기화\n",
    "\n",
    "\n",
    "for index in range(len(input_data)):    \n",
    "    print(input_data[index], \" = \", final_output[index], end='')\n",
    "    print(\"\\n\")"
   ]
  }
 ]
}